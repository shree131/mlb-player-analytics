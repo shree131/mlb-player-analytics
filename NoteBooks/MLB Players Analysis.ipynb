{
 "cells": [
  {
   "cell_type": "markdown",
   "id": "861bb304-661c-4367-82b1-384301599cc7",
   "metadata": {},
   "source": [
    "<h1 align=\"center\">\n",
    "    Players Analysis in SQL and Python\n",
    "</h1>\n",
    "\n",
    "<h3 align=\"center\">\n",
    "    By: Shreeyasha Pandey\n",
    "</h3>\n",
    "\n",
    "---"
   ]
  },
  {
   "cell_type": "markdown",
   "id": "9ae95cd8-c927-4823-9fda-757a262cfaef",
   "metadata": {},
   "source": [
    "## ☰ Project Overview\n",
    "\n",
    "This project explores trends and patterns within a Major League Baseball (MLB) player dataset using SQL for data extraction and Python for analysis and visualization.\n",
    "\n",
    "The analysis focuses on player performance, salary distributions, and position-based trends to uncover key insights relevant for stakeholders such as recruiters, coaches, or sports data analysts.\n",
    "\n",
    "- **Tools:** PostgreSQL, Python (pandas, matplotlib, seaborn), Jupyter Notebook\n",
    "- **Topics Covered:** Position breakdowns, salary trends, performance metrics\n",
    "\n",
    "---"
   ]
  },
  {
   "cell_type": "markdown",
   "id": "9a89244f-d3ef-4d81-832f-26cabe6e556f",
   "metadata": {},
   "source": [
    "## ☰ Dataset Summary\n",
    "\n",
    "The data is stored in a PostgreSQL relational database containing tables such as:\n",
    "\n",
    "- `players`: Biographical information of each MLB player\n",
    "- `salaries`: Yearly salary records by player and team\n",
    "- `schools`: School and year attended by player\n",
    "- `schools_details`: School info (name, city, state, country)\n",
    "\n",
    "We’ll use SQL to extract and filter relevant slices of the data throughout the notebook.\n",
    "\n",
    "---\n"
   ]
  },
  {
   "cell_type": "markdown",
   "id": "e308f159-d845-424a-95a3-6c42c415f56d",
   "metadata": {},
   "source": [
    "## ☰ Table of Contents\n",
    "1. [Libraries and Database Setup](#1-libraries-and-database-setup)\n",
    "2. [Loading the Dataset](#2-loading-the-dataset)\n",
    "3. [School Analysis](#3-school-analysis)\n",
    "4. [Concluding Summary](#4-concluding-summary)\n",
    "\n",
    "---"
   ]
  },
  {
   "cell_type": "markdown",
   "id": "5038afea-1b18-4467-9845-85da48716cc7",
   "metadata": {},
   "source": [
    "## 1. Libraries and Database Setup <a class=\"anchor\" id=\"1-libraries-and-database-setup\"></a>"
   ]
  },
  {
   "cell_type": "markdown",
   "id": "a2539902-30af-4e95-a71e-50bfbdaff7d1",
   "metadata": {},
   "source": [
    "### Import Libraries"
   ]
  },
  {
   "cell_type": "code",
   "execution_count": 8,
   "id": "3d5b399e-c007-4b23-9902-7e15ea8a16c8",
   "metadata": {},
   "outputs": [],
   "source": [
    "import pandas as pd\n",
    "import seaborn as sns\n",
    "import matplotlib.pyplot as plt\n",
    "\n",
    "# Environment Variables and DB Connection\n",
    "import os\n",
    "from dotenv import load_dotenv\n",
    "from sqlalchemy import create_engine\n",
    "\n",
    "# Set global seaborn styles\n",
    "sns.set_style(\"whitegrid\", {\"axes.spines.right\": False, \"axes.spines.top\": False, \n",
    "                            \"axes.spines.left\": True,\"axes.spines.bottom\": True})"
   ]
  },
  {
   "cell_type": "markdown",
   "id": "a04e7734-7e26-44ab-b5b7-25a10c639eb4",
   "metadata": {},
   "source": [
    "### Create Database Engine"
   ]
  },
  {
   "cell_type": "code",
   "execution_count": 10,
   "id": "7f554937-ab1f-4fe6-9eae-769e83a5daae",
   "metadata": {},
   "outputs": [],
   "source": [
    "# Load from .env file\n",
    "load_dotenv()\n",
    "\n",
    "# Fetch credentials from environment\n",
    "DB_NAME = os.getenv(\"DB_NAME\")\n",
    "DB_USER = os.getenv(\"DB_USER\")\n",
    "DB_PASSWORD = os.getenv(\"DB_PASSWORD\")\n",
    "DB_HOST = os.getenv(\"DB_HOST\", \"localhost\")\n",
    "DB_PORT = os.getenv(\"DB_PORT\", \"5432\")\n",
    "\n",
    "# Create SQLAlchemy engine\n",
    "engine = create_engine(f'postgresql://{DB_USER}:{DB_PASSWORD}@{DB_HOST}:{DB_PORT}/{DB_NAME}')"
   ]
  },
  {
   "cell_type": "markdown",
   "id": "a3566536-14d5-435b-a79f-dc0a369c6158",
   "metadata": {},
   "source": [
    "## 2. Loading the Dataset <a class=\"anchor\" id=\"loading-the-dataset\"></a>\n",
    "The following section loads all necessary tables from the PostgreSQL database using SQL queries. Each table is previewed to give a sense of its structure and content.\n"
   ]
  },
  {
   "cell_type": "code",
   "execution_count": 13,
   "id": "981fd7c5-f445-4f51-884e-c5dcb945e747",
   "metadata": {},
   "outputs": [],
   "source": [
    "def load_table(table_name):\n",
    "    \"\"\"Load a table from the database into a pandas DataFrame.\"\"\"\n",
    "    query = f\"SELECT * FROM {table_name};\"\n",
    "    return pd.read_sql(query, con=engine)"
   ]
  },
  {
   "cell_type": "code",
   "execution_count": 14,
   "id": "b71a4724-2310-4a99-9083-7efb84f9973e",
   "metadata": {},
   "outputs": [],
   "source": [
    "# Load the tables\n",
    "players = load_table(\"players\")\n",
    "salaries = load_table(\"salaries\")\n",
    "school_details = load_table(\"school_details\")\n",
    "schools = load_table(\"schools\")"
   ]
  },
  {
   "cell_type": "code",
   "execution_count": 15,
   "id": "215ca5a1-b95a-43f9-9217-f986f21fdb12",
   "metadata": {},
   "outputs": [],
   "source": [
    "from IPython.display import display, Markdown\n",
    "\n",
    "def preview_table(df, table_name, n=2):\n",
    "    \"\"\"Preview the first and last few rows of a DataFrame.\"\"\"\n",
    "    display(Markdown(f\"**Preview of `{table_name}` table**:\"))\n",
    "    display(pd.concat([df.head(n), df.tail(n)]))"
   ]
  },
  {
   "cell_type": "markdown",
   "id": "3d670352-2c0b-483a-af9f-cd9f90487f7a",
   "metadata": {},
   "source": [
    "## 3. School-Based Analysis\n",
    "\n",
    "In this section, we analyze the role of educational institutions in producing Major League Baseball (MLB) players. Using data from the `schools` and `school_details` tables, we aim to explore patterns in player origins based on schools, states, and time periods. "
   ]
  },
  {
   "cell_type": "code",
   "execution_count": 17,
   "id": "f635277d-9ba4-4672-9da5-26a673cdff16",
   "metadata": {},
   "outputs": [
    {
     "data": {
      "text/markdown": [
       "**Preview of `schools` table**:"
      ],
      "text/plain": [
       "<IPython.core.display.Markdown object>"
      ]
     },
     "metadata": {},
     "output_type": "display_data"
    },
    {
     "data": {
      "text/html": [
       "<div>\n",
       "<style scoped>\n",
       "    .dataframe tbody tr th:only-of-type {\n",
       "        vertical-align: middle;\n",
       "    }\n",
       "\n",
       "    .dataframe tbody tr th {\n",
       "        vertical-align: top;\n",
       "    }\n",
       "\n",
       "    .dataframe thead th {\n",
       "        text-align: right;\n",
       "    }\n",
       "</style>\n",
       "<table border=\"1\" class=\"dataframe\">\n",
       "  <thead>\n",
       "    <tr style=\"text-align: right;\">\n",
       "      <th></th>\n",
       "      <th>playerid</th>\n",
       "      <th>schoolid</th>\n",
       "      <th>yearid</th>\n",
       "    </tr>\n",
       "  </thead>\n",
       "  <tbody>\n",
       "    <tr>\n",
       "      <th>0</th>\n",
       "      <td>aardsda01</td>\n",
       "      <td>pennst</td>\n",
       "      <td>2001</td>\n",
       "    </tr>\n",
       "    <tr>\n",
       "      <th>1</th>\n",
       "      <td>aardsda01</td>\n",
       "      <td>rice</td>\n",
       "      <td>2002</td>\n",
       "    </tr>\n",
       "    <tr>\n",
       "      <th>17348</th>\n",
       "      <td>zuvelpa01</td>\n",
       "      <td>stanford</td>\n",
       "      <td>1979</td>\n",
       "    </tr>\n",
       "    <tr>\n",
       "      <th>17349</th>\n",
       "      <td>zuvelpa01</td>\n",
       "      <td>stanford</td>\n",
       "      <td>1980</td>\n",
       "    </tr>\n",
       "  </tbody>\n",
       "</table>\n",
       "</div>"
      ],
      "text/plain": [
       "        playerid  schoolid  yearid\n",
       "0      aardsda01    pennst    2001\n",
       "1      aardsda01      rice    2002\n",
       "17348  zuvelpa01  stanford    1979\n",
       "17349  zuvelpa01  stanford    1980"
      ]
     },
     "metadata": {},
     "output_type": "display_data"
    },
    {
     "data": {
      "text/markdown": [
       "**Preview of `school_details` table**:"
      ],
      "text/plain": [
       "<IPython.core.display.Markdown object>"
      ]
     },
     "metadata": {},
     "output_type": "display_data"
    },
    {
     "data": {
      "text/html": [
       "<div>\n",
       "<style scoped>\n",
       "    .dataframe tbody tr th:only-of-type {\n",
       "        vertical-align: middle;\n",
       "    }\n",
       "\n",
       "    .dataframe tbody tr th {\n",
       "        vertical-align: top;\n",
       "    }\n",
       "\n",
       "    .dataframe thead th {\n",
       "        text-align: right;\n",
       "    }\n",
       "</style>\n",
       "<table border=\"1\" class=\"dataframe\">\n",
       "  <thead>\n",
       "    <tr style=\"text-align: right;\">\n",
       "      <th></th>\n",
       "      <th>schoolid</th>\n",
       "      <th>name_full</th>\n",
       "      <th>city</th>\n",
       "      <th>state</th>\n",
       "      <th>country</th>\n",
       "    </tr>\n",
       "  </thead>\n",
       "  <tbody>\n",
       "    <tr>\n",
       "      <th>0</th>\n",
       "      <td>abilchrist</td>\n",
       "      <td>Abilene Christian University</td>\n",
       "      <td>Abilene</td>\n",
       "      <td>TX</td>\n",
       "      <td>USA</td>\n",
       "    </tr>\n",
       "    <tr>\n",
       "      <th>1</th>\n",
       "      <td>adelphi</td>\n",
       "      <td>Adelphi University</td>\n",
       "      <td>Garden City</td>\n",
       "      <td>NY</td>\n",
       "      <td>USA</td>\n",
       "    </tr>\n",
       "    <tr>\n",
       "      <th>1205</th>\n",
       "      <td>yale</td>\n",
       "      <td>Yale University</td>\n",
       "      <td>New Haven</td>\n",
       "      <td>CT</td>\n",
       "      <td>USA</td>\n",
       "    </tr>\n",
       "    <tr>\n",
       "      <th>1206</th>\n",
       "      <td>youngst</td>\n",
       "      <td>Youngstown State University</td>\n",
       "      <td>Youngstown</td>\n",
       "      <td>OH</td>\n",
       "      <td>USA</td>\n",
       "    </tr>\n",
       "  </tbody>\n",
       "</table>\n",
       "</div>"
      ],
      "text/plain": [
       "        schoolid                     name_full         city state country\n",
       "0     abilchrist  Abilene Christian University      Abilene    TX     USA\n",
       "1        adelphi            Adelphi University  Garden City    NY     USA\n",
       "1205        yale               Yale University    New Haven    CT     USA\n",
       "1206     youngst   Youngstown State University   Youngstown    OH     USA"
      ]
     },
     "metadata": {},
     "output_type": "display_data"
    }
   ],
   "source": [
    "# Preview the tables\n",
    "preview_table(schools, \"schools\")\n",
    "preview_table(school_details, \"school_details\")"
   ]
  },
  {
   "cell_type": "markdown",
   "id": "a3dc3594-d91e-409e-b119-8c839b551f8d",
   "metadata": {},
   "source": [
    "### 📑 Section Goals:\n",
    "The following key questions will guide our analysis:\n",
    "\n",
    "1. **Top Player-Producing Schools:**  \n",
    "   Identify the top 5 schools that have produced the largest number of MLB players.\n",
    "\n",
    "2. **Geographic Distribution:**  \n",
    "   Analyze the locations of these schools — specifically, the states they are based in — to understand regional trends.\n",
    "\n",
    "3. **School Influence Over Time:**  \n",
    "   For each decade, determine how many unique schools produced MLB players. This helps capture the breadth of institutions involved across different eras.\n",
    "\n",
    "4. **Top Schools by Decade:**  \n",
    "   Identify the top 3 schools that produced the most players in each decade. This will highlight how school influence may have shifted over time.\n",
    "\n",
    "This analysis will help uncover historical and regional influences in player development and could potentially inform scouting strategies or historical retrospectives.\n",
    "\n",
    "---"
   ]
  },
  {
   "cell_type": "markdown",
   "id": "78602dbb-2e5c-4fad-a488-6d7ce9bcdb50",
   "metadata": {},
   "source": [
    "### Top Player-Producing Schools\n",
    "\n",
    "***SQL Query:***\n",
    "```sql\n",
    "SELECT sd.name_full AS school_name, s.players_produced\n",
    "FROM school_details AS sd\n",
    "RIGHT JOIN (\n",
    "\tSELECT schoolid, COUNT(DISTINCT playerid) AS players_produced\n",
    "\tFROM schools\n",
    "\tGROUP BY schoolid) AS s\n",
    "ON sd.schoolid = s.schoolid\n",
    "ORDER BY s.players_produced DESC\n",
    "LIMIT 5;\n"
   ]
  },
  {
   "cell_type": "markdown",
   "id": "69866cee-f4fb-4a98-8152-e41ab6156419",
   "metadata": {},
   "source": [
    "***Query Output:***"
   ]
  },
  {
   "cell_type": "code",
   "execution_count": 21,
   "id": "946cc4d6-7b98-4f62-b2a1-71fea5cc4b58",
   "metadata": {},
   "outputs": [
    {
     "data": {
      "text/html": [
       "<div>\n",
       "<style scoped>\n",
       "    .dataframe tbody tr th:only-of-type {\n",
       "        vertical-align: middle;\n",
       "    }\n",
       "\n",
       "    .dataframe tbody tr th {\n",
       "        vertical-align: top;\n",
       "    }\n",
       "\n",
       "    .dataframe thead th {\n",
       "        text-align: right;\n",
       "    }\n",
       "</style>\n",
       "<table border=\"1\" class=\"dataframe\">\n",
       "  <thead>\n",
       "    <tr style=\"text-align: right;\">\n",
       "      <th></th>\n",
       "      <th>school_name</th>\n",
       "      <th>players_produced</th>\n",
       "    </tr>\n",
       "  </thead>\n",
       "  <tbody>\n",
       "    <tr>\n",
       "      <th>0</th>\n",
       "      <td>University of Texas at Austin</td>\n",
       "      <td>107</td>\n",
       "    </tr>\n",
       "    <tr>\n",
       "      <th>1</th>\n",
       "      <td>University of Southern California</td>\n",
       "      <td>105</td>\n",
       "    </tr>\n",
       "    <tr>\n",
       "      <th>2</th>\n",
       "      <td>Arizona State University</td>\n",
       "      <td>101</td>\n",
       "    </tr>\n",
       "    <tr>\n",
       "      <th>3</th>\n",
       "      <td>Stanford University</td>\n",
       "      <td>86</td>\n",
       "    </tr>\n",
       "    <tr>\n",
       "      <th>4</th>\n",
       "      <td>University of Michigan</td>\n",
       "      <td>76</td>\n",
       "    </tr>\n",
       "  </tbody>\n",
       "</table>\n",
       "</div>"
      ],
      "text/plain": [
       "                         school_name  players_produced\n",
       "0      University of Texas at Austin               107\n",
       "1  University of Southern California               105\n",
       "2           Arizona State University               101\n",
       "3                Stanford University                86\n",
       "4             University of Michigan                76"
      ]
     },
     "execution_count": 21,
     "metadata": {},
     "output_type": "execute_result"
    }
   ],
   "source": [
    "query = \"\"\"\n",
    "    SELECT sd.name_full AS school_name, s.players_produced\n",
    "    FROM school_details AS sd\n",
    "    RIGHT JOIN (\n",
    "    \tSELECT schoolid, COUNT(DISTINCT playerid) AS players_produced\n",
    "    \tFROM schools\n",
    "    \tGROUP BY schoolid) AS s\n",
    "    ON sd.schoolid = s.schoolid\n",
    "    ORDER BY s.players_produced DESC\n",
    "    LIMIT 5;\n",
    "\"\"\"\n",
    "\n",
    "df_top_five_schools = pd.read_sql(query, con=engine)\n",
    "df_top_five_schools"
   ]
  },
  {
   "cell_type": "markdown",
   "id": "61217933-3a7a-4e0e-a421-957f54ce3dd8",
   "metadata": {},
   "source": [
    "**💡 Insights:**\n",
    "\n",
    "These schools stand out as major talent pipelines for Major League Baseball, with UT Austin and USC leading the list."
   ]
  },
  {
   "cell_type": "code",
   "execution_count": 23,
   "id": "3556c6eb-5efe-43da-95db-e6ae624c72aa",
   "metadata": {},
   "outputs": [
    {
     "data": {
      "image/png": "[encoded data removed]",
      "text/plain": [
       "<Figure size 800x500 with 1 Axes>"
      ]
     },
     "metadata": {},
     "output_type": "display_data"
    }
   ],
   "source": [
    "plt.figure(figsize=(8, 5))\n",
    "sns.barplot(data=df_top_five_schools, x=\"players_produced\", y=\"school_name\",\n",
    "            hue=\"school_name\", palette=\"viridis\", edgecolor=\".2\")\n",
    "\n",
    "# Add bar labels\n",
    "for index, value in enumerate(df_top_five_schools[\"players_produced\"]):\n",
    "    plt.text(value + 0.5, index, str(value), va='center', fontsize=10, fontweight='semibold')\n",
    "\n",
    "# Axis labels & title\n",
    "plt.xlabel(\"Number of Players Produced\", fontsize=12)\n",
    "plt.ylabel(\"School\", fontsize=12)\n",
    "plt.title(\"Top 5 Player-Producing Schools\", fontsize=14, weight='bold', pad=12)\n",
    "\n",
    "plt.tight_layout()\n",
    "plt.show()"
   ]
  },
  {
   "cell_type": "markdown",
   "id": "38d13041-8b74-4708-83e7-84d5bf5477ed",
   "metadata": {},
   "source": [
    "### Geographic Distribution\n",
    "Here, we focus on finding the state that most of the players attended school in."
   ]
  },
  {
   "cell_type": "markdown",
   "id": "edc2a640-f0ab-4555-b638-339fac39db33",
   "metadata": {},
   "source": [
    "## 4. Concluding Summary"
   ]
  }
 ],
 "metadata": {
  "kernelspec": {
   "display_name": "Python [conda env:base] *",
   "language": "python",
   "name": "conda-base-py"
  },
  "language_info": {
   "codemirror_mode": {
    "name": "ipython",
    "version": 3
   },
   "file_extension": ".py",
   "mimetype": "text/x-python",
   "name": "python",
   "nbconvert_exporter": "python",
   "pygments_lexer": "ipython3",
   "version": "3.12.7"
  }
 },
 "nbformat": 4,
 "nbformat_minor": 5
}
