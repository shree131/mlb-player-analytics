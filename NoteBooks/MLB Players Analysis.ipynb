{
 "cells": [
  {
   "cell_type": "markdown",
   "id": "861bb304-661c-4367-82b1-384301599cc7",
   "metadata": {},
   "source": [
    "<h1 align=\"center\">\n",
    "    Players Analysis in SQL and Python\n",
    "</h1>\n",
    "\n",
    "<h3 align=\"center\">\n",
    "    By: Shreeyasha Pandey\n",
    "</h3>\n",
    "\n",
    "---"
   ]
  },
  {
   "cell_type": "markdown",
   "id": "9ae95cd8-c927-4823-9fda-757a262cfaef",
   "metadata": {},
   "source": [
    "## ☰ Project Overview\n",
    "\n",
    "This project explores trends and patterns within a Major League Baseball (MLB) player dataset using SQL for data extraction and Python for analysis and visualization.\n",
    "\n",
    "The analysis focuses on player performance, salary distributions, and position-based trends to uncover key insights relevant for stakeholders such as recruiters, coaches, or sports data analysts.\n",
    "\n",
    "- **Tools:** PostgreSQL, Python (pandas, matplotlib, seaborn), Jupyter Notebook\n",
    "- **Topics Covered:** Position breakdowns, salary trends, performance metrics\n",
    "\n",
    "---"
   ]
  },
  {
   "cell_type": "markdown",
   "id": "9a89244f-d3ef-4d81-832f-26cabe6e556f",
   "metadata": {},
   "source": [
    "## ☰ Dataset Summary\n",
    "\n",
    "The data is stored in a PostgreSQL relational database containing tables such as:\n",
    "\n",
    "- `players`: Biographical information of each MLB player\n",
    "- `salaries`: Yearly salary records by player and team\n",
    "- `schools`: School and year attended by player\n",
    "- `schools_details`: School info (name, city, state, country)\n",
    "\n",
    "We’ll use SQL to extract and filter relevant slices of the data throughout the notebook.\n",
    "\n",
    "---\n"
   ]
  },
  {
   "cell_type": "markdown",
   "id": "e308f159-d845-424a-95a3-6c42c415f56d",
   "metadata": {},
   "source": [
    "## ☰ Table of Contents\n",
    "1. [Libraries and Database Setup](#1-libraries-and-database-setup)\n",
    "2. [Loading the Dataset](#2-loading-the-dataset)\n",
    "3. [School Analysis](#3-school-analysis)\n",
    "4. [Concluding Summary](#4-concluding-summary)\n",
    "\n",
    "---"
   ]
  },
  {
   "cell_type": "markdown",
   "id": "5038afea-1b18-4467-9845-85da48716cc7",
   "metadata": {},
   "source": [
    "## 1. Libraries and Database Setup <a class=\"anchor\" id=\"1-libraries-and-database-setup\"></a>"
   ]
  },
  {
   "cell_type": "markdown",
   "id": "a2539902-30af-4e95-a71e-50bfbdaff7d1",
   "metadata": {},
   "source": [
    "### Import Libraries"
   ]
  },
  {
   "cell_type": "code",
   "execution_count": 7,
   "id": "3d5b399e-c007-4b23-9902-7e15ea8a16c8",
   "metadata": {},
   "outputs": [],
   "source": [
    "import pandas as pd\n",
    "import seaborn as sns\n",
    "import matplotlib.pyplot as plt\n",
    "from IPython.display import display, Markdown\n",
    "\n",
    "# Environment Variables and DB Connection\n",
    "import os\n",
    "from dotenv import load_dotenv\n",
    "from sqlalchemy import create_engine\n",
    "\n",
    "# Set global seaborn styles\n",
    "sns.set_style(\"white\", {\"axes.spines.right\": False, \"axes.spines.top\": False, \n",
    "                            \"axes.spines.left\": True,\"axes.spines.bottom\": True})"
   ]
  },
  {
   "cell_type": "markdown",
   "id": "a04e7734-7e26-44ab-b5b7-25a10c639eb4",
   "metadata": {},
   "source": [
    "### Create Database Engine"
   ]
  },
  {
   "cell_type": "code",
   "execution_count": 9,
   "id": "7f554937-ab1f-4fe6-9eae-769e83a5daae",
   "metadata": {},
   "outputs": [],
   "source": [
    "# Load from .env file\n",
    "load_dotenv()\n",
    "\n",
    "# Fetch credentials from environment\n",
    "DB_NAME = os.getenv(\"DB_NAME\")\n",
    "DB_USER = os.getenv(\"DB_USER\")\n",
    "DB_PASSWORD = os.getenv(\"DB_PASSWORD\")\n",
    "DB_HOST = os.getenv(\"DB_HOST\", \"localhost\")\n",
    "DB_PORT = os.getenv(\"DB_PORT\", \"5432\")\n",
    "\n",
    "# Create SQLAlchemy engine\n",
    "engine = create_engine(f'postgresql://{DB_USER}:{DB_PASSWORD}@{DB_HOST}:{DB_PORT}/{DB_NAME}')"
   ]
  },
  {
   "cell_type": "markdown",
   "id": "a3566536-14d5-435b-a79f-dc0a369c6158",
   "metadata": {},
   "source": [
    "---\n",
    "## 2. Loading the Dataset <a class=\"anchor\" id=\"loading-the-dataset\"></a>\n",
    "The following section loads all necessary tables from the PostgreSQL database using SQL queries. Each table is previewed to give a sense of its structure and content.\n"
   ]
  },
  {
   "cell_type": "code",
   "execution_count": 11,
   "id": "981fd7c5-f445-4f51-884e-c5dcb945e747",
   "metadata": {},
   "outputs": [],
   "source": [
    "def load_table(table_name):\n",
    "    \"\"\"Load a table from the database into a pandas DataFrame.\"\"\"\n",
    "    query = f\"SELECT * FROM {table_name};\"\n",
    "    return pd.read_sql(query, con=engine)"
   ]
  },
  {
   "cell_type": "code",
   "execution_count": 12,
   "id": "b71a4724-2310-4a99-9083-7efb84f9973e",
   "metadata": {},
   "outputs": [],
   "source": [
    "# Load the tables\n",
    "players = load_table(\"players\")\n",
    "salaries = load_table(\"salaries\")\n",
    "school_details = load_table(\"school_details\")\n",
    "schools = load_table(\"schools\")"
   ]
  },
  {
   "cell_type": "markdown",
   "id": "b74e4741-1d7d-4ec0-bf0f-3ce11a03ff88",
   "metadata": {},
   "source": [
    "Next, we'll define a small helper function that formats and displays the first and last few rows of a DataFrame. This allows us to get a quick sense of the table's structure and content throughout the analysis."
   ]
  },
  {
   "cell_type": "code",
   "execution_count": 14,
   "id": "215ca5a1-b95a-43f9-9217-f986f21fdb12",
   "metadata": {},
   "outputs": [],
   "source": [
    "def preview_table(df, table_name, n=2):\n",
    "    \"\"\"Preview the first and last few rows of a DataFrame with ellipsis in between.\"\"\"\n",
    "    ellipsis_row = pd.DataFrame({col: '...' for col in df.columns}, index=['...'])\n",
    "    \n",
    "    display(Markdown(f\"**Preview of `{table_name}`:**\"))\n",
    "    preview_df = pd.concat([df.head(n), ellipsis_row, df.tail(n)])\n",
    "    display(preview_df)"
   ]
  },
  {
   "cell_type": "markdown",
   "id": "3d670352-2c0b-483a-af9f-cd9f90487f7a",
   "metadata": {},
   "source": [
    "---\n",
    "## 3. School-Based Analysis\n",
    "\n",
    "In this section, we analyze the role of educational institutions in producing Major League Baseball (MLB) players. Using data from the `schools` and `school_details` tables, we aim to explore patterns in player origins based on schools, states, and time periods. "
   ]
  },
  {
   "cell_type": "code",
   "execution_count": 16,
   "id": "f635277d-9ba4-4672-9da5-26a673cdff16",
   "metadata": {},
   "outputs": [
    {
     "data": {
      "text/markdown": [
       "**Preview of `schools`:**"
      ],
      "text/plain": [
       "<IPython.core.display.Markdown object>"
      ]
     },
     "metadata": {},
     "output_type": "display_data"
    },
    {
     "data": {
      "text/html": [
       "<div>\n",
       "<style scoped>\n",
       "    .dataframe tbody tr th:only-of-type {\n",
       "        vertical-align: middle;\n",
       "    }\n",
       "\n",
       "    .dataframe tbody tr th {\n",
       "        vertical-align: top;\n",
       "    }\n",
       "\n",
       "    .dataframe thead th {\n",
       "        text-align: right;\n",
       "    }\n",
       "</style>\n",
       "<table border=\"1\" class=\"dataframe\">\n",
       "  <thead>\n",
       "    <tr style=\"text-align: right;\">\n",
       "      <th></th>\n",
       "      <th>playerid</th>\n",
       "      <th>schoolid</th>\n",
       "      <th>yearid</th>\n",
       "    </tr>\n",
       "  </thead>\n",
       "  <tbody>\n",
       "    <tr>\n",
       "      <th>0</th>\n",
       "      <td>aardsda01</td>\n",
       "      <td>pennst</td>\n",
       "      <td>2001</td>\n",
       "    </tr>\n",
       "    <tr>\n",
       "      <th>1</th>\n",
       "      <td>aardsda01</td>\n",
       "      <td>rice</td>\n",
       "      <td>2002</td>\n",
       "    </tr>\n",
       "    <tr>\n",
       "      <th>...</th>\n",
       "      <td>...</td>\n",
       "      <td>...</td>\n",
       "      <td>...</td>\n",
       "    </tr>\n",
       "    <tr>\n",
       "      <th>17348</th>\n",
       "      <td>zuvelpa01</td>\n",
       "      <td>stanford</td>\n",
       "      <td>1979</td>\n",
       "    </tr>\n",
       "    <tr>\n",
       "      <th>17349</th>\n",
       "      <td>zuvelpa01</td>\n",
       "      <td>stanford</td>\n",
       "      <td>1980</td>\n",
       "    </tr>\n",
       "  </tbody>\n",
       "</table>\n",
       "</div>"
      ],
      "text/plain": [
       "        playerid  schoolid yearid\n",
       "0      aardsda01    pennst   2001\n",
       "1      aardsda01      rice   2002\n",
       "...          ...       ...    ...\n",
       "17348  zuvelpa01  stanford   1979\n",
       "17349  zuvelpa01  stanford   1980"
      ]
     },
     "metadata": {},
     "output_type": "display_data"
    },
    {
     "data": {
      "text/markdown": [
       "**Preview of `school_details`:**"
      ],
      "text/plain": [
       "<IPython.core.display.Markdown object>"
      ]
     },
     "metadata": {},
     "output_type": "display_data"
    },
    {
     "data": {
      "text/html": [
       "<div>\n",
       "<style scoped>\n",
       "    .dataframe tbody tr th:only-of-type {\n",
       "        vertical-align: middle;\n",
       "    }\n",
       "\n",
       "    .dataframe tbody tr th {\n",
       "        vertical-align: top;\n",
       "    }\n",
       "\n",
       "    .dataframe thead th {\n",
       "        text-align: right;\n",
       "    }\n",
       "</style>\n",
       "<table border=\"1\" class=\"dataframe\">\n",
       "  <thead>\n",
       "    <tr style=\"text-align: right;\">\n",
       "      <th></th>\n",
       "      <th>schoolid</th>\n",
       "      <th>name_full</th>\n",
       "      <th>city</th>\n",
       "      <th>state</th>\n",
       "      <th>country</th>\n",
       "    </tr>\n",
       "  </thead>\n",
       "  <tbody>\n",
       "    <tr>\n",
       "      <th>0</th>\n",
       "      <td>abilchrist</td>\n",
       "      <td>Abilene Christian University</td>\n",
       "      <td>Abilene</td>\n",
       "      <td>TX</td>\n",
       "      <td>USA</td>\n",
       "    </tr>\n",
       "    <tr>\n",
       "      <th>1</th>\n",
       "      <td>adelphi</td>\n",
       "      <td>Adelphi University</td>\n",
       "      <td>Garden City</td>\n",
       "      <td>NY</td>\n",
       "      <td>USA</td>\n",
       "    </tr>\n",
       "    <tr>\n",
       "      <th>...</th>\n",
       "      <td>...</td>\n",
       "      <td>...</td>\n",
       "      <td>...</td>\n",
       "      <td>...</td>\n",
       "      <td>...</td>\n",
       "    </tr>\n",
       "    <tr>\n",
       "      <th>1205</th>\n",
       "      <td>yale</td>\n",
       "      <td>Yale University</td>\n",
       "      <td>New Haven</td>\n",
       "      <td>CT</td>\n",
       "      <td>USA</td>\n",
       "    </tr>\n",
       "    <tr>\n",
       "      <th>1206</th>\n",
       "      <td>youngst</td>\n",
       "      <td>Youngstown State University</td>\n",
       "      <td>Youngstown</td>\n",
       "      <td>OH</td>\n",
       "      <td>USA</td>\n",
       "    </tr>\n",
       "  </tbody>\n",
       "</table>\n",
       "</div>"
      ],
      "text/plain": [
       "        schoolid                     name_full         city state country\n",
       "0     abilchrist  Abilene Christian University      Abilene    TX     USA\n",
       "1        adelphi            Adelphi University  Garden City    NY     USA\n",
       "...          ...                           ...          ...   ...     ...\n",
       "1205        yale               Yale University    New Haven    CT     USA\n",
       "1206     youngst   Youngstown State University   Youngstown    OH     USA"
      ]
     },
     "metadata": {},
     "output_type": "display_data"
    }
   ],
   "source": [
    "# Preview the tables\n",
    "preview_table(schools, \"schools\")\n",
    "preview_table(school_details, \"school_details\")"
   ]
  },
  {
   "cell_type": "markdown",
   "id": "a3dc3594-d91e-409e-b119-8c839b551f8d",
   "metadata": {},
   "source": [
    "### 📑 Section Goals:\n",
    "The following key questions will guide our analysis:\n",
    "\n",
    "1. **Top Player-Producing Schools:**  \n",
    "   Identify the top 5 schools that have produced the largest number of MLB players.\n",
    "\n",
    "2. **Geographic Distribution:**  \n",
    "   Analyze the locations of these schools — specifically, the states they are based in — to understand regional trends.\n",
    "\n",
    "3. **Trends in Schools Influence to MLB Talent:**  \n",
    "   For each decade, determine how many unique schools produced MLB players. This helps capture the breadth of institutions involved across different eras.\n",
    "\n",
    "4. **Top MLB Producers by Decade:**  \n",
    "   Identify the top 3 schools that produced the most players in each decade. This will highlight how school influence may have shifted over time.\n",
    "\n",
    "This analysis will help uncover historical and regional influences in player development and could potentially inform scouting strategies or historical retrospectives."
   ]
  },
  {
   "cell_type": "markdown",
   "id": "78602dbb-2e5c-4fad-a488-6d7ce9bcdb50",
   "metadata": {},
   "source": [
    "### 3.1 Top Player-Producing Schools\n",
    "\n",
    "***SQL Query:***\n",
    "```sql\n",
    "SELECT sd.name_full AS school_name, s.players_produced\n",
    "FROM school_details AS sd\n",
    "RIGHT JOIN (\n",
    "\tSELECT schoolid, COUNT(DISTINCT playerid) AS players_produced\n",
    "\tFROM schools\n",
    "\tGROUP BY schoolid) AS s\n",
    "ON sd.schoolid = s.schoolid\n",
    "ORDER BY s.players_produced DESC\n",
    "LIMIT 5;\n"
   ]
  },
  {
   "cell_type": "markdown",
   "id": "69866cee-f4fb-4a98-8152-e41ab6156419",
   "metadata": {},
   "source": [
    "***Query Result:***"
   ]
  },
  {
   "cell_type": "code",
   "execution_count": 20,
   "id": "946cc4d6-7b98-4f62-b2a1-71fea5cc4b58",
   "metadata": {
    "jupyter": {
     "source_hidden": true
    }
   },
   "outputs": [],
   "source": [
    "# Hidden query execution\n",
    "query = \"\"\"\n",
    "    SELECT sd.name_full AS school_name, s.players_produced\n",
    "    FROM school_details AS sd\n",
    "    RIGHT JOIN (\n",
    "    \tSELECT schoolid, COUNT(DISTINCT playerid) AS players_produced\n",
    "    \tFROM schools\n",
    "    \tGROUP BY schoolid) AS s\n",
    "    ON sd.schoolid = s.schoolid\n",
    "    ORDER BY s.players_produced DESC\n",
    "    LIMIT 5;\n",
    "\"\"\""
   ]
  },
  {
   "cell_type": "code",
   "execution_count": 21,
   "id": "6c703cef-4155-4e5d-8cea-df943767bdf2",
   "metadata": {},
   "outputs": [
    {
     "data": {
      "text/html": [
       "<div>\n",
       "<style scoped>\n",
       "    .dataframe tbody tr th:only-of-type {\n",
       "        vertical-align: middle;\n",
       "    }\n",
       "\n",
       "    .dataframe tbody tr th {\n",
       "        vertical-align: top;\n",
       "    }\n",
       "\n",
       "    .dataframe thead th {\n",
       "        text-align: right;\n",
       "    }\n",
       "</style>\n",
       "<table border=\"1\" class=\"dataframe\">\n",
       "  <thead>\n",
       "    <tr style=\"text-align: right;\">\n",
       "      <th></th>\n",
       "      <th>school_name</th>\n",
       "      <th>players_produced</th>\n",
       "    </tr>\n",
       "  </thead>\n",
       "  <tbody>\n",
       "    <tr>\n",
       "      <th>0</th>\n",
       "      <td>University of Texas at Austin</td>\n",
       "      <td>107</td>\n",
       "    </tr>\n",
       "    <tr>\n",
       "      <th>1</th>\n",
       "      <td>University of Southern California</td>\n",
       "      <td>105</td>\n",
       "    </tr>\n",
       "    <tr>\n",
       "      <th>2</th>\n",
       "      <td>Arizona State University</td>\n",
       "      <td>101</td>\n",
       "    </tr>\n",
       "    <tr>\n",
       "      <th>3</th>\n",
       "      <td>Stanford University</td>\n",
       "      <td>86</td>\n",
       "    </tr>\n",
       "    <tr>\n",
       "      <th>4</th>\n",
       "      <td>University of Michigan</td>\n",
       "      <td>76</td>\n",
       "    </tr>\n",
       "  </tbody>\n",
       "</table>\n",
       "</div>"
      ],
      "text/plain": [
       "                         school_name  players_produced\n",
       "0      University of Texas at Austin               107\n",
       "1  University of Southern California               105\n",
       "2           Arizona State University               101\n",
       "3                Stanford University                86\n",
       "4             University of Michigan                76"
      ]
     },
     "execution_count": 21,
     "metadata": {},
     "output_type": "execute_result"
    }
   ],
   "source": [
    "# Run query and preview result\n",
    "df_top_five_schools = pd.read_sql(query, con=engine)\n",
    "df_top_five_schools"
   ]
  },
  {
   "cell_type": "markdown",
   "id": "61217933-3a7a-4e0e-a421-957f54ce3dd8",
   "metadata": {},
   "source": [
    "**💡 Insights:**\n",
    "\n",
    "These schools stand out as major talent pipelines for Major League Baseball, with UT Austin and USC leading the list."
   ]
  },
  {
   "cell_type": "code",
   "execution_count": 23,
   "id": "3556c6eb-5efe-43da-95db-e6ae624c72aa",
   "metadata": {},
   "outputs": [
    {
     "data": {
      "image/png": "[encoded data removed]",
      "text/plain": [
       "<Figure size 700x400 with 1 Axes>"
      ]
     },
     "metadata": {},
     "output_type": "display_data"
    }
   ],
   "source": [
    "plt.figure(figsize=(7, 4))\n",
    "sns.barplot(data=df_top_five_schools, x=\"players_produced\", y=\"school_name\",\n",
    "            hue=\"school_name\", palette=\"viridis\", edgecolor=\".2\")\n",
    "\n",
    "# Add bar labels\n",
    "for index, value in enumerate(df_top_five_schools[\"players_produced\"]):\n",
    "    plt.text(value + 0.5, index, str(value), va='center', fontsize=10, fontweight='semibold')\n",
    "\n",
    "# Axis labels & title\n",
    "plt.xlabel(\"Number of Players Produced\", fontsize=12)\n",
    "plt.ylabel(\"School\", fontsize=12)\n",
    "plt.title(\"Top 5 Player-Producing Schools\", fontsize=13, weight='bold', pad=12)\n",
    "\n",
    "plt.tight_layout()\n",
    "plt.show()"
   ]
  },
  {
   "cell_type": "markdown",
   "id": "38d13041-8b74-4708-83e7-84d5bf5477ed",
   "metadata": {},
   "source": [
    "---\n",
    "### 3.2 Geographic Distribution\n",
    "In this section, we analyze the geographic distribution of MLB players based on the states where they attended school. The goal is to identify which states have historically produced the highest number of professional baseball players.\n",
    "\n",
    "***SQL Query:***\n",
    "```sql\n",
    "SELECT sd.state, COUNT(DISTINCT playerid) AS num_players\n",
    "FROM schools AS s\n",
    "LEFT JOIN school_details AS sd\n",
    "ON s.schoolid = sd.schoolid\n",
    "GROUP BY sd.state\n",
    "ORDER BY num_players DESC\n",
    "LIMIT 3;"
   ]
  },
  {
   "cell_type": "markdown",
   "id": "255ffe51-a67f-4c23-b752-3d7f22677b89",
   "metadata": {},
   "source": [
    "***Query Result:***"
   ]
  },
  {
   "cell_type": "code",
   "execution_count": 26,
   "id": "92f19fa6-81d0-404b-9cc6-3580b7cffdf8",
   "metadata": {
    "jupyter": {
     "source_hidden": true
    }
   },
   "outputs": [],
   "source": [
    "# Hidden query execution\n",
    "query = \"\"\"\n",
    "    SELECT sd.state, COUNT(DISTINCT playerid) AS num_players\n",
    "    FROM schools AS s\n",
    "    LEFT JOIN school_details AS sd\n",
    "    ON s.schoolid = sd.schoolid\n",
    "    GROUP BY sd.state\n",
    "    ORDER BY num_players DESC\n",
    "    LIMIT 3;\n",
    "\"\"\""
   ]
  },
  {
   "cell_type": "code",
   "execution_count": 27,
   "id": "8eb1d5ca-784a-447e-94f1-6705eec97b63",
   "metadata": {},
   "outputs": [
    {
     "data": {
      "text/html": [
       "<div>\n",
       "<style scoped>\n",
       "    .dataframe tbody tr th:only-of-type {\n",
       "        vertical-align: middle;\n",
       "    }\n",
       "\n",
       "    .dataframe tbody tr th {\n",
       "        vertical-align: top;\n",
       "    }\n",
       "\n",
       "    .dataframe thead th {\n",
       "        text-align: right;\n",
       "    }\n",
       "</style>\n",
       "<table border=\"1\" class=\"dataframe\">\n",
       "  <thead>\n",
       "    <tr style=\"text-align: right;\">\n",
       "      <th></th>\n",
       "      <th>state</th>\n",
       "      <th>num_players</th>\n",
       "    </tr>\n",
       "  </thead>\n",
       "  <tbody>\n",
       "    <tr>\n",
       "      <th>0</th>\n",
       "      <td>CA</td>\n",
       "      <td>1247</td>\n",
       "    </tr>\n",
       "    <tr>\n",
       "      <th>1</th>\n",
       "      <td>TX</td>\n",
       "      <td>536</td>\n",
       "    </tr>\n",
       "    <tr>\n",
       "      <th>2</th>\n",
       "      <td>FL</td>\n",
       "      <td>473</td>\n",
       "    </tr>\n",
       "  </tbody>\n",
       "</table>\n",
       "</div>"
      ],
      "text/plain": [
       "  state  num_players\n",
       "0    CA         1247\n",
       "1    TX          536\n",
       "2    FL          473"
      ]
     },
     "execution_count": 27,
     "metadata": {},
     "output_type": "execute_result"
    }
   ],
   "source": [
    "# Run query and preview result\n",
    "df_top_three_states = pd.read_sql(query, con=engine)\n",
    "df_top_three_states"
   ]
  },
  {
   "cell_type": "markdown",
   "id": "08c68aeb-d1e5-438c-bf2c-bd4fdd500b17",
   "metadata": {},
   "source": [
    "**💡 Insights:**\n",
    "\n",
    "California stands out as the top contributor for producing MLB players (1,247), with Texas (536) and Florida (473) trailing behind. The substantial gap suggests California as a stronger baseball pipeline."
   ]
  },
  {
   "cell_type": "code",
   "execution_count": 111,
   "id": "3e065872-d24c-4c9c-9a09-c42bb39c0776",
   "metadata": {},
   "outputs": [
    {
     "data": {
      "image/png": "[encoded data removed]",
      "text/plain": [
       "<Figure size 600x300 with 1 Axes>"
      ]
     },
     "metadata": {},
     "output_type": "display_data"
    }
   ],
   "source": [
    "plt.figure(figsize=(6, 3))\n",
    "sns.barplot(data=df_top_three_states, x=\"state\", y=\"num_players\",\n",
    "            hue='state', palette=\"viridis\", \n",
    "            edgecolor=\"black\", width=0.5)\n",
    "\n",
    "# Annotate bars\n",
    "for index, value in enumerate(df_top_three_states[\"num_players\"]):\n",
    "    plt.text(x=index, y=value + 10, s=f\"{value:,}\", ha=\"center\", va=\"bottom\", fontsize=10, weight='bold')\n",
    "\n",
    "# Axis & title\n",
    "plt.title(\"Top 3 Player-Producing States\", fontsize=13, weight='bold', pad=12)\n",
    "plt.xlabel(\"State\", fontsize=12)\n",
    "plt.ylabel(\"Number of Players\", fontsize=12)\n",
    "\n",
    "plt.tight_layout()\n",
    "plt.show()"
   ]
  },
  {
   "cell_type": "markdown",
   "id": "95f3bf77-d879-485e-b665-917faaafe7a1",
   "metadata": {},
   "source": [
    "---\n",
    "### 3.3 Trends in Schools Influence to MLB Talent\n",
    "We now examine how the number of unique schools contributing MLB players has changed across decades. This helps highlight how the talent pipeline has expanded or concentrated over time.\n",
    "\n",
    "***SQL Query:***\n",
    "```sql\n",
    "SELECT FLOOR(yearid/10) * 10 AS decade, COUNT(DISTINCT schoolid) AS num_schools\n",
    "FROM schools\n",
    "GROUP BY decade\n",
    "ORDER BY decade;"
   ]
  },
  {
   "cell_type": "markdown",
   "id": "4a5eafa4-9644-44b9-b232-4b811a7ff03e",
   "metadata": {},
   "source": [
    "***Query Result:***"
   ]
  },
  {
   "cell_type": "code",
   "execution_count": 32,
   "id": "bbb7c966-a0b6-485c-9d7d-10e7019e73d2",
   "metadata": {
    "jupyter": {
     "source_hidden": true
    }
   },
   "outputs": [],
   "source": [
    "# Hidden query execution\n",
    "query = \"\"\"\n",
    "    SELECT FLOOR(yearid/10) * 10 AS decade, COUNT(DISTINCT schoolid) AS num_schools\n",
    "    FROM schools\n",
    "    GROUP BY decade\n",
    "    ORDER BY decade;\n",
    "\"\"\""
   ]
  },
  {
   "cell_type": "code",
   "execution_count": 33,
   "id": "d8f67894-d6f2-441b-b8c5-7b62a10ac0d1",
   "metadata": {},
   "outputs": [
    {
     "data": {
      "text/markdown": [
       "**Preview of `df_school_decades`:**"
      ],
      "text/plain": [
       "<IPython.core.display.Markdown object>"
      ]
     },
     "metadata": {},
     "output_type": "display_data"
    },
    {
     "data": {
      "text/html": [
       "<div>\n",
       "<style scoped>\n",
       "    .dataframe tbody tr th:only-of-type {\n",
       "        vertical-align: middle;\n",
       "    }\n",
       "\n",
       "    .dataframe tbody tr th {\n",
       "        vertical-align: top;\n",
       "    }\n",
       "\n",
       "    .dataframe thead th {\n",
       "        text-align: right;\n",
       "    }\n",
       "</style>\n",
       "<table border=\"1\" class=\"dataframe\">\n",
       "  <thead>\n",
       "    <tr style=\"text-align: right;\">\n",
       "      <th></th>\n",
       "      <th>decade</th>\n",
       "      <th>num_schools</th>\n",
       "    </tr>\n",
       "  </thead>\n",
       "  <tbody>\n",
       "    <tr>\n",
       "      <th>0</th>\n",
       "      <td>1860.0</td>\n",
       "      <td>2</td>\n",
       "    </tr>\n",
       "    <tr>\n",
       "      <th>1</th>\n",
       "      <td>1870.0</td>\n",
       "      <td>14</td>\n",
       "    </tr>\n",
       "    <tr>\n",
       "      <th>...</th>\n",
       "      <td>...</td>\n",
       "      <td>...</td>\n",
       "    </tr>\n",
       "    <tr>\n",
       "      <th>14</th>\n",
       "      <td>2000.0</td>\n",
       "      <td>372</td>\n",
       "    </tr>\n",
       "    <tr>\n",
       "      <th>15</th>\n",
       "      <td>2010.0</td>\n",
       "      <td>57</td>\n",
       "    </tr>\n",
       "  </tbody>\n",
       "</table>\n",
       "</div>"
      ],
      "text/plain": [
       "     decade num_schools\n",
       "0    1860.0           2\n",
       "1    1870.0          14\n",
       "...     ...         ...\n",
       "14   2000.0         372\n",
       "15   2010.0          57"
      ]
     },
     "metadata": {},
     "output_type": "display_data"
    }
   ],
   "source": [
    "# Run query and preview result\n",
    "df_school_decades = pd.read_sql(query, con=engine)\n",
    "preview_table(df_school_decades, \"df_school_decades\")"
   ]
  },
  {
   "cell_type": "markdown",
   "id": "43d63ad2-2132-48d5-81b0-d8036c78d530",
   "metadata": {},
   "source": [
    "**💡 Insights:**\n",
    "\n",
    "- From the 1860s through the early 20th century, there was a **steady rise** in the number of schools contributing players to Major League Baseball.\n",
    "  \n",
    "- The trend **accelerated sharply** beginning in the 1960s, reaching a peak in the 1990s with nearly 500 schools represented.\n",
    "\n",
    "- After the 1990s, there is a **notable decline** in the number of contributing schools. It is possible that fewer schools now produce more players."
   ]
  },
  {
   "cell_type": "code",
   "execution_count": 35,
   "id": "5582e50e-eecb-40ee-ab91-9a2e432b563f",
   "metadata": {},
   "outputs": [
    {
     "data": {
      "image/png": "[encoded data removed]",
      "text/plain": [
       "<Figure size 700x300 with 1 Axes>"
      ]
     },
     "metadata": {},
     "output_type": "display_data"
    }
   ],
   "source": [
    "plt.figure(figsize=(7, 3))\n",
    "sns.lineplot(data=df_school_decades, x='decade', y='num_schools', marker='o', linewidth=2.5, color='navy')\n",
    "\n",
    "# Axis and Title\n",
    "plt.title(\"Trends in Schools Contributing to MLB Talent\", fontsize=13, weight='bold', pad=12)\n",
    "plt.xlabel(\"Decade\", fontsize=12)\n",
    "plt.ylabel(\"Number of Schools\", fontsize=12)\n",
    "\n",
    "plt.tight_layout()\n",
    "plt.show()"
   ]
  },
  {
   "cell_type": "markdown",
   "id": "98358b7d-10bf-4ce4-afed-336737e70bed",
   "metadata": {},
   "source": [
    "---\n",
    "### 3.4 Top MLB Producers by Decade\n",
    "In this section, we examine how the **most influential schools in producing MLB players** have changed over time. By grouping data by decade and identifying the top school for each, we can explore shifts in talent pipelines and institutional influence throughout baseball history.\n",
    "\n",
    "***SQL Query:***\n",
    "```sql\n",
    "WITH school_by_decade AS (\n",
    "\t SELECT *, FLOOR(yearid/10) * 10 AS decade\n",
    "\t FROM schools\n",
    "\t ORDER BY decade\n",
    "),\n",
    "school_ranking AS (\n",
    "\t SELECT decade, schoolid, COUNT(DISTINCT playerid) AS num_players,\n",
    "\t\t\tROW_NUMBER() OVER (PARTITION BY decade ORDER BY COUNT(DISTINCT playerid) DESC) AS school_rank\n",
    "\t FROM school_by_decade\n",
    "\t GROUP BY decade, schoolid\n",
    ")\n",
    "\n",
    "SELECT CONCAT(sr.decade, 's') AS decade, \n",
    "\t   sd.name_full AS school_name, sr.num_players AS num_players\n",
    "FROM school_ranking AS sr\n",
    "LEFT JOIN school_details AS sd ON sr.schoolid = sd.schoolid\n",
    "WHERE school_rank =1\n",
    "ORDER BY sr.decade DESC;"
   ]
  },
  {
   "cell_type": "markdown",
   "id": "3202c389-6d3e-4d6f-9584-f1d514d08655",
   "metadata": {},
   "source": [
    "***Query Result:***"
   ]
  },
  {
   "cell_type": "code",
   "execution_count": 38,
   "id": "6e2108b3-ae48-4edb-902c-d0b10fac7c2a",
   "metadata": {
    "jupyter": {
     "source_hidden": true
    }
   },
   "outputs": [],
   "source": [
    "# Hidden query execution\n",
    "query = \"\"\"\n",
    "WITH school_by_decade AS (\n",
    "\t SELECT *, FLOOR(yearid/10) * 10 AS decade\n",
    "\t FROM schools\n",
    "\t ORDER BY decade\n",
    "),\n",
    "school_ranking AS (\n",
    "\t SELECT decade, schoolid, COUNT(DISTINCT playerid) AS num_players,\n",
    "\t\t\tROW_NUMBER() OVER (PARTITION BY decade ORDER BY COUNT(DISTINCT playerid) DESC) AS school_rank\n",
    "\t FROM school_by_decade\n",
    "\t GROUP BY decade, schoolid\n",
    ")\n",
    "\n",
    "SELECT CONCAT(sr.decade, 's') AS decade, \n",
    "\t   sd.name_full AS school_name, sr.num_players AS num_players\n",
    "FROM school_ranking AS sr\n",
    "LEFT JOIN school_details AS sd ON sr.schoolid = sd.schoolid\n",
    "WHERE school_rank =1\n",
    "ORDER BY sr.decade DESC;\n",
    "\"\"\""
   ]
  },
  {
   "cell_type": "code",
   "execution_count": 39,
   "id": "8be8a519-c90c-46c3-979b-fdb881be6e2d",
   "metadata": {},
   "outputs": [
    {
     "data": {
      "text/markdown": [
       "**Preview of `df_top_school_by_decade`:**"
      ],
      "text/plain": [
       "<IPython.core.display.Markdown object>"
      ]
     },
     "metadata": {},
     "output_type": "display_data"
    },
    {
     "data": {
      "text/html": [
       "<div>\n",
       "<style scoped>\n",
       "    .dataframe tbody tr th:only-of-type {\n",
       "        vertical-align: middle;\n",
       "    }\n",
       "\n",
       "    .dataframe tbody tr th {\n",
       "        vertical-align: top;\n",
       "    }\n",
       "\n",
       "    .dataframe thead th {\n",
       "        text-align: right;\n",
       "    }\n",
       "</style>\n",
       "<table border=\"1\" class=\"dataframe\">\n",
       "  <thead>\n",
       "    <tr style=\"text-align: right;\">\n",
       "      <th></th>\n",
       "      <th>decade</th>\n",
       "      <th>school_name</th>\n",
       "      <th>num_players</th>\n",
       "    </tr>\n",
       "  </thead>\n",
       "  <tbody>\n",
       "    <tr>\n",
       "      <th>0</th>\n",
       "      <td>2010s</td>\n",
       "      <td>University of Florida</td>\n",
       "      <td>5</td>\n",
       "    </tr>\n",
       "    <tr>\n",
       "      <th>1</th>\n",
       "      <td>2000s</td>\n",
       "      <td>Arizona State University</td>\n",
       "      <td>23</td>\n",
       "    </tr>\n",
       "    <tr>\n",
       "      <th>...</th>\n",
       "      <td>...</td>\n",
       "      <td>...</td>\n",
       "      <td>...</td>\n",
       "    </tr>\n",
       "    <tr>\n",
       "      <th>14</th>\n",
       "      <td>1870s</td>\n",
       "      <td>Brown University</td>\n",
       "      <td>3</td>\n",
       "    </tr>\n",
       "    <tr>\n",
       "      <th>15</th>\n",
       "      <td>1860s</td>\n",
       "      <td>Fordham University</td>\n",
       "      <td>1</td>\n",
       "    </tr>\n",
       "  </tbody>\n",
       "</table>\n",
       "</div>"
      ],
      "text/plain": [
       "    decade               school_name num_players\n",
       "0    2010s     University of Florida           5\n",
       "1    2000s  Arizona State University          23\n",
       "...    ...                       ...         ...\n",
       "14   1870s          Brown University           3\n",
       "15   1860s        Fordham University           1"
      ]
     },
     "metadata": {},
     "output_type": "display_data"
    }
   ],
   "source": [
    "# Run query and preview result\n",
    "df_top_school_by_decade = pd.read_sql(query, con=engine)\n",
    "preview_table(df_top_school_by_decade, \"df_top_school_by_decade\")"
   ]
  },
  {
   "cell_type": "markdown",
   "id": "5a2310e4-ec68-4981-ba37-f9c6726cc3f9",
   "metadata": {},
   "source": [
    "**💡 Insights:**\n",
    "\n",
    "- **Arizona State University** stands out as a **dominant contributor** to MLB player production during the mid-to-late 20th century, topping the 1960s, 1970s, and 2000s.\n",
    "- The University of Southern California also had a strong presence in the mid-1900s.\n",
    "- In earlier decades, elite Northeastern schools such as Yale, Brown, and Fordham led the way, highlighting a historical shift in talent pipelines from the Northeast to the West and South over time."
   ]
  },
  {
   "cell_type": "code",
   "execution_count": 41,
   "id": "68061d17-25df-4db2-85e7-c78a785b6fd0",
   "metadata": {},
   "outputs": [
    {
     "data": {
      "image/png": "[encoded data removed]",
      "text/plain": [
       "<Figure size 1200x500 with 2 Axes>"
      ]
     },
     "metadata": {},
     "output_type": "display_data"
    }
   ],
   "source": [
    "# Pivot the data to create a matrix of schools (rows) vs. decades (columns)\n",
    "heatmap_df = df_top_school_by_decade.pivot_table(index=\"school_name\", columns=\"decade\", \n",
    "                                                 values=\"num_players\", fill_value=0)\n",
    "heatmap_df = heatmap_df.astype(int)\n",
    "\n",
    "# Create a heatmap to show player production across decades\n",
    "plt.figure(figsize=(12, 5))\n",
    "sns.heatmap(heatmap_df, annot=heatmap_df.copy().replace(0, '-'), fmt='', cmap=\"YlGnBu\", cbar_kws={'label': 'Number of Players'})\n",
    "\n",
    "plt.title(\"Top School by Decade – MLB Player Production\", fontsize=14, weight='bold', pad=12)\n",
    "plt.xlabel(\"\")\n",
    "plt.ylabel(\"\")\n",
    "\n",
    "plt.tight_layout()\n",
    "plt.show()"
   ]
  },
  {
   "cell_type": "markdown",
   "id": "e43a4e29-5257-4848-a6f6-77bf808166eb",
   "metadata": {},
   "source": [
    "---\n",
    "## 4. Salary Analysis\n",
    "In this section, we explore the salary landscape across MLB teams to uncover spending patterns and financial dominance over time."
   ]
  },
  {
   "cell_type": "code",
   "execution_count": 43,
   "id": "97353d5b-ae97-4b1e-beaa-fd116e87e74c",
   "metadata": {},
   "outputs": [
    {
     "data": {
      "text/markdown": [
       "**Preview of `salaries`:**"
      ],
      "text/plain": [
       "<IPython.core.display.Markdown object>"
      ]
     },
     "metadata": {},
     "output_type": "display_data"
    },
    {
     "data": {
      "text/html": [
       "<div>\n",
       "<style scoped>\n",
       "    .dataframe tbody tr th:only-of-type {\n",
       "        vertical-align: middle;\n",
       "    }\n",
       "\n",
       "    .dataframe tbody tr th {\n",
       "        vertical-align: top;\n",
       "    }\n",
       "\n",
       "    .dataframe thead th {\n",
       "        text-align: right;\n",
       "    }\n",
       "</style>\n",
       "<table border=\"1\" class=\"dataframe\">\n",
       "  <thead>\n",
       "    <tr style=\"text-align: right;\">\n",
       "      <th></th>\n",
       "      <th>yearid</th>\n",
       "      <th>teamid</th>\n",
       "      <th>lgid</th>\n",
       "      <th>playerid</th>\n",
       "      <th>salary</th>\n",
       "    </tr>\n",
       "  </thead>\n",
       "  <tbody>\n",
       "    <tr>\n",
       "      <th>0</th>\n",
       "      <td>1985</td>\n",
       "      <td>ATL</td>\n",
       "      <td>NL</td>\n",
       "      <td>barkele01</td>\n",
       "      <td>870000</td>\n",
       "    </tr>\n",
       "    <tr>\n",
       "      <th>1</th>\n",
       "      <td>1985</td>\n",
       "      <td>ATL</td>\n",
       "      <td>NL</td>\n",
       "      <td>bedrost01</td>\n",
       "      <td>550000</td>\n",
       "    </tr>\n",
       "    <tr>\n",
       "      <th>...</th>\n",
       "      <td>...</td>\n",
       "      <td>...</td>\n",
       "      <td>...</td>\n",
       "      <td>...</td>\n",
       "      <td>...</td>\n",
       "    </tr>\n",
       "    <tr>\n",
       "      <th>24756</th>\n",
       "      <td>2014</td>\n",
       "      <td>WAS</td>\n",
       "      <td>NL</td>\n",
       "      <td>zimmejo02</td>\n",
       "      <td>7500000</td>\n",
       "    </tr>\n",
       "    <tr>\n",
       "      <th>24757</th>\n",
       "      <td>2014</td>\n",
       "      <td>WAS</td>\n",
       "      <td>NL</td>\n",
       "      <td>zimmery01</td>\n",
       "      <td>14000000</td>\n",
       "    </tr>\n",
       "  </tbody>\n",
       "</table>\n",
       "</div>"
      ],
      "text/plain": [
       "      yearid teamid lgid   playerid    salary\n",
       "0       1985    ATL   NL  barkele01    870000\n",
       "1       1985    ATL   NL  bedrost01    550000\n",
       "...      ...    ...  ...        ...       ...\n",
       "24756   2014    WAS   NL  zimmejo02   7500000\n",
       "24757   2014    WAS   NL  zimmery01  14000000"
      ]
     },
     "metadata": {},
     "output_type": "display_data"
    }
   ],
   "source": [
    "preview_table(salaries, \"salaries\")"
   ]
  },
  {
   "cell_type": "markdown",
   "id": "48fa2bc9-39b4-41f9-b881-06b7640914c1",
   "metadata": {},
   "source": [
    "### 📑 Section Goals:\n",
    "\n",
    "1. **Top 20% High-Spending Teams:**  \n",
    "   Identify the top 20% of teams based on their average annual salary spending, revealing the most financially aggressive franchises.\n",
    "\n",
    "2. **Cumulative Spending Over Time:**  \n",
    "   Track the cumulative salary expenditure for each team across seasons, providing insights into long-term strategies.\n",
    "\n",
    "3. **Threshold of \\$1 Billion Cumulative Spend:**  \n",
    "   Determine the first year each team’s cumulative salary surpassed \\$1 billion, spotlighting franchises with sustained high spending over time.\n",
    "\n",
    "This investigation sheds light on how financial investments vary across franchises and how long-term spending correlates with broader league dynamics."
   ]
  },
  {
   "cell_type": "markdown",
   "id": "e144b8f9-0de8-4ec2-8f8f-331c2ef85403",
   "metadata": {},
   "source": [
    "### 4.1 Top 20% High-Spending Teams\n",
    "This gives insight into which franchises have consistently invested the most in player compensation over the years.\n",
    "\n",
    "***SQL Query:***\n",
    "```sql\n",
    "-- Calculate total salary spending per year for each team\n",
    "CREATE TEMPORARY TABLE IF NOT EXISTS team_annual AS (\n",
    "\tSELECT teamid, yearid, SUM(salary) AS total_spend_yr\n",
    "\tFROM salaries\n",
    "\tGROUP BY teamid, yearid\n",
    "\tORDER BY teamid, yearid);\n",
    "\n",
    "-- Segment teams into quintiles and compute average yearly spending\n",
    "WITH avg_spend_tiles AS (\n",
    "\tSELECT teamid,\n",
    "\t\t\tAVG(total_spend_yr) AS avg_yearly_spend,\n",
    "\t\t\tNTILE(5) OVER (ORDER BY ROUND(AVG(total_spend_yr)) DESC) AS spend_pct \n",
    "\tFROM team_annual\n",
    "\tGROUP BY teamid)\n",
    "\n",
    "-- Extract the top quintile (top 20%)\n",
    "SELECT teamid as team, ROUND(avg_yearly_spend / 1000000, 1) AS avg_spend_in_mil\n",
    "FROM avg_spend_tiles\n",
    "WHERE spend_pct = 1;"
   ]
  },
  {
   "cell_type": "code",
   "execution_count": 69,
   "id": "bf27d3e5-2cda-4404-a880-0f75f8260022",
   "metadata": {
    "jupyter": {
     "source_hidden": true
    }
   },
   "outputs": [],
   "source": [
    "# Hidden query execution\n",
    "query = \"\"\"\n",
    "CREATE TEMPORARY TABLE IF NOT EXISTS team_annual AS (\n",
    "\tSELECT teamid, yearid, SUM(salary) AS total_spend_yr\n",
    "\tFROM salaries\n",
    "\tGROUP BY teamid, yearid\n",
    "\tORDER BY teamid, yearid);\n",
    "\n",
    "WITH avg_spend_tiles AS (\n",
    "\tSELECT teamid,\n",
    "\t\t\tAVG(total_spend_yr) AS avg_yearly_spend,\n",
    "\t\t\tNTILE(5) OVER (ORDER BY ROUND(AVG(total_spend_yr)) DESC) AS spend_pct\n",
    "\tFROM team_annual\n",
    "\tGROUP BY teamid)\n",
    "\n",
    "SELECT teamid AS team, ROUND(avg_yearly_spend / 1000000, 1) AS avg_spend_in_mil\n",
    "FROM avg_spend_tiles\n",
    "WHERE spend_pct = 1;\n",
    "\"\"\""
   ]
  },
  {
   "cell_type": "code",
   "execution_count": 72,
   "id": "dee74900-8665-4da2-8d66-6b8f9c93c019",
   "metadata": {},
   "outputs": [
    {
     "data": {
      "text/html": [
       "<div>\n",
       "<style scoped>\n",
       "    .dataframe tbody tr th:only-of-type {\n",
       "        vertical-align: middle;\n",
       "    }\n",
       "\n",
       "    .dataframe tbody tr th {\n",
       "        vertical-align: top;\n",
       "    }\n",
       "\n",
       "    .dataframe thead th {\n",
       "        text-align: right;\n",
       "    }\n",
       "</style>\n",
       "<table border=\"1\" class=\"dataframe\">\n",
       "  <thead>\n",
       "    <tr style=\"text-align: right;\">\n",
       "      <th></th>\n",
       "      <th>team</th>\n",
       "      <th>avg_spend_in_mil</th>\n",
       "    </tr>\n",
       "  </thead>\n",
       "  <tbody>\n",
       "    <tr>\n",
       "      <th>0</th>\n",
       "      <td>SFG</td>\n",
       "      <td>143.5</td>\n",
       "    </tr>\n",
       "    <tr>\n",
       "      <th>1</th>\n",
       "      <td>LAA</td>\n",
       "      <td>118.5</td>\n",
       "    </tr>\n",
       "    <tr>\n",
       "      <th>2</th>\n",
       "      <td>NYA</td>\n",
       "      <td>109.4</td>\n",
       "    </tr>\n",
       "    <tr>\n",
       "      <th>3</th>\n",
       "      <td>BOS</td>\n",
       "      <td>81.1</td>\n",
       "    </tr>\n",
       "    <tr>\n",
       "      <th>4</th>\n",
       "      <td>LAN</td>\n",
       "      <td>74.6</td>\n",
       "    </tr>\n",
       "    <tr>\n",
       "      <th>5</th>\n",
       "      <td>WAS</td>\n",
       "      <td>71.5</td>\n",
       "    </tr>\n",
       "    <tr>\n",
       "      <th>6</th>\n",
       "      <td>ARI</td>\n",
       "      <td>71.2</td>\n",
       "    </tr>\n",
       "    <tr>\n",
       "      <th>7</th>\n",
       "      <td>PHI</td>\n",
       "      <td>66.1</td>\n",
       "    </tr>\n",
       "  </tbody>\n",
       "</table>\n",
       "</div>"
      ],
      "text/plain": [
       "  team  avg_spend_in_mil\n",
       "0  SFG             143.5\n",
       "1  LAA             118.5\n",
       "2  NYA             109.4\n",
       "3  BOS              81.1\n",
       "4  LAN              74.6\n",
       "5  WAS              71.5\n",
       "6  ARI              71.2\n",
       "7  PHI              66.1"
      ]
     },
     "execution_count": 72,
     "metadata": {},
     "output_type": "execute_result"
    }
   ],
   "source": [
    "# Run query and preview result\n",
    "df_top_20_pct = pd.read_sql(query, con=engine)\n",
    "df_top_20_pct"
   ]
  },
  {
   "cell_type": "markdown",
   "id": "3e48986a-f39d-40d9-98cb-24158a83ea20",
   "metadata": {},
   "source": [
    "**💡 Insights:**\n",
    "\n",
    "- **Arizona State University** stands out as a **dominant contributor** to MLB player production during the mid-to-late 20th century, topping the 1960s, 1970s, and 2000s.\n",
    "- The University of Southern California also had a strong presence in the mid-1900s.\n",
    "- In earlier decades, elite Northeastern schools such as Yale, Brown, and Fordham led the way, highlighting a historical shift in talent pipelines from the Northeast to the West and South over time."
   ]
  },
  {
   "cell_type": "code",
   "execution_count": 115,
   "id": "11c9c4e5-587b-4410-a701-fa242ecc6807",
   "metadata": {},
   "outputs": [
    {
     "data": {
      "image/png": "[encoded data removed]",
      "text/plain": [
       "<Figure size 700x400 with 1 Axes>"
      ]
     },
     "metadata": {},
     "output_type": "display_data"
    }
   ],
   "source": [
    "plt.figure(figsize=(7, 4))\n",
    "sns.barplot(data=df_top_20_pct, x='team', y='avg_spend_in_mil', hue='team', palette='viridis', edgecolor='black')\n",
    "\n",
    "# Add value labels\n",
    "for index, value in enumerate(df_top_20_pct[\"avg_spend_in_mil\"]):\n",
    "    plt.text(x=index, y=value + 1, s=f\"${value:.1f}M\", ha='center', va=\"bottom\", fontsize=10, weight='bold')\n",
    "    \n",
    "# Title and labels\n",
    "plt.title('Top 20% Teams by Average Annual Salary Spend', fontsize=13, fontweight='bold', pad=12)\n",
    "plt.xlabel('')\n",
    "plt.ylabel('Average Annual Spending (in Millions)')\n",
    "\n",
    "plt.show()"
   ]
  },
  {
   "cell_type": "markdown",
   "id": "edc2a640-f0ab-4555-b638-339fac39db33",
   "metadata": {},
   "source": [
    "## 4. Concluding Summary\n",
    "\n",
    "Refactor Notes:\n",
    "```\n",
    "with open(\"top_spenders.sql\") as f:\n",
    "    query = f.read()\n",
    "\n",
    "df_top_20_pct = pd.read_sql(query, con=engine)\n",
    "display(df_top_20_pct)\n"
   ]
  }
 ],
 "metadata": {
  "kernelspec": {
   "display_name": "Python [conda env:base] *",
   "language": "python",
   "name": "conda-base-py"
  },
  "language_info": {
   "codemirror_mode": {
    "name": "ipython",
    "version": 3
   },
   "file_extension": ".py",
   "mimetype": "text/x-python",
   "name": "python",
   "nbconvert_exporter": "python",
   "pygments_lexer": "ipython3",
   "version": "3.12.7"
  }
 },
 "nbformat": 4,
 "nbformat_minor": 5
}
