{
 "cells": [
  {
   "cell_type": "markdown",
   "id": "861bb304-661c-4367-82b1-384301599cc7",
   "metadata": {},
   "source": [
    "<h1 align=\"center\">\n",
    "    Players Analysis in SQL and Python\n",
    "</h1>\n",
    "\n",
    "<h3 align=\"center\">\n",
    "    By: Shreeyasha Pandey\n",
    "</h3>\n",
    "\n",
    "---"
   ]
  },
  {
   "cell_type": "markdown",
   "id": "9ae95cd8-c927-4823-9fda-757a262cfaef",
   "metadata": {},
   "source": [
    "## ☰ Project Overview\n",
    "\n",
    "This project explores trends and patterns within a Major League Baseball (MLB) player dataset using SQL for data extraction and Python for analysis and visualization.\n",
    "\n",
    "The analysis focuses on player performance, salary distributions, and position-based trends to uncover key insights relevant for stakeholders such as recruiters, coaches, or sports data analysts.\n",
    "\n",
    "- **Tools:** PostgreSQL, Python (pandas, matplotlib, seaborn), Jupyter Notebook\n",
    "- **Topics Covered:** Position breakdowns, salary trends, performance metrics\n",
    "\n",
    "---"
   ]
  },
  {
   "cell_type": "markdown",
   "id": "9a89244f-d3ef-4d81-832f-26cabe6e556f",
   "metadata": {},
   "source": [
    "## ☰ Dataset Summary\n",
    "\n",
    "The data is stored in a PostgreSQL relational database containing tables such as:\n",
    "\n",
    "- `players`: Biographical information of each MLB player\n",
    "- `salaries`: Yearly salary records by player and team\n",
    "- `schools`: School and year attended by player\n",
    "- `schools_details`: School info (name, city, state, country)\n",
    "\n",
    "We’ll use SQL to extract and filter relevant slices of the data throughout the notebook.\n",
    "\n",
    "---\n"
   ]
  },
  {
   "cell_type": "markdown",
   "id": "e308f159-d845-424a-95a3-6c42c415f56d",
   "metadata": {},
   "source": [
    "## ☰ Table of Contents\n",
    "1. [Libraries and Database Setup](#1-libraries-and-database-setup)\n",
    "2. [Loading the Dataset](#2-loading-the-dataset)\n",
    "3. [School Analysis](#3-school-analysis)\n",
    "4. [Concluding Summary](#4-concluding-summary)\n",
    "\n",
    "---"
   ]
  },
  {
   "cell_type": "markdown",
   "id": "5038afea-1b18-4467-9845-85da48716cc7",
   "metadata": {},
   "source": [
    "## 1. Libraries and Database Setup <a class=\"anchor\" id=\"1-libraries-and-database-setup\"></a>"
   ]
  },
  {
   "cell_type": "markdown",
   "id": "a2539902-30af-4e95-a71e-50bfbdaff7d1",
   "metadata": {},
   "source": [
    "### Import Libraries"
   ]
  },
  {
   "cell_type": "code",
   "execution_count": 7,
   "id": "3d5b399e-c007-4b23-9902-7e15ea8a16c8",
   "metadata": {},
   "outputs": [],
   "source": [
    "import pandas as pd\n",
    "import numpy as np\n",
    "import seaborn as sns\n",
    "import matplotlib.pyplot as plt\n",
    "from IPython.display import display, Markdown\n",
    "\n",
    "# Environment Variables and DB Connection\n",
    "import os\n",
    "from dotenv import load_dotenv\n",
    "from sqlalchemy import create_engine\n",
    "\n",
    "# Set global seaborn styles\n",
    "sns.set_style(\"white\", {\"axes.spines.right\": False, \"axes.spines.top\": False, \n",
    "                            \"axes.spines.left\": True,\"axes.spines.bottom\": True})"
   ]
  },
  {
   "cell_type": "markdown",
   "id": "a04e7734-7e26-44ab-b5b7-25a10c639eb4",
   "metadata": {},
   "source": [
    "### Create Database Engine"
   ]
  },
  {
   "cell_type": "code",
   "execution_count": 9,
   "id": "7f554937-ab1f-4fe6-9eae-769e83a5daae",
   "metadata": {},
   "outputs": [],
   "source": [
    "# Load from .env file\n",
    "load_dotenv()\n",
    "\n",
    "# Fetch credentials from environment\n",
    "DB_NAME = os.getenv(\"DB_NAME\")\n",
    "DB_USER = os.getenv(\"DB_USER\")\n",
    "DB_PASSWORD = os.getenv(\"DB_PASSWORD\")\n",
    "DB_HOST = os.getenv(\"DB_HOST\", \"localhost\")\n",
    "DB_PORT = os.getenv(\"DB_PORT\", \"5432\")\n",
    "\n",
    "# Create SQLAlchemy engine\n",
    "engine = create_engine(f'postgresql://{DB_USER}:{DB_PASSWORD}@{DB_HOST}:{DB_PORT}/{DB_NAME}')"
   ]
  },
  {
   "cell_type": "markdown",
   "id": "a3566536-14d5-435b-a79f-dc0a369c6158",
   "metadata": {},
   "source": [
    "---\n",
    "## 2. Loading the Dataset <a class=\"anchor\" id=\"loading-the-dataset\"></a>\n",
    "The following section loads all necessary tables from the PostgreSQL database using SQL queries. Each table is previewed to give a sense of its structure and content.\n"
   ]
  },
  {
   "cell_type": "code",
   "execution_count": 11,
   "id": "981fd7c5-f445-4f51-884e-c5dcb945e747",
   "metadata": {},
   "outputs": [],
   "source": [
    "def load_table(table_name):\n",
    "    \"\"\"Load a table from the database into a pandas DataFrame.\"\"\"\n",
    "    query = f\"SELECT * FROM {table_name};\"\n",
    "    return pd.read_sql(query, con=engine)"
   ]
  },
  {
   "cell_type": "code",
   "execution_count": 12,
   "id": "b71a4724-2310-4a99-9083-7efb84f9973e",
   "metadata": {},
   "outputs": [],
   "source": [
    "# Load the tables\n",
    "players = load_table(\"players\")\n",
    "salaries = load_table(\"salaries\")\n",
    "school_details = load_table(\"school_details\")\n",
    "schools = load_table(\"schools\")"
   ]
  },
  {
   "cell_type": "markdown",
   "id": "b74e4741-1d7d-4ec0-bf0f-3ce11a03ff88",
   "metadata": {},
   "source": [
    "Next, we'll define a small helper function that formats and displays the first and last few rows of a DataFrame. This allows us to get a quick sense of the table's structure and content throughout the analysis."
   ]
  },
  {
   "cell_type": "code",
   "execution_count": 14,
   "id": "215ca5a1-b95a-43f9-9217-f986f21fdb12",
   "metadata": {},
   "outputs": [],
   "source": [
    "def preview_table(df, table_name, n=2):\n",
    "    \"\"\"Preview the first and last few rows of a DataFrame with ellipsis in between.\"\"\"\n",
    "    ellipsis_row = pd.DataFrame({col: '...' for col in df.columns}, index=['...'])\n",
    "    \n",
    "    display(Markdown(f\"**Preview of `{table_name}`:**\"))\n",
    "    preview_df = pd.concat([df.head(n), ellipsis_row, df.tail(n)])\n",
    "    display(preview_df)"
   ]
  },
  {
   "cell_type": "markdown",
   "id": "3d670352-2c0b-483a-af9f-cd9f90487f7a",
   "metadata": {},
   "source": [
    "---\n",
    "## 3. School-Based Analysis\n",
    "\n",
    "In this section, we analyze the role of educational institutions in producing Major League Baseball (MLB) players. Using data from the `schools` and `school_details` tables, we aim to explore patterns in player origins based on schools, states, and time periods. "
   ]
  },
  {
   "cell_type": "code",
   "execution_count": 16,
   "id": "f635277d-9ba4-4672-9da5-26a673cdff16",
   "metadata": {},
   "outputs": [
    {
     "data": {
      "text/markdown": [
       "**Preview of `schools`:**"
      ],
      "text/plain": [
       "<IPython.core.display.Markdown object>"
      ]
     },
     "metadata": {},
     "output_type": "display_data"
    },
    {
     "data": {
      "text/html": [
       "<div>\n",
       "<style scoped>\n",
       "    .dataframe tbody tr th:only-of-type {\n",
       "        vertical-align: middle;\n",
       "    }\n",
       "\n",
       "    .dataframe tbody tr th {\n",
       "        vertical-align: top;\n",
       "    }\n",
       "\n",
       "    .dataframe thead th {\n",
       "        text-align: right;\n",
       "    }\n",
       "</style>\n",
       "<table border=\"1\" class=\"dataframe\">\n",
       "  <thead>\n",
       "    <tr style=\"text-align: right;\">\n",
       "      <th></th>\n",
       "      <th>playerid</th>\n",
       "      <th>schoolid</th>\n",
       "      <th>yearid</th>\n",
       "    </tr>\n",
       "  </thead>\n",
       "  <tbody>\n",
       "    <tr>\n",
       "      <th>0</th>\n",
       "      <td>aardsda01</td>\n",
       "      <td>pennst</td>\n",
       "      <td>2001</td>\n",
       "    </tr>\n",
       "    <tr>\n",
       "      <th>1</th>\n",
       "      <td>aardsda01</td>\n",
       "      <td>rice</td>\n",
       "      <td>2002</td>\n",
       "    </tr>\n",
       "    <tr>\n",
       "      <th>...</th>\n",
       "      <td>...</td>\n",
       "      <td>...</td>\n",
       "      <td>...</td>\n",
       "    </tr>\n",
       "    <tr>\n",
       "      <th>17348</th>\n",
       "      <td>zuvelpa01</td>\n",
       "      <td>stanford</td>\n",
       "      <td>1979</td>\n",
       "    </tr>\n",
       "    <tr>\n",
       "      <th>17349</th>\n",
       "      <td>zuvelpa01</td>\n",
       "      <td>stanford</td>\n",
       "      <td>1980</td>\n",
       "    </tr>\n",
       "  </tbody>\n",
       "</table>\n",
       "</div>"
      ],
      "text/plain": [
       "        playerid  schoolid yearid\n",
       "0      aardsda01    pennst   2001\n",
       "1      aardsda01      rice   2002\n",
       "...          ...       ...    ...\n",
       "17348  zuvelpa01  stanford   1979\n",
       "17349  zuvelpa01  stanford   1980"
      ]
     },
     "metadata": {},
     "output_type": "display_data"
    },
    {
     "data": {
      "text/markdown": [
       "**Preview of `school_details`:**"
      ],
      "text/plain": [
       "<IPython.core.display.Markdown object>"
      ]
     },
     "metadata": {},
     "output_type": "display_data"
    },
    {
     "data": {
      "text/html": [
       "<div>\n",
       "<style scoped>\n",
       "    .dataframe tbody tr th:only-of-type {\n",
       "        vertical-align: middle;\n",
       "    }\n",
       "\n",
       "    .dataframe tbody tr th {\n",
       "        vertical-align: top;\n",
       "    }\n",
       "\n",
       "    .dataframe thead th {\n",
       "        text-align: right;\n",
       "    }\n",
       "</style>\n",
       "<table border=\"1\" class=\"dataframe\">\n",
       "  <thead>\n",
       "    <tr style=\"text-align: right;\">\n",
       "      <th></th>\n",
       "      <th>schoolid</th>\n",
       "      <th>name_full</th>\n",
       "      <th>city</th>\n",
       "      <th>state</th>\n",
       "      <th>country</th>\n",
       "    </tr>\n",
       "  </thead>\n",
       "  <tbody>\n",
       "    <tr>\n",
       "      <th>0</th>\n",
       "      <td>abilchrist</td>\n",
       "      <td>Abilene Christian University</td>\n",
       "      <td>Abilene</td>\n",
       "      <td>TX</td>\n",
       "      <td>USA</td>\n",
       "    </tr>\n",
       "    <tr>\n",
       "      <th>1</th>\n",
       "      <td>adelphi</td>\n",
       "      <td>Adelphi University</td>\n",
       "      <td>Garden City</td>\n",
       "      <td>NY</td>\n",
       "      <td>USA</td>\n",
       "    </tr>\n",
       "    <tr>\n",
       "      <th>...</th>\n",
       "      <td>...</td>\n",
       "      <td>...</td>\n",
       "      <td>...</td>\n",
       "      <td>...</td>\n",
       "      <td>...</td>\n",
       "    </tr>\n",
       "    <tr>\n",
       "      <th>1205</th>\n",
       "      <td>yale</td>\n",
       "      <td>Yale University</td>\n",
       "      <td>New Haven</td>\n",
       "      <td>CT</td>\n",
       "      <td>USA</td>\n",
       "    </tr>\n",
       "    <tr>\n",
       "      <th>1206</th>\n",
       "      <td>youngst</td>\n",
       "      <td>Youngstown State University</td>\n",
       "      <td>Youngstown</td>\n",
       "      <td>OH</td>\n",
       "      <td>USA</td>\n",
       "    </tr>\n",
       "  </tbody>\n",
       "</table>\n",
       "</div>"
      ],
      "text/plain": [
       "        schoolid                     name_full         city state country\n",
       "0     abilchrist  Abilene Christian University      Abilene    TX     USA\n",
       "1        adelphi            Adelphi University  Garden City    NY     USA\n",
       "...          ...                           ...          ...   ...     ...\n",
       "1205        yale               Yale University    New Haven    CT     USA\n",
       "1206     youngst   Youngstown State University   Youngstown    OH     USA"
      ]
     },
     "metadata": {},
     "output_type": "display_data"
    }
   ],
   "source": [
    "# Preview the tables\n",
    "preview_table(schools, \"schools\")\n",
    "preview_table(school_details, \"school_details\")"
   ]
  },
  {
   "cell_type": "markdown",
   "id": "a3dc3594-d91e-409e-b119-8c839b551f8d",
   "metadata": {},
   "source": [
    "### 📑 Section Goals:\n",
    "The following key questions will guide our analysis:\n",
    "\n",
    "1. **Top Player-Producing Schools:**  \n",
    "   Identify the top 5 schools that have produced the largest number of MLB players.\n",
    "\n",
    "2. **Geographic Distribution:**  \n",
    "   Analyze the locations of these schools — specifically, the states they are based in — to understand regional trends.\n",
    "\n",
    "3. **Trends in Schools Influence to MLB Talent:**  \n",
    "   For each decade, determine how many unique schools produced MLB players. This helps capture the breadth of institutions involved across different eras.\n",
    "\n",
    "4. **Top MLB Producers by Decade:**  \n",
    "   Identify the top 3 schools that produced the most players in each decade. This will highlight how school influence may have shifted over time.\n",
    "\n",
    "This analysis will help uncover historical and regional influences in player development and could potentially inform scouting strategies or historical retrospectives."
   ]
  },
  {
   "cell_type": "markdown",
   "id": "78602dbb-2e5c-4fad-a488-6d7ce9bcdb50",
   "metadata": {},
   "source": [
    "### 3.1 Top Player-Producing Schools\n",
    "\n",
    "***SQL Query:***\n",
    "```sql\n",
    "SELECT sd.name_full AS school_name, s.players_produced\n",
    "FROM school_details AS sd\n",
    "RIGHT JOIN (\n",
    "\tSELECT schoolid, COUNT(DISTINCT playerid) AS players_produced\n",
    "\tFROM schools\n",
    "\tGROUP BY schoolid) AS s\n",
    "ON sd.schoolid = s.schoolid\n",
    "ORDER BY s.players_produced DESC\n",
    "LIMIT 5;\n"
   ]
  },
  {
   "cell_type": "markdown",
   "id": "69866cee-f4fb-4a98-8152-e41ab6156419",
   "metadata": {},
   "source": [
    "***Query Result:***"
   ]
  },
  {
   "cell_type": "code",
   "execution_count": 20,
   "id": "946cc4d6-7b98-4f62-b2a1-71fea5cc4b58",
   "metadata": {
    "jupyter": {
     "source_hidden": true
    }
   },
   "outputs": [],
   "source": [
    "# Hidden query execution\n",
    "query = \"\"\"\n",
    "    SELECT sd.name_full AS school_name, s.players_produced\n",
    "    FROM school_details AS sd\n",
    "    RIGHT JOIN (\n",
    "    \tSELECT schoolid, COUNT(DISTINCT playerid) AS players_produced\n",
    "    \tFROM schools\n",
    "    \tGROUP BY schoolid) AS s\n",
    "    ON sd.schoolid = s.schoolid\n",
    "    ORDER BY s.players_produced DESC\n",
    "    LIMIT 5;\n",
    "\"\"\""
   ]
  },
  {
   "cell_type": "code",
   "execution_count": 21,
   "id": "6c703cef-4155-4e5d-8cea-df943767bdf2",
   "metadata": {},
   "outputs": [
    {
     "data": {
      "text/html": [
       "<div>\n",
       "<style scoped>\n",
       "    .dataframe tbody tr th:only-of-type {\n",
       "        vertical-align: middle;\n",
       "    }\n",
       "\n",
       "    .dataframe tbody tr th {\n",
       "        vertical-align: top;\n",
       "    }\n",
       "\n",
       "    .dataframe thead th {\n",
       "        text-align: right;\n",
       "    }\n",
       "</style>\n",
       "<table border=\"1\" class=\"dataframe\">\n",
       "  <thead>\n",
       "    <tr style=\"text-align: right;\">\n",
       "      <th></th>\n",
       "      <th>school_name</th>\n",
       "      <th>players_produced</th>\n",
       "    </tr>\n",
       "  </thead>\n",
       "  <tbody>\n",
       "    <tr>\n",
       "      <th>0</th>\n",
       "      <td>University of Texas at Austin</td>\n",
       "      <td>107</td>\n",
       "    </tr>\n",
       "    <tr>\n",
       "      <th>1</th>\n",
       "      <td>University of Southern California</td>\n",
       "      <td>105</td>\n",
       "    </tr>\n",
       "    <tr>\n",
       "      <th>2</th>\n",
       "      <td>Arizona State University</td>\n",
       "      <td>101</td>\n",
       "    </tr>\n",
       "    <tr>\n",
       "      <th>3</th>\n",
       "      <td>Stanford University</td>\n",
       "      <td>86</td>\n",
       "    </tr>\n",
       "    <tr>\n",
       "      <th>4</th>\n",
       "      <td>University of Michigan</td>\n",
       "      <td>76</td>\n",
       "    </tr>\n",
       "  </tbody>\n",
       "</table>\n",
       "</div>"
      ],
      "text/plain": [
       "                         school_name  players_produced\n",
       "0      University of Texas at Austin               107\n",
       "1  University of Southern California               105\n",
       "2           Arizona State University               101\n",
       "3                Stanford University                86\n",
       "4             University of Michigan                76"
      ]
     },
     "execution_count": 21,
     "metadata": {},
     "output_type": "execute_result"
    }
   ],
   "source": [
    "# Run query and preview result\n",
    "df_top_five_schools = pd.read_sql(query, con=engine)\n",
    "df_top_five_schools"
   ]
  },
  {
   "cell_type": "markdown",
   "id": "61217933-3a7a-4e0e-a421-957f54ce3dd8",
   "metadata": {},
   "source": [
    "**💡 Insights:**\n",
    "\n",
    "These schools stand out as major talent pipelines for Major League Baseball, with UT Austin and USC leading the list."
   ]
  },
  {
   "cell_type": "code",
   "execution_count": 23,
   "id": "3556c6eb-5efe-43da-95db-e6ae624c72aa",
   "metadata": {},
   "outputs": [
    {
     "data": {
      "image/png": "[encoded data removed]",
      "text/plain": [
       "<Figure size 700x400 with 1 Axes>"
      ]
     },
     "metadata": {},
     "output_type": "display_data"
    }
   ],
   "source": [
    "plt.figure(figsize=(7, 4))\n",
    "sns.barplot(data=df_top_five_schools, x=\"players_produced\", y=\"school_name\",\n",
    "            hue=\"school_name\", palette=\"viridis\", edgecolor=\".2\")\n",
    "\n",
    "# Add bar labels\n",
    "for index, value in enumerate(df_top_five_schools[\"players_produced\"]):\n",
    "    plt.text(value + 0.5, index, str(value), va='center', fontsize=10, fontweight='semibold')\n",
    "\n",
    "# Axis labels & title\n",
    "plt.xlabel(\"Number of Players Produced\", fontsize=12)\n",
    "plt.ylabel(\"School\", fontsize=12)\n",
    "plt.title(\"Top 5 Player-Producing Schools\", fontsize=13, weight='bold', pad=12)\n",
    "\n",
    "plt.tight_layout()\n",
    "plt.show()"
   ]
  },
  {
   "cell_type": "markdown",
   "id": "38d13041-8b74-4708-83e7-84d5bf5477ed",
   "metadata": {},
   "source": [
    "---\n",
    "### 3.2 Geographic Distribution\n",
    "In this section, we analyze the geographic distribution of MLB players based on the states where they attended school. The goal is to identify which states have historically produced the highest number of professional baseball players.\n",
    "\n",
    "***SQL Query:***\n",
    "```sql\n",
    "SELECT sd.state, COUNT(DISTINCT playerid) AS num_players\n",
    "FROM schools AS s\n",
    "LEFT JOIN school_details AS sd\n",
    "ON s.schoolid = sd.schoolid\n",
    "GROUP BY sd.state\n",
    "ORDER BY num_players DESC\n",
    "LIMIT 3;"
   ]
  },
  {
   "cell_type": "markdown",
   "id": "255ffe51-a67f-4c23-b752-3d7f22677b89",
   "metadata": {},
   "source": [
    "***Query Result:***"
   ]
  },
  {
   "cell_type": "code",
   "execution_count": 26,
   "id": "92f19fa6-81d0-404b-9cc6-3580b7cffdf8",
   "metadata": {
    "jupyter": {
     "source_hidden": true
    }
   },
   "outputs": [],
   "source": [
    "# Hidden query execution\n",
    "query = \"\"\"\n",
    "    SELECT sd.state, COUNT(DISTINCT playerid) AS num_players\n",
    "    FROM schools AS s\n",
    "    LEFT JOIN school_details AS sd\n",
    "    ON s.schoolid = sd.schoolid\n",
    "    GROUP BY sd.state\n",
    "    ORDER BY num_players DESC\n",
    "    LIMIT 3;\n",
    "\"\"\""
   ]
  },
  {
   "cell_type": "code",
   "execution_count": 27,
   "id": "8eb1d5ca-784a-447e-94f1-6705eec97b63",
   "metadata": {},
   "outputs": [
    {
     "data": {
      "text/html": [
       "<div>\n",
       "<style scoped>\n",
       "    .dataframe tbody tr th:only-of-type {\n",
       "        vertical-align: middle;\n",
       "    }\n",
       "\n",
       "    .dataframe tbody tr th {\n",
       "        vertical-align: top;\n",
       "    }\n",
       "\n",
       "    .dataframe thead th {\n",
       "        text-align: right;\n",
       "    }\n",
       "</style>\n",
       "<table border=\"1\" class=\"dataframe\">\n",
       "  <thead>\n",
       "    <tr style=\"text-align: right;\">\n",
       "      <th></th>\n",
       "      <th>state</th>\n",
       "      <th>num_players</th>\n",
       "    </tr>\n",
       "  </thead>\n",
       "  <tbody>\n",
       "    <tr>\n",
       "      <th>0</th>\n",
       "      <td>CA</td>\n",
       "      <td>1247</td>\n",
       "    </tr>\n",
       "    <tr>\n",
       "      <th>1</th>\n",
       "      <td>TX</td>\n",
       "      <td>536</td>\n",
       "    </tr>\n",
       "    <tr>\n",
       "      <th>2</th>\n",
       "      <td>FL</td>\n",
       "      <td>473</td>\n",
       "    </tr>\n",
       "  </tbody>\n",
       "</table>\n",
       "</div>"
      ],
      "text/plain": [
       "  state  num_players\n",
       "0    CA         1247\n",
       "1    TX          536\n",
       "2    FL          473"
      ]
     },
     "execution_count": 27,
     "metadata": {},
     "output_type": "execute_result"
    }
   ],
   "source": [
    "# Run query and preview result\n",
    "df_top_three_states = pd.read_sql(query, con=engine)\n",
    "df_top_three_states"
   ]
  },
  {
   "cell_type": "markdown",
   "id": "08c68aeb-d1e5-438c-bf2c-bd4fdd500b17",
   "metadata": {},
   "source": [
    "**💡 Insights:**\n",
    "\n",
    "California stands out as the top contributor for producing MLB players (1,247), with Texas (536) and Florida (473) trailing behind. The substantial gap suggests California as a stronger baseball pipeline."
   ]
  },
  {
   "cell_type": "code",
   "execution_count": 29,
   "id": "3e065872-d24c-4c9c-9a09-c42bb39c0776",
   "metadata": {},
   "outputs": [
    {
     "data": {
      "image/png": "[encoded data removed]",
      "text/plain": [
       "<Figure size 600x300 with 1 Axes>"
      ]
     },
     "metadata": {},
     "output_type": "display_data"
    }
   ],
   "source": [
    "plt.figure(figsize=(6, 3))\n",
    "sns.barplot(data=df_top_three_states, x=\"state\", y=\"num_players\",\n",
    "            hue='state', palette=\"viridis\", \n",
    "            edgecolor=\"black\", width=0.5)\n",
    "\n",
    "# Annotate bars\n",
    "for index, value in enumerate(df_top_three_states[\"num_players\"]):\n",
    "    plt.text(x=index, y=value + 10, s=f\"{value:,}\", ha=\"center\", va=\"bottom\", fontsize=10, weight='bold')\n",
    "\n",
    "# Axis & title\n",
    "plt.title(\"Top 3 Player-Producing States\", fontsize=13, weight='bold', pad=12)\n",
    "plt.xlabel(\"State\", fontsize=12)\n",
    "plt.ylabel(\"Number of Players\", fontsize=12)\n",
    "\n",
    "plt.tight_layout()\n",
    "plt.show()"
   ]
  },
  {
   "cell_type": "markdown",
   "id": "95f3bf77-d879-485e-b665-917faaafe7a1",
   "metadata": {},
   "source": [
    "---\n",
    "### 3.3 Trends in Schools Influence to MLB Talent\n",
    "We now examine how the number of unique schools contributing MLB players has changed across decades. This helps highlight how the talent pipeline has expanded or concentrated over time.\n",
    "\n",
    "***SQL Query:***\n",
    "```sql\n",
    "SELECT FLOOR(yearid/10) * 10 AS decade, COUNT(DISTINCT schoolid) AS num_schools\n",
    "FROM schools\n",
    "GROUP BY decade\n",
    "ORDER BY decade;"
   ]
  },
  {
   "cell_type": "markdown",
   "id": "4a5eafa4-9644-44b9-b232-4b811a7ff03e",
   "metadata": {},
   "source": [
    "***Query Result:***"
   ]
  },
  {
   "cell_type": "code",
   "execution_count": 32,
   "id": "bbb7c966-a0b6-485c-9d7d-10e7019e73d2",
   "metadata": {
    "jupyter": {
     "source_hidden": true
    }
   },
   "outputs": [],
   "source": [
    "# Hidden query execution\n",
    "query = \"\"\"\n",
    "    SELECT FLOOR(yearid/10) * 10 AS decade, COUNT(DISTINCT schoolid) AS num_schools\n",
    "    FROM schools\n",
    "    GROUP BY decade\n",
    "    ORDER BY decade;\n",
    "\"\"\""
   ]
  },
  {
   "cell_type": "code",
   "execution_count": 33,
   "id": "d8f67894-d6f2-441b-b8c5-7b62a10ac0d1",
   "metadata": {},
   "outputs": [
    {
     "data": {
      "text/markdown": [
       "**Preview of `df_school_decades`:**"
      ],
      "text/plain": [
       "<IPython.core.display.Markdown object>"
      ]
     },
     "metadata": {},
     "output_type": "display_data"
    },
    {
     "data": {
      "text/html": [
       "<div>\n",
       "<style scoped>\n",
       "    .dataframe tbody tr th:only-of-type {\n",
       "        vertical-align: middle;\n",
       "    }\n",
       "\n",
       "    .dataframe tbody tr th {\n",
       "        vertical-align: top;\n",
       "    }\n",
       "\n",
       "    .dataframe thead th {\n",
       "        text-align: right;\n",
       "    }\n",
       "</style>\n",
       "<table border=\"1\" class=\"dataframe\">\n",
       "  <thead>\n",
       "    <tr style=\"text-align: right;\">\n",
       "      <th></th>\n",
       "      <th>decade</th>\n",
       "      <th>num_schools</th>\n",
       "    </tr>\n",
       "  </thead>\n",
       "  <tbody>\n",
       "    <tr>\n",
       "      <th>0</th>\n",
       "      <td>1860.0</td>\n",
       "      <td>2</td>\n",
       "    </tr>\n",
       "    <tr>\n",
       "      <th>1</th>\n",
       "      <td>1870.0</td>\n",
       "      <td>14</td>\n",
       "    </tr>\n",
       "    <tr>\n",
       "      <th>...</th>\n",
       "      <td>...</td>\n",
       "      <td>...</td>\n",
       "    </tr>\n",
       "    <tr>\n",
       "      <th>14</th>\n",
       "      <td>2000.0</td>\n",
       "      <td>372</td>\n",
       "    </tr>\n",
       "    <tr>\n",
       "      <th>15</th>\n",
       "      <td>2010.0</td>\n",
       "      <td>57</td>\n",
       "    </tr>\n",
       "  </tbody>\n",
       "</table>\n",
       "</div>"
      ],
      "text/plain": [
       "     decade num_schools\n",
       "0    1860.0           2\n",
       "1    1870.0          14\n",
       "...     ...         ...\n",
       "14   2000.0         372\n",
       "15   2010.0          57"
      ]
     },
     "metadata": {},
     "output_type": "display_data"
    }
   ],
   "source": [
    "# Run query and preview result\n",
    "df_school_decades = pd.read_sql(query, con=engine)\n",
    "preview_table(df_school_decades, \"df_school_decades\")"
   ]
  },
  {
   "cell_type": "markdown",
   "id": "43d63ad2-2132-48d5-81b0-d8036c78d530",
   "metadata": {},
   "source": [
    "**💡 Insights:**\n",
    "\n",
    "- From the 1860s through the early 20th century, there was a **steady rise** in the number of schools contributing players to Major League Baseball.\n",
    "  \n",
    "- The trend **accelerated sharply** beginning in the 1960s, reaching a peak in the 1990s with nearly 500 schools represented.\n",
    "\n",
    "- After the 1990s, there is a **notable decline** in the number of contributing schools. It is possible that fewer schools now produce more players."
   ]
  },
  {
   "cell_type": "code",
   "execution_count": 35,
   "id": "5582e50e-eecb-40ee-ab91-9a2e432b563f",
   "metadata": {},
   "outputs": [
    {
     "data": {
      "image/png": "[encoded data removed]",
      "text/plain": [
       "<Figure size 700x300 with 1 Axes>"
      ]
     },
     "metadata": {},
     "output_type": "display_data"
    }
   ],
   "source": [
    "plt.figure(figsize=(7, 3))\n",
    "sns.lineplot(data=df_school_decades, x=\"decade\", y=\"num_schools\", marker='o', linewidth=2.5, color='navy')\n",
    "\n",
    "# Axis and Title\n",
    "plt.title(\"Trends in Schools Contributing to MLB Talent\", fontsize=13, weight='bold', pad=12)\n",
    "plt.xlabel(\"Decade\", fontsize=12)\n",
    "plt.ylabel(\"Number of Schools\", fontsize=12)\n",
    "\n",
    "plt.tight_layout()\n",
    "plt.show()"
   ]
  },
  {
   "cell_type": "markdown",
   "id": "98358b7d-10bf-4ce4-afed-336737e70bed",
   "metadata": {},
   "source": [
    "---\n",
    "### 3.4 Top MLB Producers by Decade\n",
    "In this section, we examine how the **most influential schools in producing MLB players** have changed over time. By grouping data by decade and identifying the top school for each, we can explore shifts in talent pipelines and institutional influence throughout baseball history.\n",
    "\n",
    "***SQL Query:***\n",
    "```sql\n",
    "WITH school_by_decade AS (\n",
    "\t SELECT *, FLOOR(yearid/10) * 10 AS decade\n",
    "\t FROM schools\n",
    "\t ORDER BY decade\n",
    "),\n",
    "school_ranking AS (\n",
    "\t SELECT decade, schoolid, COUNT(DISTINCT playerid) AS num_players,\n",
    "\t\t\tROW_NUMBER() OVER (PARTITION BY decade ORDER BY COUNT(DISTINCT playerid) DESC) AS school_rank\n",
    "\t FROM school_by_decade\n",
    "\t GROUP BY decade, schoolid\n",
    ")\n",
    "\n",
    "SELECT CONCAT(sr.decade, 's') AS decade, \n",
    "\t   sd.name_full AS school_name, sr.num_players AS num_players\n",
    "FROM school_ranking AS sr\n",
    "LEFT JOIN school_details AS sd ON sr.schoolid = sd.schoolid\n",
    "WHERE school_rank =1\n",
    "ORDER BY sr.decade DESC;"
   ]
  },
  {
   "cell_type": "markdown",
   "id": "3202c389-6d3e-4d6f-9584-f1d514d08655",
   "metadata": {},
   "source": [
    "***Query Result:***"
   ]
  },
  {
   "cell_type": "code",
   "execution_count": 38,
   "id": "6e2108b3-ae48-4edb-902c-d0b10fac7c2a",
   "metadata": {
    "jupyter": {
     "source_hidden": true
    }
   },
   "outputs": [],
   "source": [
    "# Hidden query execution\n",
    "query = \"\"\"\n",
    "WITH school_by_decade AS (\n",
    "\t SELECT *, FLOOR(yearid/10) * 10 AS decade\n",
    "\t FROM schools\n",
    "\t ORDER BY decade\n",
    "),\n",
    "school_ranking AS (\n",
    "\t SELECT decade, schoolid, COUNT(DISTINCT playerid) AS num_players,\n",
    "\t\t\tROW_NUMBER() OVER (PARTITION BY decade ORDER BY COUNT(DISTINCT playerid) DESC) AS school_rank\n",
    "\t FROM school_by_decade\n",
    "\t GROUP BY decade, schoolid\n",
    ")\n",
    "\n",
    "SELECT CONCAT(sr.decade, 's') AS decade, \n",
    "\t   sd.name_full AS school_name, sr.num_players AS num_players\n",
    "FROM school_ranking AS sr\n",
    "LEFT JOIN school_details AS sd ON sr.schoolid = sd.schoolid\n",
    "WHERE school_rank =1\n",
    "ORDER BY sr.decade DESC;\n",
    "\"\"\""
   ]
  },
  {
   "cell_type": "code",
   "execution_count": 39,
   "id": "8be8a519-c90c-46c3-979b-fdb881be6e2d",
   "metadata": {},
   "outputs": [
    {
     "data": {
      "text/markdown": [
       "**Preview of `df_top_school_by_decade`:**"
      ],
      "text/plain": [
       "<IPython.core.display.Markdown object>"
      ]
     },
     "metadata": {},
     "output_type": "display_data"
    },
    {
     "data": {
      "text/html": [
       "<div>\n",
       "<style scoped>\n",
       "    .dataframe tbody tr th:only-of-type {\n",
       "        vertical-align: middle;\n",
       "    }\n",
       "\n",
       "    .dataframe tbody tr th {\n",
       "        vertical-align: top;\n",
       "    }\n",
       "\n",
       "    .dataframe thead th {\n",
       "        text-align: right;\n",
       "    }\n",
       "</style>\n",
       "<table border=\"1\" class=\"dataframe\">\n",
       "  <thead>\n",
       "    <tr style=\"text-align: right;\">\n",
       "      <th></th>\n",
       "      <th>decade</th>\n",
       "      <th>school_name</th>\n",
       "      <th>num_players</th>\n",
       "    </tr>\n",
       "  </thead>\n",
       "  <tbody>\n",
       "    <tr>\n",
       "      <th>0</th>\n",
       "      <td>2010s</td>\n",
       "      <td>University of Florida</td>\n",
       "      <td>5</td>\n",
       "    </tr>\n",
       "    <tr>\n",
       "      <th>1</th>\n",
       "      <td>2000s</td>\n",
       "      <td>Arizona State University</td>\n",
       "      <td>23</td>\n",
       "    </tr>\n",
       "    <tr>\n",
       "      <th>...</th>\n",
       "      <td>...</td>\n",
       "      <td>...</td>\n",
       "      <td>...</td>\n",
       "    </tr>\n",
       "    <tr>\n",
       "      <th>14</th>\n",
       "      <td>1870s</td>\n",
       "      <td>Brown University</td>\n",
       "      <td>3</td>\n",
       "    </tr>\n",
       "    <tr>\n",
       "      <th>15</th>\n",
       "      <td>1860s</td>\n",
       "      <td>Fordham University</td>\n",
       "      <td>1</td>\n",
       "    </tr>\n",
       "  </tbody>\n",
       "</table>\n",
       "</div>"
      ],
      "text/plain": [
       "    decade               school_name num_players\n",
       "0    2010s     University of Florida           5\n",
       "1    2000s  Arizona State University          23\n",
       "...    ...                       ...         ...\n",
       "14   1870s          Brown University           3\n",
       "15   1860s        Fordham University           1"
      ]
     },
     "metadata": {},
     "output_type": "display_data"
    }
   ],
   "source": [
    "# Run query and preview result\n",
    "df_top_school_by_decade = pd.read_sql(query, con=engine)\n",
    "preview_table(df_top_school_by_decade, \"df_top_school_by_decade\")"
   ]
  },
  {
   "cell_type": "markdown",
   "id": "5a2310e4-ec68-4981-ba37-f9c6726cc3f9",
   "metadata": {},
   "source": [
    "**💡 Insights:**\n",
    "\n",
    "- **Arizona State University** stands out as a **dominant contributor** to MLB player production during the mid-to-late 20th century, topping the 1960s, 1970s, and 2000s.\n",
    "- The University of Southern California also had a strong presence in the mid-1900s.\n",
    "- In earlier decades, elite Northeastern schools such as Yale, Brown, and Fordham led the way, highlighting a historical shift in talent pipelines from the Northeast to the West and South over time."
   ]
  },
  {
   "cell_type": "code",
   "execution_count": 41,
   "id": "68061d17-25df-4db2-85e7-c78a785b6fd0",
   "metadata": {},
   "outputs": [
    {
     "data": {
      "image/png": "[encoded data removed]",
      "text/plain": [
       "<Figure size 1200x500 with 2 Axes>"
      ]
     },
     "metadata": {},
     "output_type": "display_data"
    }
   ],
   "source": [
    "# Pivot the data to create a matrix of schools (rows) vs. decades (columns)\n",
    "heatmap_df = df_top_school_by_decade.pivot_table(index=\"school_name\", columns=\"decade\", \n",
    "                                                 values=\"num_players\", fill_value=0)\n",
    "heatmap_df = heatmap_df.astype(int)\n",
    "\n",
    "# Create a heatmap to show player production across decades\n",
    "plt.figure(figsize=(12, 5))\n",
    "sns.heatmap(heatmap_df, annot=heatmap_df.copy().replace(0, '-'), fmt='', cmap=\"YlGnBu\", cbar_kws={'label': 'Number of Players'})\n",
    "\n",
    "plt.title(\"Top School by Decade – MLB Player Production\", fontsize=14, weight='bold', pad=12)\n",
    "plt.xlabel(\"\")\n",
    "plt.ylabel(\"\")\n",
    "\n",
    "plt.tight_layout()\n",
    "plt.show()"
   ]
  },
  {
   "cell_type": "markdown",
   "id": "e43a4e29-5257-4848-a6f6-77bf808166eb",
   "metadata": {},
   "source": [
    "---\n",
    "## 4. Salary Analysis\n",
    "In this section, we explore the salary landscape across MLB teams to uncover spending patterns and financial dominance over time."
   ]
  },
  {
   "cell_type": "code",
   "execution_count": 43,
   "id": "97353d5b-ae97-4b1e-beaa-fd116e87e74c",
   "metadata": {},
   "outputs": [
    {
     "data": {
      "text/markdown": [
       "**Preview of `salaries`:**"
      ],
      "text/plain": [
       "<IPython.core.display.Markdown object>"
      ]
     },
     "metadata": {},
     "output_type": "display_data"
    },
    {
     "data": {
      "text/html": [
       "<div>\n",
       "<style scoped>\n",
       "    .dataframe tbody tr th:only-of-type {\n",
       "        vertical-align: middle;\n",
       "    }\n",
       "\n",
       "    .dataframe tbody tr th {\n",
       "        vertical-align: top;\n",
       "    }\n",
       "\n",
       "    .dataframe thead th {\n",
       "        text-align: right;\n",
       "    }\n",
       "</style>\n",
       "<table border=\"1\" class=\"dataframe\">\n",
       "  <thead>\n",
       "    <tr style=\"text-align: right;\">\n",
       "      <th></th>\n",
       "      <th>yearid</th>\n",
       "      <th>teamid</th>\n",
       "      <th>lgid</th>\n",
       "      <th>playerid</th>\n",
       "      <th>salary</th>\n",
       "    </tr>\n",
       "  </thead>\n",
       "  <tbody>\n",
       "    <tr>\n",
       "      <th>0</th>\n",
       "      <td>1985</td>\n",
       "      <td>ATL</td>\n",
       "      <td>NL</td>\n",
       "      <td>barkele01</td>\n",
       "      <td>870000</td>\n",
       "    </tr>\n",
       "    <tr>\n",
       "      <th>1</th>\n",
       "      <td>1985</td>\n",
       "      <td>ATL</td>\n",
       "      <td>NL</td>\n",
       "      <td>bedrost01</td>\n",
       "      <td>550000</td>\n",
       "    </tr>\n",
       "    <tr>\n",
       "      <th>...</th>\n",
       "      <td>...</td>\n",
       "      <td>...</td>\n",
       "      <td>...</td>\n",
       "      <td>...</td>\n",
       "      <td>...</td>\n",
       "    </tr>\n",
       "    <tr>\n",
       "      <th>24756</th>\n",
       "      <td>2014</td>\n",
       "      <td>WAS</td>\n",
       "      <td>NL</td>\n",
       "      <td>zimmejo02</td>\n",
       "      <td>7500000</td>\n",
       "    </tr>\n",
       "    <tr>\n",
       "      <th>24757</th>\n",
       "      <td>2014</td>\n",
       "      <td>WAS</td>\n",
       "      <td>NL</td>\n",
       "      <td>zimmery01</td>\n",
       "      <td>14000000</td>\n",
       "    </tr>\n",
       "  </tbody>\n",
       "</table>\n",
       "</div>"
      ],
      "text/plain": [
       "      yearid teamid lgid   playerid    salary\n",
       "0       1985    ATL   NL  barkele01    870000\n",
       "1       1985    ATL   NL  bedrost01    550000\n",
       "...      ...    ...  ...        ...       ...\n",
       "24756   2014    WAS   NL  zimmejo02   7500000\n",
       "24757   2014    WAS   NL  zimmery01  14000000"
      ]
     },
     "metadata": {},
     "output_type": "display_data"
    }
   ],
   "source": [
    "preview_table(salaries, \"salaries\")"
   ]
  },
  {
   "cell_type": "markdown",
   "id": "48fa2bc9-39b4-41f9-b881-06b7640914c1",
   "metadata": {},
   "source": [
    "### 📑 Section Goals:\n",
    "\n",
    "1. **Top 20% High-Spending Teams:**  \n",
    "   Identify the top 20% of teams based on their average annual salary spending, revealing the most financially aggressive franchises.\n",
    "\n",
    "2. **Cumulative Spending Over Time:**  \n",
    "   Track the cumulative salary expenditure for each team across seasons, providing insights into long-term strategies.\n",
    "\n",
    "3. **Threshold of \\$1 Billion Cumulative Spend:**  \n",
    "   Determine the first year each team’s cumulative salary surpassed \\$1 billion, spotlighting franchises with sustained high spending over time.\n",
    "\n",
    "This investigation sheds light on how financial investments vary across franchises and how long-term spending correlates with broader league dynamics."
   ]
  },
  {
   "cell_type": "markdown",
   "id": "e144b8f9-0de8-4ec2-8f8f-331c2ef85403",
   "metadata": {},
   "source": [
    "### 4.1 Top 20% High-Spending Teams\n",
    "This gives insight into which franchises have consistently invested the most in player compensation over the years.\n",
    "\n",
    "***SQL Query:***\n",
    "```sql\n",
    "-- Calculate total salary spending per year for each team\n",
    "CREATE TEMPORARY TABLE IF NOT EXISTS team_annual AS (\n",
    "\tSELECT teamid, yearid, SUM(salary) AS total_spend_yr\n",
    "\tFROM salaries\n",
    "\tGROUP BY teamid, yearid\n",
    "\tORDER BY teamid, yearid);\n",
    "\n",
    "-- Segment teams into quintiles and compute average yearly spending\n",
    "WITH avg_spend_tiles AS (\n",
    "\tSELECT teamid,\n",
    "\t\t\tAVG(total_spend_yr) AS avg_yearly_spend,\n",
    "\t\t\tNTILE(5) OVER (ORDER BY ROUND(AVG(total_spend_yr)) DESC) AS spend_pct \n",
    "\tFROM team_annual\n",
    "\tGROUP BY teamid)\n",
    "\n",
    "-- Extract the top quintile (top 20%)\n",
    "SELECT teamid as team, ROUND(avg_yearly_spend / 1000000, 1) AS avg_spend_in_mil\n",
    "FROM avg_spend_tiles\n",
    "WHERE spend_pct = 1;"
   ]
  },
  {
   "cell_type": "markdown",
   "id": "be1f4997-7ba8-4c1a-a68f-ec7045b4e9d9",
   "metadata": {},
   "source": [
    "***Query Result:***"
   ]
  },
  {
   "cell_type": "code",
   "execution_count": 47,
   "id": "bf27d3e5-2cda-4404-a880-0f75f8260022",
   "metadata": {
    "jupyter": {
     "source_hidden": true
    }
   },
   "outputs": [],
   "source": [
    "# Hidden query execution\n",
    "query = \"\"\"\n",
    "CREATE TEMPORARY TABLE IF NOT EXISTS team_annual AS (\n",
    "\tSELECT teamid, yearid, SUM(salary) AS total_spend_yr\n",
    "\tFROM salaries\n",
    "\tGROUP BY teamid, yearid\n",
    "\tORDER BY teamid, yearid);\n",
    "\n",
    "WITH avg_spend_tiles AS (\n",
    "\tSELECT teamid,\n",
    "\t\t\tAVG(total_spend_yr) AS avg_yearly_spend,\n",
    "\t\t\tNTILE(5) OVER (ORDER BY ROUND(AVG(total_spend_yr)) DESC) AS spend_pct\n",
    "\tFROM team_annual\n",
    "\tGROUP BY teamid)\n",
    "\n",
    "SELECT teamid AS team, ROUND(avg_yearly_spend / 1000000, 1) AS avg_spend_in_mil\n",
    "FROM avg_spend_tiles\n",
    "WHERE spend_pct = 1;\n",
    "\"\"\""
   ]
  },
  {
   "cell_type": "code",
   "execution_count": 48,
   "id": "dee74900-8665-4da2-8d66-6b8f9c93c019",
   "metadata": {},
   "outputs": [
    {
     "data": {
      "text/html": [
       "<div>\n",
       "<style scoped>\n",
       "    .dataframe tbody tr th:only-of-type {\n",
       "        vertical-align: middle;\n",
       "    }\n",
       "\n",
       "    .dataframe tbody tr th {\n",
       "        vertical-align: top;\n",
       "    }\n",
       "\n",
       "    .dataframe thead th {\n",
       "        text-align: right;\n",
       "    }\n",
       "</style>\n",
       "<table border=\"1\" class=\"dataframe\">\n",
       "  <thead>\n",
       "    <tr style=\"text-align: right;\">\n",
       "      <th></th>\n",
       "      <th>team</th>\n",
       "      <th>avg_spend_in_mil</th>\n",
       "    </tr>\n",
       "  </thead>\n",
       "  <tbody>\n",
       "    <tr>\n",
       "      <th>0</th>\n",
       "      <td>SFG</td>\n",
       "      <td>143.5</td>\n",
       "    </tr>\n",
       "    <tr>\n",
       "      <th>1</th>\n",
       "      <td>LAA</td>\n",
       "      <td>118.5</td>\n",
       "    </tr>\n",
       "    <tr>\n",
       "      <th>2</th>\n",
       "      <td>NYA</td>\n",
       "      <td>109.4</td>\n",
       "    </tr>\n",
       "    <tr>\n",
       "      <th>3</th>\n",
       "      <td>BOS</td>\n",
       "      <td>81.1</td>\n",
       "    </tr>\n",
       "    <tr>\n",
       "      <th>4</th>\n",
       "      <td>LAN</td>\n",
       "      <td>74.6</td>\n",
       "    </tr>\n",
       "    <tr>\n",
       "      <th>5</th>\n",
       "      <td>WAS</td>\n",
       "      <td>71.5</td>\n",
       "    </tr>\n",
       "    <tr>\n",
       "      <th>6</th>\n",
       "      <td>ARI</td>\n",
       "      <td>71.2</td>\n",
       "    </tr>\n",
       "    <tr>\n",
       "      <th>7</th>\n",
       "      <td>PHI</td>\n",
       "      <td>66.1</td>\n",
       "    </tr>\n",
       "  </tbody>\n",
       "</table>\n",
       "</div>"
      ],
      "text/plain": [
       "  team  avg_spend_in_mil\n",
       "0  SFG             143.5\n",
       "1  LAA             118.5\n",
       "2  NYA             109.4\n",
       "3  BOS              81.1\n",
       "4  LAN              74.6\n",
       "5  WAS              71.5\n",
       "6  ARI              71.2\n",
       "7  PHI              66.1"
      ]
     },
     "execution_count": 48,
     "metadata": {},
     "output_type": "execute_result"
    }
   ],
   "source": [
    "# Run query and preview result\n",
    "df_top_20_pct = pd.read_sql(query, con=engine)\n",
    "df_top_20_pct"
   ]
  },
  {
   "cell_type": "markdown",
   "id": "3e48986a-f39d-40d9-98cb-24158a83ea20",
   "metadata": {},
   "source": [
    "**💡 Insights:**\n",
    "\n",
    "Among the top 20% of MLB teams, the **San Francisco Giants (SFG)** lead by a significant margin with an average of **$143.5 million**, followed by the **Los Angeles Angels (LAA)** and **New York Yankees (NYA)**. These high-spending teams likely have greater financial resources and a strong focus on attracting top talent through lucrative contracts."
   ]
  },
  {
   "cell_type": "code",
   "execution_count": 50,
   "id": "11c9c4e5-587b-4410-a701-fa242ecc6807",
   "metadata": {},
   "outputs": [
    {
     "data": {
      "image/png": "[encoded data removed]",
      "text/plain": [
       "<Figure size 800x400 with 1 Axes>"
      ]
     },
     "metadata": {},
     "output_type": "display_data"
    }
   ],
   "source": [
    "plt.figure(figsize=(8, 4))\n",
    "sns.barplot(data=df_top_20_pct, x='team', y='avg_spend_in_mil', hue='team', palette='viridis', edgecolor='black')\n",
    "\n",
    "# Add value labels\n",
    "for index, value in enumerate(df_top_20_pct[\"avg_spend_in_mil\"]):\n",
    "    plt.text(x=index, y=value + 1, s=f\"${value:.1f}M\", ha='center', va=\"bottom\", fontsize=10, weight='bold')\n",
    "    \n",
    "# Title and labels\n",
    "plt.title('Top 20% Teams by Average Annual Salary Spend', fontsize=13, fontweight='bold', pad=12)\n",
    "plt.xlabel('')\n",
    "plt.ylabel('Average Spend (in Millions)', fontsize=12)\n",
    "\n",
    "plt.show()"
   ]
  },
  {
   "cell_type": "markdown",
   "id": "b34297d2-1f3f-40d4-b1c8-4a6f7a5a48c3",
   "metadata": {},
   "source": [
    "---\n",
    "### 4.2 Cumulative Spending Over Time\n",
    "\n",
    "***SQL Query:***\n",
    "```sql\n",
    "-- Calculate each team's cumulative salary spending over the years (in millions)\n",
    "SELECT teamid AS team, yearid AS year, \n",
    "\t   ROUND(SUM(total_spend_yr) OVER \n",
    "\t   (PARTITION BY teamid ORDER BY yearid) / 1000000, 1) AS cumulative_sum_in_mil\n",
    "FROM team_annual\n",
    "ORDER BY teamid, yearid;"
   ]
  },
  {
   "cell_type": "markdown",
   "id": "80b7805e-96ac-4f90-8cc6-909fc0f6543f",
   "metadata": {},
   "source": [
    "***Query Result:***"
   ]
  },
  {
   "cell_type": "code",
   "execution_count": 53,
   "id": "78cd5409-abbf-41db-baf7-d474aa4a0ef7",
   "metadata": {
    "jupyter": {
     "source_hidden": true
    }
   },
   "outputs": [],
   "source": [
    "# Hidden Query Execution\n",
    "query = \"\"\"\n",
    "WITH team_annual AS (\n",
    "    SELECT teamid, yearid, SUM(salary) AS total_spend_yr\n",
    "    FROM salaries\n",
    "    GROUP BY teamid, yearid\n",
    ")\n",
    "\n",
    "SELECT teamid AS team, yearid AS year, \n",
    "       ROUND(SUM(total_spend_yr) OVER \n",
    "             (PARTITION BY teamid ORDER BY yearid) / 1000000, 1) AS cumulative_sum_in_mil\n",
    "FROM team_annual\n",
    "ORDER BY teamid, yearid;\n",
    "\"\"\""
   ]
  },
  {
   "cell_type": "code",
   "execution_count": 54,
   "id": "a6f92309-d820-4b30-a2f6-50b0483a453c",
   "metadata": {},
   "outputs": [
    {
     "data": {
      "text/markdown": [
       "**Preview of `df_team_cumulative_spend`:**"
      ],
      "text/plain": [
       "<IPython.core.display.Markdown object>"
      ]
     },
     "metadata": {},
     "output_type": "display_data"
    },
    {
     "data": {
      "text/html": [
       "<div>\n",
       "<style scoped>\n",
       "    .dataframe tbody tr th:only-of-type {\n",
       "        vertical-align: middle;\n",
       "    }\n",
       "\n",
       "    .dataframe tbody tr th {\n",
       "        vertical-align: top;\n",
       "    }\n",
       "\n",
       "    .dataframe thead th {\n",
       "        text-align: right;\n",
       "    }\n",
       "</style>\n",
       "<table border=\"1\" class=\"dataframe\">\n",
       "  <thead>\n",
       "    <tr style=\"text-align: right;\">\n",
       "      <th></th>\n",
       "      <th>team</th>\n",
       "      <th>year</th>\n",
       "      <th>cumulative_sum_in_mil</th>\n",
       "    </tr>\n",
       "  </thead>\n",
       "  <tbody>\n",
       "    <tr>\n",
       "      <th>0</th>\n",
       "      <td>ANA</td>\n",
       "      <td>1997</td>\n",
       "      <td>31.1</td>\n",
       "    </tr>\n",
       "    <tr>\n",
       "      <th>1</th>\n",
       "      <td>ANA</td>\n",
       "      <td>1998</td>\n",
       "      <td>72.4</td>\n",
       "    </tr>\n",
       "    <tr>\n",
       "      <th>...</th>\n",
       "      <td>...</td>\n",
       "      <td>...</td>\n",
       "      <td>...</td>\n",
       "    </tr>\n",
       "    <tr>\n",
       "      <th>858</th>\n",
       "      <td>WAS</td>\n",
       "      <td>2013</td>\n",
       "      <td>583.4</td>\n",
       "    </tr>\n",
       "    <tr>\n",
       "      <th>859</th>\n",
       "      <td>WAS</td>\n",
       "      <td>2014</td>\n",
       "      <td>715.4</td>\n",
       "    </tr>\n",
       "  </tbody>\n",
       "</table>\n",
       "</div>"
      ],
      "text/plain": [
       "    team  year cumulative_sum_in_mil\n",
       "0    ANA  1997                  31.1\n",
       "1    ANA  1998                  72.4\n",
       "...  ...   ...                   ...\n",
       "858  WAS  2013                 583.4\n",
       "859  WAS  2014                 715.4"
      ]
     },
     "metadata": {},
     "output_type": "display_data"
    }
   ],
   "source": [
    "df_team_cumulative_spend = pd.read_sql(query, con=engine)\n",
    "preview_table(df_team_cumulative_spend, \"df_team_cumulative_spend\")"
   ]
  },
  {
   "cell_type": "markdown",
   "id": "8966ae21-2b1f-4bf3-930c-d91e827da2f1",
   "metadata": {},
   "source": [
    "**💡 Insights:**\n",
    "\n",
    "The **New York Yankees (NYA)** have led cumulative salary spending, with a sharp takeoff starting in the 2000s that sets them apart from the rest. **Boston Red Sox (BOS), Los Angeles Dodgers (LAN)**, and **New York Mets (NYN)** follow behind with relatively similar trajectories. In contrast, the **Philadelphia Phillies (PHI)** show a more gradual and steady rise in cumulative salary spending, with fewer fluctuations over the years. This reflects differing financial strategies and team-building philosophies across franchises."
   ]
  },
  {
   "cell_type": "code",
   "execution_count": 56,
   "id": "67c3b9d3-1df3-4426-85ac-5302b22f180f",
   "metadata": {},
   "outputs": [
    {
     "data": {
      "image/png": "[encoded data removed]",
      "text/plain": [
       "<Figure size 900x400 with 1 Axes>"
      ]
     },
     "metadata": {},
     "output_type": "display_data"
    }
   ],
   "source": [
    "# Get cumulative salary for each team\n",
    "team_salary_cum = salaries.pivot_table(values='salary', index='teamid', aggfunc='sum').sort_values(ascending=False, by='salary')\n",
    "\n",
    "# Filter top 5 teams\n",
    "top_teams = team_salary_cum.head(5).index.values\n",
    "filtered_df = df_team_cumulative_spend[df_team_cumulative_spend['team'].isin(top_teams)]\n",
    "\n",
    "# Stacked Line plot\n",
    "plt.figure(figsize=(9, 4))\n",
    "sns.lineplot(data=filtered_df, x='year', y='cumulative_sum_in_mil', hue='team', hue_order=top_teams, palette='tab10')\n",
    "plt.title('Top 5 Teams by Cumulative Salary Spending', fontweight='bold', fontsize=13)\n",
    "plt.legend(title='Team', bbox_to_anchor=(1.05, 1), loc='upper left', edgecolor='white')\n",
    "plt.ylabel('Cumulative Spending (in Millions)', fontsize=12)\n",
    "plt.xlabel('Year', fontsize=12)\n",
    "plt.xticks(range(filtered_df['year'].min(), filtered_df['year'].max(), 2))\n",
    "\n",
    "plt.tight_layout()\n",
    "plt.show()"
   ]
  },
  {
   "cell_type": "markdown",
   "id": "3068b3bc-a725-4baa-9e19-4d30838bd717",
   "metadata": {},
   "source": [
    "---\n",
    "### 4.3 Threshold of \\$1 Billion Cumulative Spend:\n",
    "This section identifies the first year in which each team’s cumulative total spending exceeds $1 billion.\n",
    "\n",
    "***SQL Query:***\n",
    "```sql\n",
    "-- Calculate cumulative spend (in millions) per team across years\n",
    "WITH team_cumulative AS (\n",
    "\tSELECT teamid, yearid, \n",
    "\t\t\tROUND(SUM(total_spend_yr) OVER \n",
    "\t\t\t(PARTITION BY teamid ORDER BY yearid) / 1000000, 1) AS cumulative_sum_in_mil\n",
    "\tFROM team_annual\n",
    "),\n",
    "-- Identify the first year each team crosses $1 billion cumulative spend\n",
    "year_ranking AS (\n",
    "\tSELECT *, FIRST_VALUE(yearid) OVER (PARTITION BY teamid ORDER BY yearid) AS yr_1_bil\n",
    "\tFROM team_cumulative\n",
    "\tWHERE cumulative_sum_in_mil > 1000\n",
    "\tORDER BY teamid, yearid)\n",
    "    \n",
    "-- Extract the year where each team hit the $1B threshold\n",
    "SELECT teamid, yr_1_bil, ROUND(cumulative_sum_in_mil / 1000, 2) AS cumulative_sum_in_bil\n",
    "FROM year_ranking\n",
    "WHERE yearid = yr_1_bil;"
   ]
  },
  {
   "cell_type": "markdown",
   "id": "35c7a860-ee09-4f83-9136-a16be0ffd437",
   "metadata": {},
   "source": [
    "***Query Result:***"
   ]
  },
  {
   "cell_type": "code",
   "execution_count": 59,
   "id": "60c152b1-33e4-40f6-8047-87a2b91f64a8",
   "metadata": {
    "jupyter": {
     "source_hidden": true
    }
   },
   "outputs": [],
   "source": [
    "# Hidden Query Execution\n",
    "query = \"\"\"\n",
    "WITH team_annual AS (\n",
    "    SELECT teamid, yearid, SUM(salary) AS total_spend_yr\n",
    "    FROM salaries\n",
    "    GROUP BY teamid, yearid\n",
    "),\n",
    "team_cumulative AS (\n",
    "\tSELECT teamid, yearid, \n",
    "\t\t\tROUND(SUM(total_spend_yr) OVER \n",
    "\t\t\t(PARTITION BY teamid ORDER BY yearid) / 1000000, 1) AS cumulative_sum_in_mil\n",
    "\tFROM team_annual\n",
    "),\n",
    "year_ranking AS (\n",
    "\tSELECT *, FIRST_VALUE(yearid) OVER (PARTITION BY teamid ORDER BY yearid) AS yr_1_bil\n",
    "\tFROM team_cumulative\n",
    "\tWHERE cumulative_sum_in_mil > 1000\n",
    "\tORDER BY teamid, yearid)\n",
    "\n",
    "SELECT teamid, yr_1_bil, ROUND(cumulative_sum_in_mil / 1000, 2) AS cumulative_sum_in_bil\n",
    "FROM year_ranking\n",
    "WHERE yearid = yr_1_bil;\n",
    "\"\"\""
   ]
  },
  {
   "cell_type": "code",
   "execution_count": 60,
   "id": "58a9cf51-e453-4bc8-8ba7-6b8c4ffb6f63",
   "metadata": {},
   "outputs": [
    {
     "data": {
      "text/markdown": [
       "**Preview of `df_one_bil_threshold`:**"
      ],
      "text/plain": [
       "<IPython.core.display.Markdown object>"
      ]
     },
     "metadata": {},
     "output_type": "display_data"
    },
    {
     "data": {
      "text/html": [
       "<div>\n",
       "<style scoped>\n",
       "    .dataframe tbody tr th:only-of-type {\n",
       "        vertical-align: middle;\n",
       "    }\n",
       "\n",
       "    .dataframe tbody tr th {\n",
       "        vertical-align: top;\n",
       "    }\n",
       "\n",
       "    .dataframe thead th {\n",
       "        text-align: right;\n",
       "    }\n",
       "</style>\n",
       "<table border=\"1\" class=\"dataframe\">\n",
       "  <thead>\n",
       "    <tr style=\"text-align: right;\">\n",
       "      <th></th>\n",
       "      <th>teamid</th>\n",
       "      <th>yr_1_bil</th>\n",
       "      <th>cumulative_sum_in_bil</th>\n",
       "    </tr>\n",
       "  </thead>\n",
       "  <tbody>\n",
       "    <tr>\n",
       "      <th>0</th>\n",
       "      <td>ARI</td>\n",
       "      <td>2012</td>\n",
       "      <td>1.02</td>\n",
       "    </tr>\n",
       "    <tr>\n",
       "      <th>1</th>\n",
       "      <td>ATL</td>\n",
       "      <td>2005</td>\n",
       "      <td>1.07</td>\n",
       "    </tr>\n",
       "    <tr>\n",
       "      <th>...</th>\n",
       "      <td>...</td>\n",
       "      <td>...</td>\n",
       "      <td>...</td>\n",
       "    </tr>\n",
       "    <tr>\n",
       "      <th>24</th>\n",
       "      <td>TEX</td>\n",
       "      <td>2007</td>\n",
       "      <td>1.04</td>\n",
       "    </tr>\n",
       "    <tr>\n",
       "      <th>25</th>\n",
       "      <td>TOR</td>\n",
       "      <td>2008</td>\n",
       "      <td>1.05</td>\n",
       "    </tr>\n",
       "  </tbody>\n",
       "</table>\n",
       "</div>"
      ],
      "text/plain": [
       "    teamid yr_1_bil cumulative_sum_in_bil\n",
       "0      ARI     2012                  1.02\n",
       "1      ATL     2005                  1.07\n",
       "...    ...      ...                   ...\n",
       "24     TEX     2007                  1.04\n",
       "25     TOR     2008                  1.05"
      ]
     },
     "metadata": {},
     "output_type": "display_data"
    }
   ],
   "source": [
    "df_one_bil_threshold = pd.read_sql(query, con=engine)\n",
    "preview_table(df_one_bil_threshold, \"df_one_bil_threshold\")"
   ]
  },
  {
   "cell_type": "markdown",
   "id": "1a1c8e49-0988-4c51-a472-eb9b82cd7575",
   "metadata": {},
   "source": [
    "We calculate the frequency distribution of the years when each team first surpassed $1 billion in cumulative spend.\n",
    "Additionally, we identify and visualize the earliest teams (by 2007) to reach this threshold."
   ]
  },
  {
   "cell_type": "markdown",
   "id": "f79ad5e9-f5fb-4576-8a44-3030662eb15d",
   "metadata": {},
   "source": [
    "**Frequency Distribution of Teams Reaching $1 Billion:**"
   ]
  },
  {
   "cell_type": "code",
   "execution_count": 63,
   "id": "36696f57-98ce-4a34-b742-4efa6502c3c0",
   "metadata": {},
   "outputs": [],
   "source": [
    "# Calculate frequency of first $1B milestones by year\n",
    "df_year_count = df_one_bil_threshold['yr_1_bil'].value_counts().sort_index()"
   ]
  },
  {
   "cell_type": "markdown",
   "id": "da36ef20-c924-44f5-9ff0-5fec0da0f0b3",
   "metadata": {},
   "source": [
    "**Earliest Teams to Reach $1 Billion (By 2007):**"
   ]
  },
  {
   "cell_type": "code",
   "execution_count": 65,
   "id": "ed010e8d-3364-4911-b615-959b79febff8",
   "metadata": {},
   "outputs": [],
   "source": [
    "# Identify early spenders\n",
    "early_spenders = df_one_bil_threshold[df_one_bil_threshold['yr_1_bil'] <= 2007]\n",
    "early_spenders_jittered = early_spenders.copy()\n",
    "\n",
    "# Apply small manual y-offsets to overlapping points\n",
    "overlapping_teams = ['SEA', 'SFN', 'TEX']\n",
    "offsets = [-0.002, 0, 0.002]  # Slight manual jitter\n",
    "for team, offset in zip(overlapping_teams, offsets):\n",
    "    early_spenders_jittered.loc[early_spenders_jittered['teamid'] == team, 'cumulative_sum_in_bil'] += offset"
   ]
  },
  {
   "cell_type": "markdown",
   "id": "111b5572-a018-47d7-9286-2701d1e3cd25",
   "metadata": {},
   "source": [
    "**💡 Insights:**\n",
    "- **2007** stands out, with **6 teams** reaching their first \\$1 billion in cumulative spend — the highest across all years.\n",
    "- **2008** and **2012** each saw 4 teams crossing the mark.\n",
    "- **2005** had **3 teams** achieving the milestone.\n",
    "\n",
    "- **NYA (New York Yankees)** became the **first team** to cross \\$1 billion, achieving it in **2003** with a cumulative spend of **\\$1.06 billion**.\n",
    "- **BOS (Boston Red Sox)** followed in **2004**, hitting exactly \\$1.00 billion."
   ]
  },
  {
   "cell_type": "code",
   "execution_count": 67,
   "id": "cb64529d-8983-4c53-9b58-8291ec54d362",
   "metadata": {},
   "outputs": [
    {
     "data": {
      "image/png": "[encoded data removed]",
      "text/plain": [
       "<Figure size 1300x500 with 2 Axes>"
      ]
     },
     "metadata": {},
     "output_type": "display_data"
    }
   ],
   "source": [
    "# Set up side-by-side plots\n",
    "fig, axes = plt.subplots(1, 2, figsize=(13, 5))  # 1 row, 2 columns\n",
    "\n",
    "# --- Left: Bar Plot (Frequency Distribution) ---\n",
    "df_year_count.plot.bar(\n",
    "    color='skyblue', \n",
    "    width=0.9, \n",
    "    ax=axes[0]\n",
    ")\n",
    "\n",
    "axes[0].set_title('Number of Teams Hitting $1B', fontweight='bold', fontsize=13)\n",
    "axes[0].set_xlabel('Year')\n",
    "axes[0].set_ylabel('Number of Teams')\n",
    "axes[0].set_xticklabels(axes[0].get_xticklabels(), rotation=0)\n",
    "axes[0].grid(axis='y', linestyle='--', alpha=0.5)\n",
    "\n",
    "# --- Right: Scatter Plot (Earliest Teams) ---\n",
    "ax2 = axes[1]\n",
    "sns.scatterplot(\n",
    "    data=early_spenders_jittered, \n",
    "    x='yr_1_bil', \n",
    "    y='cumulative_sum_in_bil', \n",
    "    hue='teamid', \n",
    "    palette='tab10', \n",
    "    s=100,\n",
    "    legend=False,\n",
    "    ax=ax2\n",
    ")\n",
    "\n",
    "# Add labels to each scatter point\n",
    "for i in range(early_spenders_jittered.shape[0]):\n",
    "    ax2.text(\n",
    "        early_spenders_jittered['yr_1_bil'].iloc[i] + 0.1,\n",
    "        early_spenders_jittered['cumulative_sum_in_bil'].iloc[i],\n",
    "        early_spenders_jittered['teamid'].iloc[i],\n",
    "        fontsize=9,\n",
    "        ha='left',\n",
    "        va='center'\n",
    "    )\n",
    "\n",
    "ax2.set_title('Earliest Teams to Hit $1B', fontweight='bold', fontsize=13)\n",
    "ax2.set_xlabel('Year Reaching $1B')\n",
    "ax2.set_ylabel('Cumulative Spend (in Billions)')\n",
    "ax2.set_xticks(range(2003, 2009, 1))\n",
    "ax2.grid(True, linestyle='--', alpha=0.5)\n",
    "\n",
    "plt.tight_layout()\n",
    "plt.show()"
   ]
  },
  {
   "cell_type": "markdown",
   "id": "3511dc73-85e4-452b-9685-fc8c86f5a30e",
   "metadata": {},
   "source": [
    "---\n",
    "## 4. Career Analysis\n",
    "In this section, we explore the career history of MLB players.\n",
    "\n",
    "### 📑 Section Goals\n",
    "We aim to answer the following questions:\n",
    "\n",
    "- **4.1 Initial Player Overview:**  \n",
    "   View key career fields: `playerid`, `birthyear`, `namegiven`, `debut`, `finalgame`, and total number of players.\n",
    "\n",
    "-  **4.2 Career Span Analysis:**  \n",
    "   Analyze career length: How long did players' careers last? At what age did they debut and retire?\n",
    "\n",
    "-  **4.3 Team History Exploration:**  \n",
    "   Identify teams played by each player over time, focusing on first and last teams. Find players who started and ended their career on the same team and played for over a decade."
   ]
  },
  {
   "cell_type": "markdown",
   "id": "46d2df58-00e4-4b15-b6ab-e67b4ef22c4b",
   "metadata": {},
   "source": [
    "### 4.1 Initial Player Overview"
   ]
  },
  {
   "cell_type": "code",
   "execution_count": 70,
   "id": "c52fe8dd-06f9-44d6-b04d-94ab97940d76",
   "metadata": {},
   "outputs": [
    {
     "data": {
      "text/markdown": [
       "**Preview of `players_subset`:**"
      ],
      "text/plain": [
       "<IPython.core.display.Markdown object>"
      ]
     },
     "metadata": {},
     "output_type": "display_data"
    },
    {
     "data": {
      "text/html": [
       "<div>\n",
       "<style scoped>\n",
       "    .dataframe tbody tr th:only-of-type {\n",
       "        vertical-align: middle;\n",
       "    }\n",
       "\n",
       "    .dataframe tbody tr th {\n",
       "        vertical-align: top;\n",
       "    }\n",
       "\n",
       "    .dataframe thead th {\n",
       "        text-align: right;\n",
       "    }\n",
       "</style>\n",
       "<table border=\"1\" class=\"dataframe\">\n",
       "  <thead>\n",
       "    <tr style=\"text-align: right;\">\n",
       "      <th></th>\n",
       "      <th>playerid</th>\n",
       "      <th>birthyear</th>\n",
       "      <th>birthmonth</th>\n",
       "      <th>birthday</th>\n",
       "      <th>namegiven</th>\n",
       "      <th>debut</th>\n",
       "      <th>finalgame</th>\n",
       "    </tr>\n",
       "  </thead>\n",
       "  <tbody>\n",
       "    <tr>\n",
       "      <th>0</th>\n",
       "      <td>aardsda01</td>\n",
       "      <td>1981.0</td>\n",
       "      <td>12.0</td>\n",
       "      <td>27.0</td>\n",
       "      <td>David Allan</td>\n",
       "      <td>2004-04-06</td>\n",
       "      <td>2013-09-28</td>\n",
       "    </tr>\n",
       "    <tr>\n",
       "      <th>1</th>\n",
       "      <td>aaronha01</td>\n",
       "      <td>1934.0</td>\n",
       "      <td>2.0</td>\n",
       "      <td>5.0</td>\n",
       "      <td>Henry Louis</td>\n",
       "      <td>1954-04-13</td>\n",
       "      <td>1976-10-03</td>\n",
       "    </tr>\n",
       "    <tr>\n",
       "      <th>...</th>\n",
       "      <td>...</td>\n",
       "      <td>...</td>\n",
       "      <td>...</td>\n",
       "      <td>...</td>\n",
       "      <td>...</td>\n",
       "      <td>...</td>\n",
       "      <td>...</td>\n",
       "    </tr>\n",
       "    <tr>\n",
       "      <th>18587</th>\n",
       "      <td>zuverge01</td>\n",
       "      <td>1924.0</td>\n",
       "      <td>8.0</td>\n",
       "      <td>20.0</td>\n",
       "      <td>George</td>\n",
       "      <td>1951-04-21</td>\n",
       "      <td>1959-06-15</td>\n",
       "    </tr>\n",
       "    <tr>\n",
       "      <th>18588</th>\n",
       "      <td>zwilldu01</td>\n",
       "      <td>1888.0</td>\n",
       "      <td>11.0</td>\n",
       "      <td>2.0</td>\n",
       "      <td>Edward Harrison</td>\n",
       "      <td>1910-08-14</td>\n",
       "      <td>1916-07-12</td>\n",
       "    </tr>\n",
       "  </tbody>\n",
       "</table>\n",
       "</div>"
      ],
      "text/plain": [
       "        playerid birthyear birthmonth birthday        namegiven       debut  \\\n",
       "0      aardsda01    1981.0       12.0     27.0      David Allan  2004-04-06   \n",
       "1      aaronha01    1934.0        2.0      5.0      Henry Louis  1954-04-13   \n",
       "...          ...       ...        ...      ...              ...         ...   \n",
       "18587  zuverge01    1924.0        8.0     20.0           George  1951-04-21   \n",
       "18588  zwilldu01    1888.0       11.0      2.0  Edward Harrison  1910-08-14   \n",
       "\n",
       "        finalgame  \n",
       "0      2013-09-28  \n",
       "1      1976-10-03  \n",
       "...           ...  \n",
       "18587  1959-06-15  \n",
       "18588  1916-07-12  "
      ]
     },
     "metadata": {},
     "output_type": "display_data"
    }
   ],
   "source": [
    "players_subset = players[['playerid', 'birthyear', 'birthmonth', 'birthday', 'namegiven', 'debut', 'finalgame']]\n",
    "preview_table(players_subset, \"players_subset\")"
   ]
  },
  {
   "cell_type": "code",
   "execution_count": 71,
   "id": "f05006d1-92e8-4201-8f99-ecf22dc80202",
   "metadata": {},
   "outputs": [
    {
     "data": {
      "text/plain": [
       "18589"
      ]
     },
     "execution_count": 71,
     "metadata": {},
     "output_type": "execute_result"
    }
   ],
   "source": [
    "players_subset['playerid'].nunique()"
   ]
  },
  {
   "cell_type": "markdown",
   "id": "1014a117-94aa-48cc-83a3-ca4302c0a8cc",
   "metadata": {},
   "source": [
    "There are 18,589 players present in the table."
   ]
  },
  {
   "cell_type": "markdown",
   "id": "32389dce-7032-4700-97fe-2222b71bb748",
   "metadata": {},
   "source": [
    "---\n",
    "### 4.2 Career Span Analysis:\n",
    "In this section, we examine how long players' careers lasted, along with their debut and retirement ages.\n",
    "\n",
    "***SQL Query:***\n",
    "```sql\n",
    "-- Create a temporary table with additional career fields\n",
    "CREATE TEMPORARY TABLE IF NOT EXISTS career_info AS (\n",
    "    SELECT playerid, birthyear, birthmonth, birthday, namegiven, debut, finalgame, \n",
    "           EXTRACT(YEAR FROM debut) AS debut_year,\n",
    "           EXTRACT(YEAR FROM finalgame) AS final_year\n",
    "    FROM players\n",
    ");\n",
    "\n",
    "-- Calculate career length, debut age, and retirement age\n",
    "SELECT playerid, namegiven, \n",
    "       final_year - debut_year AS career_length,\n",
    "       debut_year - birthyear AS start_age,\n",
    "       final_year - birthyear AS end_age\n",
    "FROM career_info\n",
    "WHERE final_year - debut_year IS NOT NULL AND debut_year - birthyear > 0\n",
    "ORDER BY career_length DESC;"
   ]
  },
  {
   "cell_type": "markdown",
   "id": "7d501ef6-8c02-4308-b4c2-25772feeea92",
   "metadata": {},
   "source": [
    "***Query Result:***"
   ]
  },
  {
   "cell_type": "code",
   "execution_count": 75,
   "id": "8bbd479c-d981-4f59-87ed-9e6fa222ee81",
   "metadata": {
    "jupyter": {
     "source_hidden": true
    }
   },
   "outputs": [],
   "source": [
    "# Hidden Query Execution\n",
    "query = \"\"\"\n",
    "CREATE TEMPORARY TABLE IF NOT EXISTS career_info AS (\n",
    "\tSELECT playerid, birthyear, birthmonth, birthday, namegiven, debut, finalgame, \n",
    "\t\t\tEXTRACT(YEAR FROM debut) AS debut_year,\n",
    "\t\t\tEXTRACT(YEAR FROM finalgame) AS final_year\n",
    "\tFROM players);\n",
    "\t\n",
    "SELECT playerid, namegiven, final_year - debut_year AS career_length,\n",
    "\t\tdebut_year - birthyear AS start_age,\n",
    "\t\tfinal_year - birthyear AS end_age\n",
    "FROM career_info\n",
    "WHERE final_year - debut_year IS NOT NULL AND debut_year - birthyear > 0\n",
    "ORDER BY career_length DESC;\n",
    "\"\"\""
   ]
  },
  {
   "cell_type": "code",
   "execution_count": 76,
   "id": "45d3fe2f-e5f9-47e4-b9a1-76acf4aa73dd",
   "metadata": {},
   "outputs": [
    {
     "data": {
      "text/markdown": [
       "**Preview of `df_career_span`:**"
      ],
      "text/plain": [
       "<IPython.core.display.Markdown object>"
      ]
     },
     "metadata": {},
     "output_type": "display_data"
    },
    {
     "data": {
      "text/html": [
       "<div>\n",
       "<style scoped>\n",
       "    .dataframe tbody tr th:only-of-type {\n",
       "        vertical-align: middle;\n",
       "    }\n",
       "\n",
       "    .dataframe tbody tr th {\n",
       "        vertical-align: top;\n",
       "    }\n",
       "\n",
       "    .dataframe thead th {\n",
       "        text-align: right;\n",
       "    }\n",
       "</style>\n",
       "<table border=\"1\" class=\"dataframe\">\n",
       "  <thead>\n",
       "    <tr style=\"text-align: right;\">\n",
       "      <th></th>\n",
       "      <th>playerid</th>\n",
       "      <th>namegiven</th>\n",
       "      <th>career_length</th>\n",
       "      <th>start_age</th>\n",
       "      <th>end_age</th>\n",
       "    </tr>\n",
       "  </thead>\n",
       "  <tbody>\n",
       "    <tr>\n",
       "      <th>0</th>\n",
       "      <td>altroni01</td>\n",
       "      <td>Nicholas</td>\n",
       "      <td>35.0</td>\n",
       "      <td>22.0</td>\n",
       "      <td>57.0</td>\n",
       "    </tr>\n",
       "    <tr>\n",
       "      <th>1</th>\n",
       "      <td>orourji01</td>\n",
       "      <td>James Henry</td>\n",
       "      <td>32.0</td>\n",
       "      <td>22.0</td>\n",
       "      <td>54.0</td>\n",
       "    </tr>\n",
       "    <tr>\n",
       "      <th>...</th>\n",
       "      <td>...</td>\n",
       "      <td>...</td>\n",
       "      <td>...</td>\n",
       "      <td>...</td>\n",
       "      <td>...</td>\n",
       "    </tr>\n",
       "    <tr>\n",
       "      <th>18256</th>\n",
       "      <td>zinsebi01</td>\n",
       "      <td>William Francis</td>\n",
       "      <td>0.0</td>\n",
       "      <td>26.0</td>\n",
       "      <td>26.0</td>\n",
       "    </tr>\n",
       "    <tr>\n",
       "      <th>18257</th>\n",
       "      <td>zoccope01</td>\n",
       "      <td>Peter Jude</td>\n",
       "      <td>0.0</td>\n",
       "      <td>26.0</td>\n",
       "      <td>26.0</td>\n",
       "    </tr>\n",
       "  </tbody>\n",
       "</table>\n",
       "</div>"
      ],
      "text/plain": [
       "        playerid        namegiven career_length start_age end_age\n",
       "0      altroni01         Nicholas          35.0      22.0    57.0\n",
       "1      orourji01      James Henry          32.0      22.0    54.0\n",
       "...          ...              ...           ...       ...     ...\n",
       "18256  zinsebi01  William Francis           0.0      26.0    26.0\n",
       "18257  zoccope01       Peter Jude           0.0      26.0    26.0"
      ]
     },
     "metadata": {},
     "output_type": "display_data"
    }
   ],
   "source": [
    "df_career_span  = pd.read_sql(query, con=engine)\n",
    "preview_table(df_career_span, \"df_career_span\")"
   ]
  },
  {
   "cell_type": "markdown",
   "id": "a3279f91-9de0-4b18-b02c-db05e907d6b5",
   "metadata": {},
   "source": [
    "### Insights:\n"
   ]
  },
  {
   "cell_type": "markdown",
   "id": "521546fa-26eb-434e-b449-2ccb2ea938dd",
   "metadata": {},
   "source": [
    "**Quick Descriptive Statistics:**"
   ]
  },
  {
   "cell_type": "code",
   "execution_count": 79,
   "id": "8b151247-eade-4b01-96bf-96e35fd722dd",
   "metadata": {},
   "outputs": [
    {
     "data": {
      "text/html": [
       "<div>\n",
       "<style scoped>\n",
       "    .dataframe tbody tr th:only-of-type {\n",
       "        vertical-align: middle;\n",
       "    }\n",
       "\n",
       "    .dataframe tbody tr th {\n",
       "        vertical-align: top;\n",
       "    }\n",
       "\n",
       "    .dataframe thead th {\n",
       "        text-align: right;\n",
       "    }\n",
       "</style>\n",
       "<table border=\"1\" class=\"dataframe\">\n",
       "  <thead>\n",
       "    <tr style=\"text-align: right;\">\n",
       "      <th></th>\n",
       "      <th>career_length</th>\n",
       "      <th>start_age</th>\n",
       "      <th>end_age</th>\n",
       "    </tr>\n",
       "  </thead>\n",
       "  <tbody>\n",
       "    <tr>\n",
       "      <th>count</th>\n",
       "      <td>18258.000000</td>\n",
       "      <td>18258.000000</td>\n",
       "      <td>18258.000000</td>\n",
       "    </tr>\n",
       "    <tr>\n",
       "      <th>mean</th>\n",
       "      <td>4.750137</td>\n",
       "      <td>24.303976</td>\n",
       "      <td>29.054113</td>\n",
       "    </tr>\n",
       "    <tr>\n",
       "      <th>std</th>\n",
       "      <td>5.026937</td>\n",
       "      <td>2.805492</td>\n",
       "      <td>4.902201</td>\n",
       "    </tr>\n",
       "    <tr>\n",
       "      <th>min</th>\n",
       "      <td>0.000000</td>\n",
       "      <td>16.000000</td>\n",
       "      <td>16.000000</td>\n",
       "    </tr>\n",
       "    <tr>\n",
       "      <th>25%</th>\n",
       "      <td>0.000000</td>\n",
       "      <td>22.000000</td>\n",
       "      <td>26.000000</td>\n",
       "    </tr>\n",
       "    <tr>\n",
       "      <th>50%</th>\n",
       "      <td>3.000000</td>\n",
       "      <td>24.000000</td>\n",
       "      <td>28.000000</td>\n",
       "    </tr>\n",
       "    <tr>\n",
       "      <th>75%</th>\n",
       "      <td>8.000000</td>\n",
       "      <td>26.000000</td>\n",
       "      <td>32.000000</td>\n",
       "    </tr>\n",
       "    <tr>\n",
       "      <th>max</th>\n",
       "      <td>35.000000</td>\n",
       "      <td>42.000000</td>\n",
       "      <td>59.000000</td>\n",
       "    </tr>\n",
       "  </tbody>\n",
       "</table>\n",
       "</div>"
      ],
      "text/plain": [
       "       career_length     start_age       end_age\n",
       "count   18258.000000  18258.000000  18258.000000\n",
       "mean        4.750137     24.303976     29.054113\n",
       "std         5.026937      2.805492      4.902201\n",
       "min         0.000000     16.000000     16.000000\n",
       "25%         0.000000     22.000000     26.000000\n",
       "50%         3.000000     24.000000     28.000000\n",
       "75%         8.000000     26.000000     32.000000\n",
       "max        35.000000     42.000000     59.000000"
      ]
     },
     "execution_count": 79,
     "metadata": {},
     "output_type": "execute_result"
    }
   ],
   "source": [
    "# Get basic statistics for career_length, start_age, and end_age\n",
    "df_career_span[['career_length', 'start_age', 'end_age']].describe()"
   ]
  },
  {
   "cell_type": "code",
   "execution_count": 80,
   "id": "29c67d0d-7ece-4f0b-af98-dc1f3f4e8886",
   "metadata": {},
   "outputs": [
    {
     "data": {
      "image/png": "[encoded data removed]",
      "text/plain": [
       "<Figure size 1400x500 with 2 Axes>"
      ]
     },
     "metadata": {},
     "output_type": "display_data"
    }
   ],
   "source": [
    "# Get basic statistics for career_length, start_age, and end_age\n",
    "df_career_span[['career_length', 'start_age', 'end_age']].describe()# Side-by-side plots: Career Length and Debut Age Distributions\n",
    "fig, axes = plt.subplots(1, 2, figsize=(14, 5))  # 1 row, 2 columns\n",
    "\n",
    "# -- Career Length Distribution --\n",
    "sns.histplot(df_career_span['career_length'], bins=30, kde=True, color='skyblue', ax=axes[0])\n",
    "axes[0].set_title('Distribution of Career Lengths', fontweight='bold')\n",
    "axes[0].set_xlabel('Career Length (Years)')\n",
    "axes[0].set_ylabel('Number of Players')\n",
    "axes[0].grid(True, linestyle='--', alpha=0.5)\n",
    "\n",
    "# -- Starting Age Distribution --\n",
    "sns.histplot(df_career_span['start_age'], bins=30, kde=True, color='lightgreen', ax=axes[1])\n",
    "axes[1].set_title('Distribution of Debut Age', fontweight='bold')\n",
    "axes[1].set_xlabel('Age at Debut')\n",
    "axes[1].set_ylabel('Number of Players')\n",
    "axes[1].grid(True, linestyle='--', alpha=0.5)\n",
    "\n",
    "plt.tight_layout()\n",
    "plt.show()"
   ]
  },
  {
   "cell_type": "markdown",
   "id": "1663ab56-e669-4922-a9f4-8fefe6f5eee9",
   "metadata": {},
   "source": [
    "### 🔍 Career Span Insights\n",
    "**Average Career Length:**\n",
    "\n",
    "- Players typically have a career span of **5 years.**\n",
    "- While rare cases stretch up to **35 years**, the majority have much shorter careers with **75% of players spending 8 years or less** in professional play.\n",
    "- Suprisingly, expectional number of players (almost 7,000) **ended their career in 1 year or less.**\n",
    "\n",
    "**Debut and Retirement Ages:**\n",
    "\n",
    "- Most players **debut around age 24** and **retire around age 29**.\n",
    "- Some exceptional players debuted **as early as 16** or **as late as 42.**\n",
    "- About **half the players** concluded their careers by age **28**."
   ]
  },
  {
   "cell_type": "markdown",
   "id": "73fe85d8-9b8a-487c-bdf4-8d5884647767",
   "metadata": {},
   "source": [
    "---\n",
    "### 4.3 Team History Exploration\n",
    "In this section, we aim to answer what team each player started and ended their career with.\n",
    "We also account for cases where a player's final recorded year in the database does not align perfectly with the salaries table (e.g., missing final year salary data).\n",
    "\n",
    "***SQL Query:***\n",
    "```sql\n",
    "-- Player's Career Info\n",
    "WITH career_info AS (\n",
    "    SELECT playerid, birthyear, birthmonth, birthday, namegiven, debut, finalgame, \n",
    "           EXTRACT(YEAR FROM debut) AS debut_year,\n",
    "           EXTRACT(YEAR FROM finalgame) AS final_year\n",
    "    FROM players\n",
    ")\n",
    "\n",
    "-- Select the players' debut and final team information\n",
    "SELECT *,\n",
    "           FIRST_VALUE(teamid) OVER (PARTITION BY playerid ORDER BY yearid) AS debut_team,\n",
    "           FIRST_VALUE(teamid) OVER (PARTITION BY playerid ORDER BY yearid DESC) AS final_team,\n",
    "           ROW_NUMBER() OVER (PARTITION BY playerid ORDER BY yearid ASC) AS row_num\n",
    "    FROM (\n",
    "        SELECT ci.playerid, ci.namegiven, ci.debut_year, ci.final_year, s.yearid, s.teamid\n",
    "        FROM career_info AS ci\n",
    "        LEFT JOIN salaries AS s\n",
    "          ON ci.playerid = s.playerid\n",
    "        WHERE s.teamid IS NOT NULL\n",
    "    )\n",
    "    ORDER BY playerid, yearid;\n"
   ]
  },
  {
   "cell_type": "markdown",
   "id": "027ae6f4-b794-4be4-b5eb-e3d8026d177a",
   "metadata": {},
   "source": [
    "***Query Result:***"
   ]
  },
  {
   "cell_type": "code",
   "execution_count": 84,
   "id": "26874bf9-72b5-4bc7-822d-fb15cf97612e",
   "metadata": {},
   "outputs": [],
   "source": [
    "query = \"\"\"\n",
    "WITH career_info AS (\n",
    "    SELECT playerid, birthyear, birthmonth, birthday, namegiven, debut, finalgame, \n",
    "           EXTRACT(YEAR FROM debut) AS debut_year,\n",
    "           EXTRACT(YEAR FROM finalgame) AS final_year\n",
    "    FROM players\n",
    ")\n",
    "SELECT *,\n",
    "           FIRST_VALUE(teamid) OVER (PARTITION BY playerid ORDER BY yearid) AS debut_team,\n",
    "           FIRST_VALUE(teamid) OVER (PARTITION BY playerid ORDER BY yearid DESC) AS final_team,\n",
    "           ROW_NUMBER() OVER (PARTITION BY playerid ORDER BY yearid ASC) AS row_num\n",
    "    FROM (\n",
    "        SELECT ci.playerid, ci.namegiven, ci.debut_year, ci.final_year, s.yearid, s.teamid\n",
    "        FROM career_info AS ci\n",
    "        LEFT JOIN salaries AS s\n",
    "          ON ci.playerid = s.playerid\n",
    "        WHERE s.teamid IS NOT NULL\n",
    "    )\n",
    "    ORDER BY playerid, yearid;\n",
    "\"\"\""
   ]
  },
  {
   "cell_type": "code",
   "execution_count": 87,
   "id": "8d05012b-2325-4f7b-baec-4bebfec40adb",
   "metadata": {},
   "outputs": [
    {
     "data": {
      "text/markdown": [
       "**Preview of `df_team_history`:**"
      ],
      "text/plain": [
       "<IPython.core.display.Markdown object>"
      ]
     },
     "metadata": {},
     "output_type": "display_data"
    },
    {
     "data": {
      "text/html": [
       "<div>\n",
       "<style scoped>\n",
       "    .dataframe tbody tr th:only-of-type {\n",
       "        vertical-align: middle;\n",
       "    }\n",
       "\n",
       "    .dataframe tbody tr th {\n",
       "        vertical-align: top;\n",
       "    }\n",
       "\n",
       "    .dataframe thead th {\n",
       "        text-align: right;\n",
       "    }\n",
       "</style>\n",
       "<table border=\"1\" class=\"dataframe\">\n",
       "  <thead>\n",
       "    <tr style=\"text-align: right;\">\n",
       "      <th></th>\n",
       "      <th>playerid</th>\n",
       "      <th>namegiven</th>\n",
       "      <th>debut_year</th>\n",
       "      <th>final_year</th>\n",
       "      <th>yearid</th>\n",
       "      <th>teamid</th>\n",
       "      <th>debut_team</th>\n",
       "      <th>final_team</th>\n",
       "      <th>row_num</th>\n",
       "    </tr>\n",
       "  </thead>\n",
       "  <tbody>\n",
       "    <tr>\n",
       "      <th>0</th>\n",
       "      <td>aardsda01</td>\n",
       "      <td>David Allan</td>\n",
       "      <td>2004.0</td>\n",
       "      <td>2013.0</td>\n",
       "      <td>2004</td>\n",
       "      <td>SFN</td>\n",
       "      <td>SFN</td>\n",
       "      <td>NYA</td>\n",
       "      <td>1</td>\n",
       "    </tr>\n",
       "    <tr>\n",
       "      <th>1</th>\n",
       "      <td>aardsda01</td>\n",
       "      <td>David Allan</td>\n",
       "      <td>2004.0</td>\n",
       "      <td>2013.0</td>\n",
       "      <td>2007</td>\n",
       "      <td>CHA</td>\n",
       "      <td>SFN</td>\n",
       "      <td>NYA</td>\n",
       "      <td>2</td>\n",
       "    </tr>\n",
       "    <tr>\n",
       "      <th>...</th>\n",
       "      <td>...</td>\n",
       "      <td>...</td>\n",
       "      <td>...</td>\n",
       "      <td>...</td>\n",
       "      <td>...</td>\n",
       "      <td>...</td>\n",
       "      <td>...</td>\n",
       "      <td>...</td>\n",
       "      <td>...</td>\n",
       "    </tr>\n",
       "    <tr>\n",
       "      <th>24751</th>\n",
       "      <td>zupcibo01</td>\n",
       "      <td>Robert</td>\n",
       "      <td>1991.0</td>\n",
       "      <td>1994.0</td>\n",
       "      <td>1993</td>\n",
       "      <td>BOS</td>\n",
       "      <td>BOS</td>\n",
       "      <td>BOS</td>\n",
       "      <td>3</td>\n",
       "    </tr>\n",
       "    <tr>\n",
       "      <th>24752</th>\n",
       "      <td>zuvelpa01</td>\n",
       "      <td>Paul</td>\n",
       "      <td>1982.0</td>\n",
       "      <td>1991.0</td>\n",
       "      <td>1989</td>\n",
       "      <td>ATL</td>\n",
       "      <td>ATL</td>\n",
       "      <td>ATL</td>\n",
       "      <td>1</td>\n",
       "    </tr>\n",
       "  </tbody>\n",
       "</table>\n",
       "</div>"
      ],
      "text/plain": [
       "        playerid    namegiven debut_year final_year yearid teamid debut_team  \\\n",
       "0      aardsda01  David Allan     2004.0     2013.0   2004    SFN        SFN   \n",
       "1      aardsda01  David Allan     2004.0     2013.0   2007    CHA        SFN   \n",
       "...          ...          ...        ...        ...    ...    ...        ...   \n",
       "24751  zupcibo01       Robert     1991.0     1994.0   1993    BOS        BOS   \n",
       "24752  zuvelpa01         Paul     1982.0     1991.0   1989    ATL        ATL   \n",
       "\n",
       "      final_team row_num  \n",
       "0            NYA       1  \n",
       "1            NYA       2  \n",
       "...          ...     ...  \n",
       "24751        BOS       3  \n",
       "24752        ATL       1  "
      ]
     },
     "metadata": {},
     "output_type": "display_data"
    }
   ],
   "source": [
    "df_team_history = pd.read_sql(query, con=engine)\n",
    "preview_table(df_team_history, \"df_team_history\")"
   ]
  },
  {
   "cell_type": "markdown",
   "id": "9364aa9e-2e5a-45dd-a25d-f2a8306cb02e",
   "metadata": {},
   "source": [
    "**Long Term Team Loyalty vs Movement:**\n",
    "\n",
    "By identifying the debut team and final team for each player, we analyze how many players started and ended their career with the same teamcould indicate a high level of team loyalty.\n",
    "\n",
    "- **Long-Term Loyalty:** Players who started and ended their career with the same team could indicate a high level of team loyalty.\n",
    "\n",
    "- **Frequent Team Changes:** Players who switched teams often might suggest a higher degree of mobility or demand across different franchises."
   ]
  },
  {
   "cell_type": "code",
   "execution_count": 90,
   "id": "b2553b5d-51a8-48a9-850e-98acf0be91bd",
   "metadata": {},
   "outputs": [
    {
     "data": {
      "text/plain": [
       "611"
      ]
     },
     "execution_count": 90,
     "metadata": {},
     "output_type": "execute_result"
    }
   ],
   "source": [
    "bool_df = (df_team_history['row_num'] == 1) & (df_team_history['debut_team'] == df_team_history['final_team']) & (df_team_history['final_year'] - df_team_history['debut_year'] > 5)\n",
    "bool_df.sum()"
   ]
  },
  {
   "cell_type": "markdown",
   "id": "b859d369-291a-4d95-a4e5-21bf45651e32",
   "metadata": {},
   "source": [
    "Out of 24,752 only 611 ended up in the same team as their debut and played with for more than 5 years in their career."
   ]
  },
  {
   "cell_type": "code",
   "execution_count": 166,
   "id": "5db9f013-98e7-40bb-b0d2-fbf427dbb98a",
   "metadata": {},
   "outputs": [
    {
     "data": {
      "text/plain": [
       "<Axes: xlabel='teamid'>"
      ]
     },
     "execution_count": 166,
     "metadata": {},
     "output_type": "execute_result"
    },
    {
     "data": {
      "image/png": "[encoded data removed]",
      "text/plain": [
       "<Figure size 640x480 with 1 Axes>"
      ]
     },
     "metadata": {},
     "output_type": "display_data"
    }
   ],
   "source": [
    "df_team_history.loc[bool_df, 'teamid'].value_counts().head(10).plot.bar()"
   ]
  },
  {
   "cell_type": "markdown",
   "id": "0db15d70-166c-439e-b8eb-402f7c598eca",
   "metadata": {},
   "source": [
    "Teams with Highest Player Retension: KCA (30), BAl (28), and TEX (27)."
   ]
  },
  {
   "cell_type": "code",
   "execution_count": 176,
   "id": "c01272ff-8c92-44d0-9e55-2710a85d7112",
   "metadata": {},
   "outputs": [
    {
     "data": {
      "text/plain": [
       "playerid\n",
       "batismi01    10\n",
       "blanche01    10\n",
       "stairma01    11\n",
       "Name: teamid, dtype: int64"
      ]
     },
     "execution_count": 176,
     "metadata": {},
     "output_type": "execute_result"
    }
   ],
   "source": [
    "# Filter players who have played for 10 or more distinct teams\n",
    "df_team_count = df_team_history.groupby('playerid')['teamid'].nunique()\n",
    "df_team_count[df_team_count >= 10]"
   ]
  },
  {
   "cell_type": "markdown",
   "id": "dd9c8bce-7493-441b-a85c-facc2916005a",
   "metadata": {},
   "source": [
    "Players with highest movement:\n",
    "\n",
    "\n",
    "|batismi01 |   10 |\n",
    "|----------|------|\n",
    "|blanche01 |  10  |\n",
    "|stairma01 |   11 |"
   ]
  },
  {
   "cell_type": "markdown",
   "id": "481de063-1008-4e91-a81b-8e9dda6c16a1",
   "metadata": {},
   "source": [
    "---\n",
    "## 5. Players Comparision Analysis\n",
    "In this section, we compare players based on personal attributes and playing styles to uncover trends and similarities.\n",
    "Let's view important player attributes such as weight, height, batting side (`bats`), throwing hand (`throws`), and birthday."
   ]
  },
  {
   "cell_type": "code",
   "execution_count": 215,
   "id": "bd13e173-9413-4c73-beff-755f34f338fb",
   "metadata": {},
   "outputs": [
    {
     "data": {
      "text/markdown": [
       "**Preview of `players_subset`:**"
      ],
      "text/plain": [
       "<IPython.core.display.Markdown object>"
      ]
     },
     "metadata": {},
     "output_type": "display_data"
    },
    {
     "data": {
      "text/html": [
       "<div>\n",
       "<style scoped>\n",
       "    .dataframe tbody tr th:only-of-type {\n",
       "        vertical-align: middle;\n",
       "    }\n",
       "\n",
       "    .dataframe tbody tr th {\n",
       "        vertical-align: top;\n",
       "    }\n",
       "\n",
       "    .dataframe thead th {\n",
       "        text-align: right;\n",
       "    }\n",
       "</style>\n",
       "<table border=\"1\" class=\"dataframe\">\n",
       "  <thead>\n",
       "    <tr style=\"text-align: right;\">\n",
       "      <th></th>\n",
       "      <th>playerid</th>\n",
       "      <th>namegiven</th>\n",
       "      <th>birthyear</th>\n",
       "      <th>birthmonth</th>\n",
       "      <th>birthday</th>\n",
       "      <th>weight</th>\n",
       "      <th>height</th>\n",
       "      <th>bats</th>\n",
       "      <th>throws</th>\n",
       "      <th>debut</th>\n",
       "      <th>finalgame</th>\n",
       "    </tr>\n",
       "  </thead>\n",
       "  <tbody>\n",
       "    <tr>\n",
       "      <th>0</th>\n",
       "      <td>aardsda01</td>\n",
       "      <td>David Allan</td>\n",
       "      <td>1981.0</td>\n",
       "      <td>12.0</td>\n",
       "      <td>27.0</td>\n",
       "      <td>205.0</td>\n",
       "      <td>75.0</td>\n",
       "      <td>R</td>\n",
       "      <td>R</td>\n",
       "      <td>2004-04-06</td>\n",
       "      <td>2013-09-28</td>\n",
       "    </tr>\n",
       "    <tr>\n",
       "      <th>1</th>\n",
       "      <td>aaronha01</td>\n",
       "      <td>Henry Louis</td>\n",
       "      <td>1934.0</td>\n",
       "      <td>2.0</td>\n",
       "      <td>5.0</td>\n",
       "      <td>180.0</td>\n",
       "      <td>72.0</td>\n",
       "      <td>R</td>\n",
       "      <td>R</td>\n",
       "      <td>1954-04-13</td>\n",
       "      <td>1976-10-03</td>\n",
       "    </tr>\n",
       "    <tr>\n",
       "      <th>...</th>\n",
       "      <td>...</td>\n",
       "      <td>...</td>\n",
       "      <td>...</td>\n",
       "      <td>...</td>\n",
       "      <td>...</td>\n",
       "      <td>...</td>\n",
       "      <td>...</td>\n",
       "      <td>...</td>\n",
       "      <td>...</td>\n",
       "      <td>...</td>\n",
       "      <td>...</td>\n",
       "    </tr>\n",
       "    <tr>\n",
       "      <th>18587</th>\n",
       "      <td>zuverge01</td>\n",
       "      <td>George</td>\n",
       "      <td>1924.0</td>\n",
       "      <td>8.0</td>\n",
       "      <td>20.0</td>\n",
       "      <td>195.0</td>\n",
       "      <td>76.0</td>\n",
       "      <td>R</td>\n",
       "      <td>R</td>\n",
       "      <td>1951-04-21</td>\n",
       "      <td>1959-06-15</td>\n",
       "    </tr>\n",
       "    <tr>\n",
       "      <th>18588</th>\n",
       "      <td>zwilldu01</td>\n",
       "      <td>Edward Harrison</td>\n",
       "      <td>1888.0</td>\n",
       "      <td>11.0</td>\n",
       "      <td>2.0</td>\n",
       "      <td>160.0</td>\n",
       "      <td>66.0</td>\n",
       "      <td>L</td>\n",
       "      <td>L</td>\n",
       "      <td>1910-08-14</td>\n",
       "      <td>1916-07-12</td>\n",
       "    </tr>\n",
       "  </tbody>\n",
       "</table>\n",
       "</div>"
      ],
      "text/plain": [
       "        playerid        namegiven birthyear birthmonth birthday weight height  \\\n",
       "0      aardsda01      David Allan    1981.0       12.0     27.0  205.0   75.0   \n",
       "1      aaronha01      Henry Louis    1934.0        2.0      5.0  180.0   72.0   \n",
       "...          ...              ...       ...        ...      ...    ...    ...   \n",
       "18587  zuverge01           George    1924.0        8.0     20.0  195.0   76.0   \n",
       "18588  zwilldu01  Edward Harrison    1888.0       11.0      2.0  160.0   66.0   \n",
       "\n",
       "      bats throws       debut   finalgame  \n",
       "0        R      R  2004-04-06  2013-09-28  \n",
       "1        R      R  1954-04-13  1976-10-03  \n",
       "...    ...    ...         ...         ...  \n",
       "18587    R      R  1951-04-21  1959-06-15  \n",
       "18588    L      L  1910-08-14  1916-07-12  "
      ]
     },
     "metadata": {},
     "output_type": "display_data"
    }
   ],
   "source": [
    "cols = ['playerid', 'namegiven', 'birthyear', 'birthmonth', 'birthday', \n",
    "        'weight', 'height', 'bats', 'throws','debut', 'finalgame']\n",
    "\n",
    "preview_table(players[cols], \"players_subset\")"
   ]
  },
  {
   "cell_type": "code",
   "execution_count": 555,
   "id": "d21f0552-8aa9-4ef0-b2ec-e66b134cd8fd",
   "metadata": {},
   "outputs": [
    {
     "data": {
      "text/plain": [
       "array(['R', 'L', None, 'B'], dtype=object)"
      ]
     },
     "metadata": {},
     "output_type": "display_data"
    },
    {
     "data": {
      "text/plain": [
       "array(['R', 'L', None], dtype=object)"
      ]
     },
     "metadata": {},
     "output_type": "display_data"
    }
   ],
   "source": [
    "display(players['bats'].unique())\n",
    "display(players['throws'].unique())"
   ]
  },
  {
   "cell_type": "markdown",
   "id": "260df254-625b-4c42-9f41-d08d1fe124a7",
   "metadata": {},
   "source": [
    "### 📑 Section Goals\n",
    "We aim to answer the following questions:\n",
    "\n",
    "-  **5.1 Age Group Analysis:**  \n",
    "   Identify players of the same age and analyze common age groups across the player population.\n",
    "\n",
    "-  **5.2 Batting and Throwing Preferences by Team:**  \n",
    "   Create summary tables for each team showing the percentage of players who bat right, left, or both, and the same for throwing handedness.\n",
    "\n",
    "-  **5.3 Height and Weight Trends Over Time:**  \n",
    "   Analyze how average debut height and weight have changed over the years, and compare decade-over-decade differences."
   ]
  },
  {
   "cell_type": "markdown",
   "id": "86b03faa-fe0a-4102-ac60-6da448a3daa1",
   "metadata": {},
   "source": [
    "### 5.1 Age Group Analysis\n",
    "***SQL Query:***\n",
    "```sql\n",
    "WITH players_info AS (\n",
    "SELECT playerid, namegiven, (birthyear || '-' || birthmonth || '-' || birthday)::DATE AS birthdate, \n",
    "\t\tweight, height, bats, throws, debut, finalgame\n",
    "FROM players\n",
    "WHERE deathyear IS NULL),\n",
    "\n",
    "-- Group by age group and with atleast 50 players within the age group\n",
    "players_by_age_group AS (\n",
    "\tSELECT *, FLOOR(EXTRACT(YEAR FROM AGE(birthdate)) / 10) * 10 AS age_group\n",
    "\tFROM players_info\n",
    "\tWHERE birthdate IS NOT NULL)\n",
    "\n",
    "SELECT age_group::INT AS age_group, COUNT(*) AS players_num\n",
    "FROM players_by_age_group\n",
    "GROUP BY age_group\n",
    "ORDER BY players_num DESC;"
   ]
  },
  {
   "cell_type": "markdown",
   "id": "103f9380-b3fd-4e8e-a437-d136b405d4ec",
   "metadata": {},
   "source": [
    "***Query Result:***"
   ]
  },
  {
   "cell_type": "code",
   "execution_count": 403,
   "id": "f13b6640-905c-4f01-84f7-cae0497b9c88",
   "metadata": {
    "jupyter": {
     "source_hidden": true
    }
   },
   "outputs": [],
   "source": [
    "## Hidden Query Execution\n",
    "query = \"\"\"\n",
    "WITH players_info AS (\n",
    "SELECT playerid, namegiven, (birthyear || '-' || birthmonth || '-' || birthday)::DATE AS birthdate, \n",
    "\t\tweight, height, bats, throws, debut, finalgame\n",
    "FROM players\n",
    "WHERE deathyear IS NULL),\n",
    "\n",
    "-- 2b. Group by age group and with atleast 50 players within the age group\n",
    "players_by_age_group AS (\n",
    "\tSELECT *, FLOOR(EXTRACT(YEAR FROM AGE(birthdate)) / 10) * 10 AS age_group\n",
    "\tFROM players_info\n",
    "\tWHERE birthdate IS NOT NULL)\n",
    "\n",
    "SELECT age_group::INT AS age_group, COUNT(*) AS players_num\n",
    "FROM players_by_age_group\n",
    "GROUP BY age_group\n",
    "ORDER BY players_num DESC;\n",
    "\"\"\""
   ]
  },
  {
   "cell_type": "code",
   "execution_count": 405,
   "id": "427a56ea-2719-4335-a198-89fec58f2219",
   "metadata": {},
   "outputs": [
    {
     "data": {
      "text/markdown": [
       "**Preview of `df_players_ages`:**"
      ],
      "text/plain": [
       "<IPython.core.display.Markdown object>"
      ]
     },
     "metadata": {},
     "output_type": "display_data"
    },
    {
     "data": {
      "text/html": [
       "<div>\n",
       "<style scoped>\n",
       "    .dataframe tbody tr th:only-of-type {\n",
       "        vertical-align: middle;\n",
       "    }\n",
       "\n",
       "    .dataframe tbody tr th {\n",
       "        vertical-align: top;\n",
       "    }\n",
       "\n",
       "    .dataframe thead th {\n",
       "        text-align: right;\n",
       "    }\n",
       "</style>\n",
       "<table border=\"1\" class=\"dataframe\">\n",
       "  <thead>\n",
       "    <tr style=\"text-align: right;\">\n",
       "      <th></th>\n",
       "      <th>age_group</th>\n",
       "      <th>players_num</th>\n",
       "    </tr>\n",
       "  </thead>\n",
       "  <tbody>\n",
       "    <tr>\n",
       "      <th>0</th>\n",
       "      <td>40</td>\n",
       "      <td>2075</td>\n",
       "    </tr>\n",
       "    <tr>\n",
       "      <th>1</th>\n",
       "      <td>50</td>\n",
       "      <td>1868</td>\n",
       "    </tr>\n",
       "    <tr>\n",
       "      <th>...</th>\n",
       "      <td>...</td>\n",
       "      <td>...</td>\n",
       "    </tr>\n",
       "    <tr>\n",
       "      <th>10</th>\n",
       "      <td>150</td>\n",
       "      <td>7</td>\n",
       "    </tr>\n",
       "    <tr>\n",
       "      <th>11</th>\n",
       "      <td>170</td>\n",
       "      <td>4</td>\n",
       "    </tr>\n",
       "  </tbody>\n",
       "</table>\n",
       "</div>"
      ],
      "text/plain": [
       "    age_group players_num\n",
       "0          40        2075\n",
       "1          50        1868\n",
       "...       ...         ...\n",
       "10        150           7\n",
       "11        170           4"
      ]
     },
     "metadata": {},
     "output_type": "display_data"
    }
   ],
   "source": [
    "df_players_ages = pd.read_sql(query2, con=engine)\n",
    "preview_table(df_players_ages, \"df_players_ages\")"
   ]
  },
  {
   "cell_type": "code",
   "execution_count": 280,
   "id": "f3e92d0a-d371-48fe-b125-f50723570a81",
   "metadata": {},
   "outputs": [
    {
     "data": {
      "text/plain": [
       "<Axes: xlabel='age_group', ylabel='players_num'>"
      ]
     },
     "execution_count": 280,
     "metadata": {},
     "output_type": "execute_result"
    },
    {
     "data": {
      "image/png": "[encoded data removed]",
      "text/plain": [
       "<Figure size 640x480 with 1 Axes>"
      ]
     },
     "metadata": {},
     "output_type": "display_data"
    }
   ],
   "source": [
    "sns.barplot(data=df_players_ages, x='age_group', y='players_num')"
   ]
  },
  {
   "cell_type": "markdown",
   "id": "a5bdd666-1e45-42f7-ae7c-5a945414f467",
   "metadata": {},
   "source": [
    "---\n",
    "### 5.2 Batting and Throwing Preferences by Team\n",
    "***SQL Query:***\n",
    "\n",
    "```sql\n",
    "WITH sum_stats AS (\n",
    "    SELECT \n",
    "        s.teamid,\n",
    "        COUNT(DISTINCT CASE WHEN p.bats = 'B' THEN p.playerid ELSE NULL END) AS bat_both,\n",
    "        COUNT(DISTINCT CASE WHEN p.bats = 'L' THEN p.playerid ELSE NULL END) AS bat_left,\n",
    "        COUNT(DISTINCT CASE WHEN p.bats = 'R' THEN p.playerid ELSE NULL END) AS bat_right,\n",
    "        COUNT(DISTINCT CASE WHEN p.throws = 'L' THEN p.playerid ELSE NULL END) AS throw_left,\n",
    "        COUNT(DISTINCT CASE WHEN p.throws = 'R' THEN p.playerid ELSE NULL END) AS throw_right,\n",
    "        COUNT(DISTINCT p.playerid) * 1.0 AS total\n",
    "    FROM players AS p\n",
    "    LEFT JOIN salaries AS s ON p.playerid = s.playerid\n",
    "    WHERE teamid IS NOT NULL\n",
    "    GROUP BY s.teamid\n",
    ")\n",
    "\n",
    "SELECT COALESCE(teamid, 'N/A') AS team,\n",
    "\t\tROUND(bat_both/total * 100, 2) AS bat_both_pct,\n",
    "\t\tROUND(bat_left/total * 100, 2) AS bat_left_pct,\n",
    "\t\tROUND(bat_right/total * 100, 2) AS bat_right_pct,\n",
    "\t\tROUND(throw_left/total * 100, 2) AS throw_left_pct,\n",
    "\t\tROUND(throw_right/total * 100, 2) throw_right_pct\n",
    "FROM sum_stats;"
   ]
  },
  {
   "cell_type": "code",
   "execution_count": 600,
   "id": "7e3e9267-7432-4a9b-ada0-1b121d753454",
   "metadata": {
    "jupyter": {
     "source_hidden": true
    }
   },
   "outputs": [],
   "source": [
    "# Hidden Query Execution\n",
    "query = \"\"\"\n",
    "WITH sum_stats AS (\n",
    "    SELECT \n",
    "        s.teamid,\n",
    "        COUNT(DISTINCT CASE WHEN p.bats = 'B' THEN p.playerid ELSE NULL END) AS bat_both,\n",
    "        COUNT(DISTINCT CASE WHEN p.bats = 'L' THEN p.playerid ELSE NULL END) AS bat_left,\n",
    "        COUNT(DISTINCT CASE WHEN p.bats = 'R' THEN p.playerid ELSE NULL END) AS bat_right,\n",
    "        COUNT(DISTINCT CASE WHEN p.throws = 'L' THEN p.playerid ELSE NULL END) AS throw_left,\n",
    "        COUNT(DISTINCT CASE WHEN p.throws = 'R' THEN p.playerid ELSE NULL END) AS throw_right,\n",
    "        COUNT(DISTINCT p.playerid) * 1.0 AS total\n",
    "    FROM players AS p\n",
    "    LEFT JOIN salaries AS s ON p.playerid = s.playerid\n",
    "    WHERE teamid IS NOT NULL\n",
    "    GROUP BY s.teamid\n",
    ")\n",
    "\n",
    "SELECT COALESCE(teamid, 'N/A') AS team,\n",
    "\t\tROUND(bat_both/total * 100, 2) AS bat_both_pct,\n",
    "\t\tROUND(bat_left/total * 100, 2) AS bat_left_pct,\n",
    "\t\tROUND(bat_right/total * 100, 2) AS bat_right_pct,\n",
    "\t\tROUND(throw_left/total * 100, 2) AS throw_left_pct,\n",
    "\t\tROUND(throw_right/total * 100, 2) throw_right_pct\n",
    "FROM sum_stats;\n",
    "\"\"\""
   ]
  },
  {
   "cell_type": "code",
   "execution_count": 602,
   "id": "4b0d0918-93d7-464a-83ca-d3a58caeb0de",
   "metadata": {},
   "outputs": [
    {
     "data": {
      "text/markdown": [
       "**Preview of `df_batting_stats`:**"
      ],
      "text/plain": [
       "<IPython.core.display.Markdown object>"
      ]
     },
     "metadata": {},
     "output_type": "display_data"
    },
    {
     "data": {
      "text/html": [
       "<div>\n",
       "<style scoped>\n",
       "    .dataframe tbody tr th:only-of-type {\n",
       "        vertical-align: middle;\n",
       "    }\n",
       "\n",
       "    .dataframe tbody tr th {\n",
       "        vertical-align: top;\n",
       "    }\n",
       "\n",
       "    .dataframe thead th {\n",
       "        text-align: right;\n",
       "    }\n",
       "</style>\n",
       "<table border=\"1\" class=\"dataframe\">\n",
       "  <thead>\n",
       "    <tr style=\"text-align: right;\">\n",
       "      <th></th>\n",
       "      <th>team</th>\n",
       "      <th>bat_both_pct</th>\n",
       "      <th>bat_left_pct</th>\n",
       "      <th>bat_right_pct</th>\n",
       "      <th>throw_left_pct</th>\n",
       "      <th>throw_right_pct</th>\n",
       "    </tr>\n",
       "  </thead>\n",
       "  <tbody>\n",
       "    <tr>\n",
       "      <th>0</th>\n",
       "      <td>ANA</td>\n",
       "      <td>9.09</td>\n",
       "      <td>24.55</td>\n",
       "      <td>66.36</td>\n",
       "      <td>17.27</td>\n",
       "      <td>82.73</td>\n",
       "    </tr>\n",
       "    <tr>\n",
       "      <th>1</th>\n",
       "      <td>ARI</td>\n",
       "      <td>9.01</td>\n",
       "      <td>29.61</td>\n",
       "      <td>61.37</td>\n",
       "      <td>21.89</td>\n",
       "      <td>78.11</td>\n",
       "    </tr>\n",
       "    <tr>\n",
       "      <th>...</th>\n",
       "      <td>...</td>\n",
       "      <td>...</td>\n",
       "      <td>...</td>\n",
       "      <td>...</td>\n",
       "      <td>...</td>\n",
       "      <td>...</td>\n",
       "    </tr>\n",
       "    <tr>\n",
       "      <th>35</th>\n",
       "      <td>TOR</td>\n",
       "      <td>9.25</td>\n",
       "      <td>25.37</td>\n",
       "      <td>65.37</td>\n",
       "      <td>18.81</td>\n",
       "      <td>81.19</td>\n",
       "    </tr>\n",
       "    <tr>\n",
       "      <th>36</th>\n",
       "      <td>WAS</td>\n",
       "      <td>10.43</td>\n",
       "      <td>28.22</td>\n",
       "      <td>61.35</td>\n",
       "      <td>21.47</td>\n",
       "      <td>78.53</td>\n",
       "    </tr>\n",
       "  </tbody>\n",
       "</table>\n",
       "</div>"
      ],
      "text/plain": [
       "    team bat_both_pct bat_left_pct bat_right_pct throw_left_pct  \\\n",
       "0    ANA         9.09        24.55         66.36          17.27   \n",
       "1    ARI         9.01        29.61         61.37          21.89   \n",
       "...  ...          ...          ...           ...            ...   \n",
       "35   TOR         9.25        25.37         65.37          18.81   \n",
       "36   WAS        10.43        28.22         61.35          21.47   \n",
       "\n",
       "    throw_right_pct  \n",
       "0             82.73  \n",
       "1             78.11  \n",
       "...             ...  \n",
       "35            81.19  \n",
       "36            78.53  "
      ]
     },
     "metadata": {},
     "output_type": "display_data"
    }
   ],
   "source": [
    "df_preference_stats = pd.read_sql(query, con=engine)\n",
    "preview_table(df_preference_stats, \"df_batting_stats\")"
   ]
  },
  {
   "cell_type": "code",
   "execution_count": 604,
   "id": "a02956c8-b80d-42b0-8866-0bb0b952b8ba",
   "metadata": {},
   "outputs": [
    {
     "data": {
      "text/html": [
       "<div>\n",
       "<style scoped>\n",
       "    .dataframe tbody tr th:only-of-type {\n",
       "        vertical-align: middle;\n",
       "    }\n",
       "\n",
       "    .dataframe tbody tr th {\n",
       "        vertical-align: top;\n",
       "    }\n",
       "\n",
       "    .dataframe thead th {\n",
       "        text-align: right;\n",
       "    }\n",
       "</style>\n",
       "<table border=\"1\" class=\"dataframe\">\n",
       "  <thead>\n",
       "    <tr style=\"text-align: right;\">\n",
       "      <th></th>\n",
       "      <th>bat_both_pct</th>\n",
       "      <th>bat_left_pct</th>\n",
       "      <th>bat_right_pct</th>\n",
       "      <th>throw_left_pct</th>\n",
       "      <th>throw_right_pct</th>\n",
       "    </tr>\n",
       "  </thead>\n",
       "  <tbody>\n",
       "    <tr>\n",
       "      <th>mean</th>\n",
       "      <td>9.494865</td>\n",
       "      <td>27.857027</td>\n",
       "      <td>62.647297</td>\n",
       "      <td>21.16027</td>\n",
       "      <td>78.84</td>\n",
       "    </tr>\n",
       "    <tr>\n",
       "      <th>max</th>\n",
       "      <td>18.520000</td>\n",
       "      <td>32.130000</td>\n",
       "      <td>68.600000</td>\n",
       "      <td>25.00000</td>\n",
       "      <td>87.50</td>\n",
       "    </tr>\n",
       "    <tr>\n",
       "      <th>25%</th>\n",
       "      <td>8.520000</td>\n",
       "      <td>26.960000</td>\n",
       "      <td>61.210000</td>\n",
       "      <td>20.06000</td>\n",
       "      <td>76.94</td>\n",
       "    </tr>\n",
       "    <tr>\n",
       "      <th>50%</th>\n",
       "      <td>9.350000</td>\n",
       "      <td>28.220000</td>\n",
       "      <td>63.020000</td>\n",
       "      <td>21.27000</td>\n",
       "      <td>78.73</td>\n",
       "    </tr>\n",
       "    <tr>\n",
       "      <th>75%</th>\n",
       "      <td>10.500000</td>\n",
       "      <td>29.170000</td>\n",
       "      <td>63.730000</td>\n",
       "      <td>23.06000</td>\n",
       "      <td>79.94</td>\n",
       "    </tr>\n",
       "  </tbody>\n",
       "</table>\n",
       "</div>"
      ],
      "text/plain": [
       "      bat_both_pct  bat_left_pct  bat_right_pct  throw_left_pct  \\\n",
       "mean      9.494865     27.857027      62.647297        21.16027   \n",
       "max      18.520000     32.130000      68.600000        25.00000   \n",
       "25%       8.520000     26.960000      61.210000        20.06000   \n",
       "50%       9.350000     28.220000      63.020000        21.27000   \n",
       "75%      10.500000     29.170000      63.730000        23.06000   \n",
       "\n",
       "      throw_right_pct  \n",
       "mean            78.84  \n",
       "max             87.50  \n",
       "25%             76.94  \n",
       "50%             78.73  \n",
       "75%             79.94  "
      ]
     },
     "execution_count": 604,
     "metadata": {},
     "output_type": "execute_result"
    }
   ],
   "source": [
    "df_preference_stats.describe().loc[['mean', 'max', '25%', '50%', '75%']]"
   ]
  },
  {
   "cell_type": "markdown",
   "id": "b6411c85-d71b-44af-b7bd-d6b6efecc87f",
   "metadata": {},
   "source": [
    "- Batting Preference across teams: Teams tend to have on average have 63% of players who prefer right-handed batting (with as much as 69% of team players preferring this style), with 28% preferring left, only 9% players preferring for both on average across teams.\n",
    "- THrow preference across teams: An overwhelming 79% of players on team on average prefer right-handed throws and only 21% left on average show prefence for left. The majority (80%) of players on a team prefer the right throws 75% of the time or less.\n",
    "So, we see much more variability in batting preference than throws."
   ]
  },
  {
   "cell_type": "code",
   "execution_count": 687,
   "id": "d24946a9-5e99-4da1-a649-3cba7e409222",
   "metadata": {},
   "outputs": [],
   "source": [
    "# Separate into two DataFrames for Batting and Throwing\n",
    "batting_df = df_preference_stats.set_index('team')[['bat_left_pct', 'bat_right_pct', 'bat_both_pct']].sort_index()\n",
    "throwing_df = df_preference_stats.set_index('team')[['throw_left_pct', 'throw_right_pct']].sort_index()"
   ]
  },
  {
   "cell_type": "code",
   "execution_count": 689,
   "id": "335e031f-3207-4d0f-a7a3-cb815b70a08c",
   "metadata": {},
   "outputs": [
    {
     "name": "stderr",
     "output_type": "stream",
     "text": [
      "C:\\Users\\shree\\AppData\\Local\\Temp\\ipykernel_64800\\3633635630.py:45: UserWarning: set_ticklabels() should only be used with a fixed number of ticks, i.e. after set_ticks() or using a FixedLocator.\n",
      "  ax.set_xticklabels(throwing_df.index, rotation=90)\n",
      "C:\\Users\\shree\\AppData\\Local\\Temp\\ipykernel_64800\\3633635630.py:45: UserWarning: set_ticklabels() should only be used with a fixed number of ticks, i.e. after set_ticks() or using a FixedLocator.\n",
      "  ax.set_xticklabels(throwing_df.index, rotation=90)\n"
     ]
    },
    {
     "data": {
      "image/png": "[encoded data removed]",
      "text/plain": [
       "<Figure size 1400x800 with 2 Axes>"
      ]
     },
     "metadata": {},
     "output_type": "display_data"
    }
   ],
   "source": [
    "# Define colors\n",
    "batting_colors = {\n",
    "    'bat_left_pct': '#1f77b4',    # Blue\n",
    "    'bat_right_pct': '#ff7f0e',   # Orange\n",
    "    'bat_both_pct': '#2ca02c',    # Green\n",
    "}\n",
    "\n",
    "throwing_colors = {\n",
    "    'throw_left_pct': '#d62728',  # Red\n",
    "    'throw_right_pct': '#9467bd', # Purple\n",
    "}\n",
    "\n",
    "# Create subplots\n",
    "fig, axes = plt.subplots(2, 1, figsize=(14, 8), sharex=True)\n",
    "\n",
    "# --- Batting preferences plot ---\n",
    "bottom_vals = None\n",
    "for col in batting_colors.keys():\n",
    "    axes[0].bar(batting_df.index, batting_df[col], label=col.replace('_pct', '').replace('_', ' ').title(),\n",
    "                bottom=bottom_vals, color=batting_colors[col])\n",
    "    if bottom_vals is None:\n",
    "        bottom_vals = batting_df[col]\n",
    "    else:\n",
    "        bottom_vals += batting_df[col]\n",
    "\n",
    "axes[0].set_title('Batting Preferences by Team', fontweight='bold', fontsize=13)\n",
    "axes[0].set_ylabel('Percentage (%)')\n",
    "axes[0].legend(title='Batting Preference', bbox_to_anchor=(1.02, 1), loc='upper left')\n",
    "\n",
    "# --- Throwing preferences plot ---\n",
    "bottom_vals = None\n",
    "for col in throwing_colors.keys():\n",
    "    axes[1].bar(throwing_df.index, throwing_df[col], label=col.replace('_pct', '').replace('_', ' ').title(),\n",
    "                bottom=bottom_vals, color=throwing_colors[col])\n",
    "    if bottom_vals is None:\n",
    "        bottom_vals = throwing_df[col]\n",
    "    else:\n",
    "        bottom_vals += throwing_df[col]\n",
    "\n",
    "axes[1].set_title('Throwing Preferences by Team', fontweight='bold', fontsize=13)\n",
    "axes[1].legend(title='Throwing Preference', bbox_to_anchor=(1.02, 1), loc='upper left')\n",
    "\n",
    "# Adjust x-axis\n",
    "for ax in axes:\n",
    "    ax.set_xticklabels(throwing_df.index, rotation=90)\n",
    "    ax.grid(axis='y', linestyle='--', alpha=0.6)\n",
    "    ax.set_ylabel('Percentage (%)')\n",
    "\n",
    "plt.tight_layout()\n",
    "plt.show()"
   ]
  },
  {
   "cell_type": "markdown",
   "id": "481ab57e-fb8a-4509-902e-6b8a95e01fc0",
   "metadata": {},
   "source": [
    "Trend from the viz is quite obvious: most are right throwers and batters."
   ]
  },
  {
   "cell_type": "markdown",
   "id": "95a030f8-dde3-47da-b628-8a612ff38bfd",
   "metadata": {},
   "source": [
    "### 5.3 Height and Weight Trends Over Time\n",
    "***SQL Query:***\n",
    "\n",
    "```sql"
   ]
  },
  {
   "cell_type": "markdown",
   "id": "8607c4ab-bc5d-4bf0-84d0-1934bff48891",
   "metadata": {},
   "source": [
    "***Query Result:***"
   ]
  },
  {
   "cell_type": "code",
   "execution_count": 736,
   "id": "a8db787e-dc7d-42e8-88dc-02c6865e8ece",
   "metadata": {},
   "outputs": [],
   "source": [
    "query = \"\"\"\n",
    "WITH avg_hw AS (\n",
    "\tSELECT FLOOR(EXTRACT(YEAR FROM debut) / 10) * 10 AS decade, \n",
    "\t\t\tROUND(AVG(height)) AS avg_height_inches, ROUND(AVG(weight)) AS avg_weight_lbs\n",
    "\tFROM players\n",
    "\tGROUP BY FLOOR(EXTRACT(YEAR FROM debut) / 10) * 10)\n",
    "\n",
    "SELECT  decade::INT, avg_height_inches,\n",
    "\t\tavg_height_inches - LAG(avg_height_inches) OVER (ORDER BY decade) AS height_diff,\n",
    "\t\tavg_weight_lbs,\n",
    "\t\tavg_weight_lbs - LAG(avg_weight_lbs) OVER (ORDER BY decade) AS weight_diff\n",
    "FROM avg_hw\n",
    "WHERE decade IS NOT NULL\n",
    "ORDER BY decade;\n",
    "\"\"\""
   ]
  },
  {
   "cell_type": "code",
   "execution_count": 740,
   "id": "e2f24c94-212d-424f-bf08-b3a7f2a1ac14",
   "metadata": {},
   "outputs": [
    {
     "data": {
      "text/markdown": [
       "**Preview of `df_height_weight_stats`:**"
      ],
      "text/plain": [
       "<IPython.core.display.Markdown object>"
      ]
     },
     "metadata": {},
     "output_type": "display_data"
    },
    {
     "data": {
      "text/html": [
       "<div>\n",
       "<style scoped>\n",
       "    .dataframe tbody tr th:only-of-type {\n",
       "        vertical-align: middle;\n",
       "    }\n",
       "\n",
       "    .dataframe tbody tr th {\n",
       "        vertical-align: top;\n",
       "    }\n",
       "\n",
       "    .dataframe thead th {\n",
       "        text-align: right;\n",
       "    }\n",
       "</style>\n",
       "<table border=\"1\" class=\"dataframe\">\n",
       "  <thead>\n",
       "    <tr style=\"text-align: right;\">\n",
       "      <th></th>\n",
       "      <th>decade</th>\n",
       "      <th>avg_height_inches</th>\n",
       "      <th>height_diff</th>\n",
       "      <th>avg_weight_lbs</th>\n",
       "      <th>weight_diff</th>\n",
       "    </tr>\n",
       "  </thead>\n",
       "  <tbody>\n",
       "    <tr>\n",
       "      <th>0</th>\n",
       "      <td>1870</td>\n",
       "      <td>69.0</td>\n",
       "      <td>NaN</td>\n",
       "      <td>163.0</td>\n",
       "      <td>NaN</td>\n",
       "    </tr>\n",
       "    <tr>\n",
       "      <th>1</th>\n",
       "      <td>1880</td>\n",
       "      <td>70.0</td>\n",
       "      <td>1.0</td>\n",
       "      <td>169.0</td>\n",
       "      <td>6.0</td>\n",
       "    </tr>\n",
       "    <tr>\n",
       "      <th>...</th>\n",
       "      <td>...</td>\n",
       "      <td>...</td>\n",
       "      <td>...</td>\n",
       "      <td>...</td>\n",
       "      <td>...</td>\n",
       "    </tr>\n",
       "    <tr>\n",
       "      <th>13</th>\n",
       "      <td>2000</td>\n",
       "      <td>74.0</td>\n",
       "      <td>1.0</td>\n",
       "      <td>206.0</td>\n",
       "      <td>12.0</td>\n",
       "    </tr>\n",
       "    <tr>\n",
       "      <th>14</th>\n",
       "      <td>2010</td>\n",
       "      <td>74.0</td>\n",
       "      <td>0.0</td>\n",
       "      <td>207.0</td>\n",
       "      <td>1.0</td>\n",
       "    </tr>\n",
       "  </tbody>\n",
       "</table>\n",
       "</div>"
      ],
      "text/plain": [
       "    decade avg_height_inches height_diff avg_weight_lbs weight_diff\n",
       "0     1870              69.0         NaN          163.0         NaN\n",
       "1     1880              70.0         1.0          169.0         6.0\n",
       "...    ...               ...         ...            ...         ...\n",
       "13    2000              74.0         1.0          206.0        12.0\n",
       "14    2010              74.0         0.0          207.0         1.0"
      ]
     },
     "metadata": {},
     "output_type": "display_data"
    }
   ],
   "source": [
    "df_height_weight_stats = pd.read_sql_query(query, con=engine)\n",
    "preview_table(df_height_weight_stats, \"df_height_weight_stats\")"
   ]
  },
  {
   "cell_type": "code",
   "execution_count": 774,
   "id": "4568c83f-b9ee-41ff-8a7e-1b6cdca579b6",
   "metadata": {},
   "outputs": [
    {
     "data": {
      "text/html": [
       "<div>\n",
       "<style scoped>\n",
       "    .dataframe tbody tr th:only-of-type {\n",
       "        vertical-align: middle;\n",
       "    }\n",
       "\n",
       "    .dataframe tbody tr th {\n",
       "        vertical-align: top;\n",
       "    }\n",
       "\n",
       "    .dataframe thead th {\n",
       "        text-align: right;\n",
       "    }\n",
       "</style>\n",
       "<table border=\"1\" class=\"dataframe\">\n",
       "  <thead>\n",
       "    <tr style=\"text-align: right;\">\n",
       "      <th></th>\n",
       "      <th>height_diff</th>\n",
       "      <th>weight_diff</th>\n",
       "    </tr>\n",
       "  </thead>\n",
       "  <tbody>\n",
       "    <tr>\n",
       "      <th>count</th>\n",
       "      <td>14.000000</td>\n",
       "      <td>14.000000</td>\n",
       "    </tr>\n",
       "    <tr>\n",
       "      <th>mean</th>\n",
       "      <td>0.357143</td>\n",
       "      <td>3.142857</td>\n",
       "    </tr>\n",
       "    <tr>\n",
       "      <th>25%</th>\n",
       "      <td>0.000000</td>\n",
       "      <td>1.000000</td>\n",
       "    </tr>\n",
       "    <tr>\n",
       "      <th>50%</th>\n",
       "      <td>0.000000</td>\n",
       "      <td>2.000000</td>\n",
       "    </tr>\n",
       "    <tr>\n",
       "      <th>75%</th>\n",
       "      <td>1.000000</td>\n",
       "      <td>5.500000</td>\n",
       "    </tr>\n",
       "    <tr>\n",
       "      <th>min</th>\n",
       "      <td>0.000000</td>\n",
       "      <td>-2.000000</td>\n",
       "    </tr>\n",
       "    <tr>\n",
       "      <th>max</th>\n",
       "      <td>1.000000</td>\n",
       "      <td>12.000000</td>\n",
       "    </tr>\n",
       "  </tbody>\n",
       "</table>\n",
       "</div>"
      ],
      "text/plain": [
       "       height_diff  weight_diff\n",
       "count    14.000000    14.000000\n",
       "mean      0.357143     3.142857\n",
       "25%       0.000000     1.000000\n",
       "50%       0.000000     2.000000\n",
       "75%       1.000000     5.500000\n",
       "min       0.000000    -2.000000\n",
       "max       1.000000    12.000000"
      ]
     },
     "execution_count": 774,
     "metadata": {},
     "output_type": "execute_result"
    }
   ],
   "source": [
    "df_summary_stats = df_height_weight_stats[['height_diff', 'weight_diff']].describe()\n",
    "df_summary_stats.loc[['count', 'mean', '25%', '50%', '75%', 'min', 'max']]"
   ]
  },
  {
   "cell_type": "markdown",
   "id": "18dff570-a083-43bc-b354-73e049e03dc7",
   "metadata": {},
   "source": [
    "Average height differece (decade over decade) is not substantial (0.35 inches) with maximum difference 1 inch between any two decade. That tells us that height mostly stayed consistent (within 0 to +1lbs). However, weight difference is slightly more (average 3.14 lbs and 75% of the time, below or at 5.5lb decade over decade difference). It is as much as 12 lbs difference in the 2000s than the previous decade."
   ]
  },
  {
   "cell_type": "code",
   "execution_count": 761,
   "id": "5d329307-afc5-4bbc-b586-a08df6454483",
   "metadata": {},
   "outputs": [
    {
     "data": {
      "image/png": "[encoded data removed]",
      "text/plain": [
       "<Figure size 640x480 with 1 Axes>"
      ]
     },
     "metadata": {},
     "output_type": "display_data"
    }
   ],
   "source": [
    "sns.lineplot(data=df_height_weight_stats, x='decade', y='weight_diff')\n",
    "plt.xticks(range(1880, 2020, 10))\n",
    "\n",
    "plt.show()"
   ]
  },
  {
   "cell_type": "code",
   "execution_count": 794,
   "id": "a27b762d-062c-41d6-a6b2-d490228cef0c",
   "metadata": {},
   "outputs": [
    {
     "data": {
      "image/png": "[encoded data removed]",
      "text/plain": [
       "<Figure size 640x480 with 1 Axes>"
      ]
     },
     "metadata": {},
     "output_type": "display_data"
    }
   ],
   "source": [
    "sns.barplot(data=df_height_weight_stats, x='decade', y='avg_weight_lbs')\n",
    "# plt.xticks(range(1880, 2020, 10))\n",
    "\n",
    "plt.show()"
   ]
  },
  {
   "cell_type": "code",
   "execution_count": 783,
   "id": "c6be5264-cada-4cf0-a79a-0da296965b5c",
   "metadata": {},
   "outputs": [
    {
     "data": {
      "image/png": "[encoded data removed]",
      "text/plain": [
       "<Figure size 640x480 with 1 Axes>"
      ]
     },
     "metadata": {},
     "output_type": "display_data"
    }
   ],
   "source": [
    "sns.lineplot(data=df_height_weight_stats, x='decade', y='avg_height_inches')\n",
    "plt.xticks(range(1880, 2020, 10))\n",
    "\n",
    "plt.show()"
   ]
  },
  {
   "cell_type": "markdown",
   "id": "8d8deb61-40b7-4b3e-be88-43e53b8651e5",
   "metadata": {},
   "source": [
    "height is more of a gradual increase. It increases by 1 and stays consistent over a few decades and goes up, only going up by 1lb at a time if any. The overall, trend is upward from 1880 to 2010 but more gradual and steady with less fluctuations.\n",
    "\n",
    "weight has peaks and declines (around 160lbs in 1880 to ~200lbs by 2010s). Notable peaks at 2000 (up by 12 lbs) and the movement is still up in 2010s but this time by 2 lbs increase."
   ]
  },
  {
   "cell_type": "markdown",
   "id": "edc2a640-f0ab-4555-b638-339fac39db33",
   "metadata": {},
   "source": [
    "## 4. Concluding Summary\n",
    "\n",
    "Refactor Notes:\n",
    "- Hide SQL Queries:\n",
    "  \n",
    "```\n",
    "with open(\"top_spenders.sql\") as f:\n",
    "    query = f.read()\n",
    "\n",
    "df_top_20_pct = pd.read_sql(query, con=engine)\n",
    "display(df_top_20_pct)\n",
    "\n",
    "```\n",
    "\n",
    "- Visualization Enhancement and embedde insights into the Viz title: ggplot.\n",
    "- Standardize quotes\n",
    "- Refine Insights\n",
    "- read_sql_query for using with WITH "
   ]
  }
 ],
 "metadata": {
  "kernelspec": {
   "display_name": "Python [conda env:base] *",
   "language": "python",
   "name": "conda-base-py"
  },
  "language_info": {
   "codemirror_mode": {
    "name": "ipython",
    "version": 3
   },
   "file_extension": ".py",
   "mimetype": "text/x-python",
   "name": "python",
   "nbconvert_exporter": "python",
   "pygments_lexer": "ipython3",
   "version": "3.12.7"
  }
 },
 "nbformat": 4,
 "nbformat_minor": 5
}
